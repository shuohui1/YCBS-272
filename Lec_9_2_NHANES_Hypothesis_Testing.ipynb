{
  "nbformat": 4,
  "nbformat_minor": 0,
  "metadata": {
    "kernelspec": {
      "display_name": "Python 3",
      "language": "python",
      "name": "python3"
    },
    "language_info": {
      "codemirror_mode": {
        "name": "ipython",
        "version": 3
      },
      "file_extension": ".py",
      "mimetype": "text/x-python",
      "name": "python",
      "nbconvert_exporter": "python",
      "pygments_lexer": "ipython3",
      "version": "3.6.3"
    },
    "colab": {
      "name": "Lec 9_2 NHANES Hypothesis Testing.ipynb",
      "version": "0.3.2",
      "provenance": [],
      "collapsed_sections": [],
      "include_colab_link": true
    }
  },
  "cells": [
    {
      "cell_type": "markdown",
      "metadata": {
        "id": "view-in-github",
        "colab_type": "text"
      },
      "source": [
        "<a href=\"https://colab.research.google.com/github/arbi11/YCBS-272/blob/master/Lec_9_2_NHANES_Hypothesis_Testing.ipynb\" target=\"_parent\"><img src=\"https://colab.research.google.com/assets/colab-badge.svg\" alt=\"Open In Colab\"/></a>"
      ]
    },
    {
      "cell_type": "markdown",
      "metadata": {
        "id": "IA0f1fRa9kaG",
        "colab_type": "text"
      },
      "source": [
        "# Hypothesis Testing\n",
        "\n",
        "In this notebook we demonstrate formal hypothesis testing using the NHANES data.\n"
      ]
    },
    {
      "cell_type": "code",
      "metadata": {
        "id": "9frr1zUM9kaK",
        "colab_type": "code",
        "colab": {}
      },
      "source": [
        "import pandas as pd\n",
        "import numpy as np\n",
        "import matplotlib\n",
        "matplotlib.use('Agg') # workaround, there may be a better way\n",
        "import seaborn as sns\n",
        "%matplotlib inline\n",
        "import matplotlib.pyplot as plt\n",
        "import statsmodels.api as sm\n",
        "import scipy.stats.distributions as dist"
      ],
      "execution_count": 0,
      "outputs": []
    },
    {
      "cell_type": "markdown",
      "metadata": {
        "id": "GE4HxptH9kaP",
        "colab_type": "text"
      },
      "source": [
        "Below we read the data, and convert some of the integer codes to text values."
      ]
    },
    {
      "cell_type": "code",
      "metadata": {
        "id": "ZfFzrSdg9wOA",
        "colab_type": "code",
        "colab": {}
      },
      "source": [
        "! git clone https://github.com/arbi11/YCBS-272.git\n",
        "! ls"
      ],
      "execution_count": 0,
      "outputs": []
    },
    {
      "cell_type": "code",
      "metadata": {
        "id": "CITGyK-j9xoJ",
        "colab_type": "code",
        "colab": {}
      },
      "source": [
        "cd YCBS-272/"
      ],
      "execution_count": 0,
      "outputs": []
    },
    {
      "cell_type": "code",
      "metadata": {
        "id": "IyXTiaQ99kaQ",
        "colab_type": "code",
        "colab": {}
      },
      "source": [
        "url = \"nhanes_2015_2016.csv\"\n",
        "da = pd.read_csv(url)\n",
        "\n",
        "da[\"SMQ020x\"] = da.SMQ020.replace({1: \"Yes\", 2: \"No\", 7: np.nan, 9: np.nan})"
      ],
      "execution_count": 0,
      "outputs": []
    },
    {
      "cell_type": "code",
      "metadata": {
        "id": "2P212MQn9kaS",
        "colab_type": "code",
        "colab": {}
      },
      "source": [
        "da[\"SMQ020x\"].head()"
      ],
      "execution_count": 0,
      "outputs": []
    },
    {
      "cell_type": "code",
      "metadata": {
        "id": "nJag1puq9kaU",
        "colab_type": "code",
        "colab": {}
      },
      "source": [
        "da[\"RIAGENDRx\"] = da.RIAGENDR.replace({1: \"Male\", 2: \"Female\"})\n",
        "\n",
        "da[\"RIAGENDRx\"].head()"
      ],
      "execution_count": 0,
      "outputs": []
    },
    {
      "cell_type": "markdown",
      "metadata": {
        "id": "Wl9TeroA9kaW",
        "colab_type": "text"
      },
      "source": [
        "### Hypothesis Tests for One Proportion\n",
        "\n",
        "The most basic hypothesis test may be the one-sample test for a proportion.  \n",
        "\n",
        "This test is used if we have specified a particular value as the null value for the proportion, and we wish to assess if the data are compatible with the true parameter value being equal to this specified value.  \n",
        "\n",
        "One-sample tests are not used very often in practice, because it is not very common that we have a specific fixed value to use for comparison. \n",
        "\n",
        "For illustration, imagine that the rate of lifetime smoking in another country was known to be 40%, and we wished to assess whether the rate of lifetime smoking in the US were different from 40%.  In the following notebook cell, we carry out the (two-sided) one-sample test that the population proportion of smokers is 0.4, and obtain a p-value of 0.43.  This indicates that the NHANES data are compatible with the proportion of (ever) smokers in the US being 40%. "
      ]
    },
    {
      "cell_type": "code",
      "metadata": {
        "id": "GkXD57Zu9kaW",
        "colab_type": "code",
        "colab": {}
      },
      "source": [
        "x = da.SMQ020x.dropna() == \"Yes\""
      ],
      "execution_count": 0,
      "outputs": []
    },
    {
      "cell_type": "code",
      "metadata": {
        "id": "yagUL1a29kaa",
        "colab_type": "code",
        "colab": {}
      },
      "source": [
        "p = x.mean()"
      ],
      "execution_count": 0,
      "outputs": []
    },
    {
      "cell_type": "code",
      "metadata": {
        "id": "QV33lyNB9kac",
        "colab_type": "code",
        "colab": {}
      },
      "source": [
        "p"
      ],
      "execution_count": 0,
      "outputs": []
    },
    {
      "cell_type": "code",
      "metadata": {
        "id": "lz3qJR9v9kae",
        "colab_type": "code",
        "colab": {}
      },
      "source": [
        "se = np.sqrt(.4 * (1 - .4)/ len(x))\n",
        "se"
      ],
      "execution_count": 0,
      "outputs": []
    },
    {
      "cell_type": "code",
      "metadata": {
        "id": "lTMxTMEe9kag",
        "colab_type": "code",
        "colab": {}
      },
      "source": [
        "test_stat = (p - 0.4) / se\n",
        "test_stat"
      ],
      "execution_count": 0,
      "outputs": []
    },
    {
      "cell_type": "code",
      "metadata": {
        "id": "03Hm722g9kak",
        "colab_type": "code",
        "colab": {}
      },
      "source": [
        "pvalue = 2 * dist.norm.cdf(-np.abs(test_stat))\n",
        "print(test_stat, pvalue)"
      ],
      "execution_count": 0,
      "outputs": []
    },
    {
      "cell_type": "markdown",
      "metadata": {
        "id": "FBg2spDs9kam",
        "colab_type": "text"
      },
      "source": [
        "The following cell carries out the same test as performed above using the Statsmodels library.  \n"
      ]
    },
    {
      "cell_type": "code",
      "metadata": {
        "id": "yWVKEH5y9kan",
        "colab_type": "code",
        "colab": {}
      },
      "source": [
        "sm.stats.proportions_ztest(x.sum(), len(x), 0.4)"
      ],
      "execution_count": 0,
      "outputs": []
    },
    {
      "cell_type": "markdown",
      "metadata": {
        "id": "HlfHwu8P9kat",
        "colab_type": "text"
      },
      "source": [
        "### Hypothesis Tests for Two Proportions\n",
        "\n",
        "Comparative tests tend to be used much more frequently than tests comparing one population to a fixed value.  A two-sample test of proportions is used to assess whether the proportion of individuals with some trait differs between two sub-populations.  For example, we can compare the smoking rates between females and males. Since smoking rates vary strongly with age, we do this in the subpopulation of people between 20 and 25 years of age. \n",
        "\n",
        "We find that the smoking rate for men is around 10 percentage points greater than the smoking rate for females, and this difference is statistically significant (the p-value is around 0.01)."
      ]
    },
    {
      "cell_type": "code",
      "metadata": {
        "id": "sOaWiNPL9kau",
        "colab_type": "code",
        "colab": {}
      },
      "source": [
        "dx = da[[\"SMQ020x\", \"RIDAGEYR\", \"RIAGENDRx\"]].dropna()\n",
        "\n",
        "dx.head()"
      ],
      "execution_count": 0,
      "outputs": []
    },
    {
      "cell_type": "code",
      "metadata": {
        "id": "ED_posUO9kaw",
        "colab_type": "code",
        "colab": {}
      },
      "source": [
        "p = dx.groupby(\"RIAGENDRx\")[\"SMQ020x\"].agg([lambda z: np.mean(z == \"Yes\"), \"size\"])\n",
        "p.columns = [\"Smoke\", \"N\"]\n",
        "print(p)"
      ],
      "execution_count": 0,
      "outputs": []
    },
    {
      "cell_type": "markdown",
      "metadata": {
        "id": "lHRBji8u9kay",
        "colab_type": "text"
      },
      "source": [
        "Essentially the same test as above can be conducted by converting the \"Yes\"/\"No\" responses to numbers (Yes=1, No=0) and conducting a two-sample t-test, as below:"
      ]
    },
    {
      "cell_type": "code",
      "metadata": {
        "id": "7WGbNO3u9kaz",
        "colab_type": "code",
        "colab": {}
      },
      "source": [
        "p_comb = (dx.SMQ020x == \"Yes\").mean()\n",
        "va = p_comb * (1 - p_comb)\n",
        "\n",
        "se = np.sqrt(va * (1 / p.N.Female + 1 / p.N.Male))"
      ],
      "execution_count": 0,
      "outputs": []
    },
    {
      "cell_type": "code",
      "metadata": {
        "id": "SWjbM0Er9ka1",
        "colab_type": "code",
        "colab": {}
      },
      "source": [
        "(p_comb, va, se)"
      ],
      "execution_count": 0,
      "outputs": []
    },
    {
      "cell_type": "code",
      "metadata": {
        "id": "BPyfWxeF9ka4",
        "colab_type": "code",
        "colab": {}
      },
      "source": [
        "test_stat = (p.Smoke.Female - p.Smoke.Male) / se\n",
        "p_value = 2 * dist.norm.cdf(-np.abs(test_stat))\n",
        "(test_stat, p_value)"
      ],
      "execution_count": 0,
      "outputs": []
    },
    {
      "cell_type": "code",
      "metadata": {
        "id": "BAmOpWqr9ka6",
        "colab_type": "code",
        "colab": {}
      },
      "source": [
        "dx_females = dx.loc[dx.RIAGENDRx == \"Female\", \"SMQ020x\"].replace({\"Yes\": 1, \"No\": 0})\n",
        "dx_females"
      ],
      "execution_count": 0,
      "outputs": []
    },
    {
      "cell_type": "code",
      "metadata": {
        "id": "AsJbQE9F9ka-",
        "colab_type": "code",
        "colab": {}
      },
      "source": [
        "dx_males = dx.loc[dx.RIAGENDRx == \"Male\", \"SMQ020x\"].replace({\"Yes\": 1, \"No\": 0})\n",
        "dx_males"
      ],
      "execution_count": 0,
      "outputs": []
    },
    {
      "cell_type": "code",
      "metadata": {
        "id": "vIg0oyfx9kbC",
        "colab_type": "code",
        "colab": {}
      },
      "source": [
        "sm.stats.ttest_ind(dx_females, dx_males)"
      ],
      "execution_count": 0,
      "outputs": []
    }
  ]
}