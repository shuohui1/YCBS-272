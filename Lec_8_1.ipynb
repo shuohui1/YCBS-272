{
  "nbformat": 4,
  "nbformat_minor": 0,
  "metadata": {
    "colab": {
      "name": "Lec 8_1.ipynb",
      "version": "0.3.2",
      "provenance": [],
      "include_colab_link": true
    },
    "kernelspec": {
      "name": "python3",
      "display_name": "Python 3"
    }
  },
  "cells": [
    {
      "cell_type": "markdown",
      "metadata": {
        "id": "view-in-github",
        "colab_type": "text"
      },
      "source": [
        "<a href=\"https://colab.research.google.com/github/arbi11/YCBS-272/blob/master/Lec_8_1.ipynb\" target=\"_parent\"><img src=\"https://colab.research.google.com/assets/colab-badge.svg\" alt=\"Open In Colab\"/></a>"
      ]
    },
    {
      "cell_type": "markdown",
      "metadata": {
        "id": "Nc0fk4aQ2Up0",
        "colab_type": "text"
      },
      "source": [
        "## 1. Binomial Distribution\n",
        "The binomial distribution model deals with finding the probability of success of an event which has only two possible outcomes in a series of experiments. For example, tossing of a coin always gives a head or a tail. The probability of finding exactly 3 heads in tossing a coin repeatedly for 10 times is estimated during the binomial distribution.\n",
        "\n",
        "We use the seaborn python library which has in-built functions to create such probability distribution graphs. Also, the scipy package helps is creating the binomial distribution.\n",
        "\n"
      ]
    },
    {
      "cell_type": "code",
      "metadata": {
        "id": "vXeeF0lf1N_6",
        "colab_type": "code",
        "colab": {}
      },
      "source": [
        "from scipy.stats import binom\n",
        "import seaborn as sb"
      ],
      "execution_count": 0,
      "outputs": []
    },
    {
      "cell_type": "markdown",
      "metadata": {
        "id": "TgSjwbcQ11tq",
        "colab_type": "text"
      },
      "source": [
        "Generate random variates of given binomial type."
      ]
    },
    {
      "cell_type": "code",
      "metadata": {
        "id": "Dj9zi8_l2uJU",
        "colab_type": "code",
        "colab": {}
      },
      "source": [
        "binom.rvs(size=10,n=20,p=0.8)\n"
      ],
      "execution_count": 0,
      "outputs": []
    },
    {
      "cell_type": "code",
      "metadata": {
        "id": "IsQA2u-11ROq",
        "colab_type": "code",
        "colab": {}
      },
      "source": [
        "data_binom = binom.rvs(n=10,p=0.5,loc=0,size=100)\n",
        "data_binom[:50]"
      ],
      "execution_count": 0,
      "outputs": []
    },
    {
      "cell_type": "code",
      "metadata": {
        "id": "9ySXYTAK1VBg",
        "colab_type": "code",
        "colab": {}
      },
      "source": [
        "ax = sb.distplot(data_binom,\n",
        "                  kde=True,\n",
        "                  color='blue',\n",
        "                  hist_kws={\"linewidth\": 25,'alpha':1})\n",
        "ax.set(xlabel='Binomial', ylabel='Frequency')"
      ],
      "execution_count": 0,
      "outputs": []
    },
    {
      "cell_type": "markdown",
      "metadata": {
        "id": "G6zBpYYG-dyQ",
        "colab_type": "text"
      },
      "source": [
        "### 1. Question: Observe what happens if you change:\n",
        "\n",
        "\n",
        "\n",
        "1.   Probability of occurence of event (p)\n",
        "2.   Number of sample (size)\n",
        "\n"
      ]
    },
    {
      "cell_type": "code",
      "metadata": {
        "id": "52w3oKQd-wRb",
        "colab_type": "code",
        "colab": {}
      },
      "source": [
        ""
      ],
      "execution_count": 0,
      "outputs": []
    },
    {
      "cell_type": "markdown",
      "metadata": {
        "id": "km-5la1n-GbS",
        "colab_type": "text"
      },
      "source": [
        "## 2. Normal Distribution\n",
        "The normal distribution is a form presenting data by arranging the probability distribution of each value in the data.\n",
        "Most values remain around the mean value making the arrangement symmetric.\n",
        "\n",
        "We use various functions in numpy library to mathematically calculate the values for a normal distribution. Histograms are created over which we plot the probability distribution curve."
      ]
    },
    {
      "cell_type": "code",
      "metadata": {
        "id": "kcatUyCg3w2S",
        "colab_type": "code",
        "colab": {}
      },
      "source": [
        "import matplotlib.pyplot as plt\n",
        "import numpy as np\n",
        "\n",
        "mu, sigma = 0.5, 0.1\n",
        "s = np.random.normal(mu, sigma, 1000)"
      ],
      "execution_count": 0,
      "outputs": []
    },
    {
      "cell_type": "code",
      "metadata": {
        "id": "Dp3lKTEZ-QYy",
        "colab_type": "code",
        "colab": {}
      },
      "source": [
        "# Create the bins and histogram\n",
        "count, bins, ignored = plt.hist(s, 20, normed=True)\n",
        "\n",
        "# Plot the distribution curve\n",
        "plt.plot(bins, 1/(sigma * np.sqrt(2 * np.pi)) *\n",
        "    np.exp( - (bins - mu)**2 / (2 * sigma**2) ),       linewidth=3, color='y')\n",
        "plt.show()"
      ],
      "execution_count": 0,
      "outputs": []
    },
    {
      "cell_type": "markdown",
      "metadata": {
        "id": "WveoXJBb-x_W",
        "colab_type": "text"
      },
      "source": [
        "### 2. Question: Observe the behavior of the distribution with changing the mean and SD"
      ]
    },
    {
      "cell_type": "code",
      "metadata": {
        "id": "zlPXHR2h-RR3",
        "colab_type": "code",
        "colab": {}
      },
      "source": [
        ""
      ],
      "execution_count": 0,
      "outputs": []
    },
    {
      "cell_type": "markdown",
      "metadata": {
        "id": "CQnZMIByFjBk",
        "colab_type": "text"
      },
      "source": [
        "## 3. Central Limit Theorem\n",
        "\n",
        "**Example: Dice**\n",
        "\n",
        "a die is a cube with a different number on each side from 1-to-6. Each number has a 1-in-6 likelihood to turn up from a roll. "
      ]
    },
    {
      "cell_type": "code",
      "metadata": {
        "id": "U3VyiXJWFnIt",
        "colab_type": "code",
        "colab": {}
      },
      "source": [
        "# generate a sample of die rolls\n",
        "rolls = np.random.randint(1, 7, 50)"
      ],
      "execution_count": 0,
      "outputs": []
    },
    {
      "cell_type": "code",
      "metadata": {
        "id": "zY6H3oF_Fowh",
        "colab_type": "code",
        "colab": {}
      },
      "source": [
        "# generate random dice rolls\n",
        "from numpy.random import seed\n",
        "from numpy.random import randint\n",
        "from numpy import mean\n",
        "# seed the random number generator\n",
        "seed(1)\n",
        "# generate a sample of die rolls\n",
        "rolls = randint(1, 7, 50)\n",
        "print(rolls)\n",
        "print(mean(rolls))"
      ],
      "execution_count": 0,
      "outputs": []
    },
    {
      "cell_type": "markdown",
      "metadata": {
        "id": "vTK4hEUkGHf_",
        "colab_type": "text"
      },
      "source": [
        "Now, we repeat this experiment 1000 times and calculate the mean values of each sample and plot them."
      ]
    },
    {
      "cell_type": "code",
      "metadata": {
        "id": "nz5pYPnDFxkp",
        "colab_type": "code",
        "colab": {}
      },
      "source": [
        "# demonstration of the central limit theorem\n",
        "from numpy.random import seed\n",
        "from numpy.random import randint\n",
        "from numpy import mean\n",
        "from matplotlib import pyplot\n",
        "# seed the random number generator\n",
        "seed(1)\n",
        "# calculate the mean of 50 dice rolls 1000 times\n",
        "means = [mean(randint(1, 7, 50)) for _ in range(1000)]\n",
        "# plot the distribution of sample means\n",
        "pyplot.hist(means)\n",
        "pyplot.show()"
      ],
      "execution_count": 0,
      "outputs": []
    },
    {
      "cell_type": "markdown",
      "metadata": {
        "id": "uF2M0cRjGXJV",
        "colab_type": "text"
      },
      "source": [
        "creating a histogram plot of the sample means."
      ]
    },
    {
      "cell_type": "markdown",
      "metadata": {
        "id": "IG0oLi3fGdT6",
        "colab_type": "text"
      },
      "source": [
        "### 3. What do you observe if you increase the sample size (50 above) and keep the number of trials the same."
      ]
    },
    {
      "cell_type": "code",
      "metadata": {
        "id": "OFriUG0IF-0f",
        "colab_type": "code",
        "colab": {}
      },
      "source": [
        ""
      ],
      "execution_count": 0,
      "outputs": []
    }
  ]
}