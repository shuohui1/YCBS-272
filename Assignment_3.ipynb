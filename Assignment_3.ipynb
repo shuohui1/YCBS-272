{
  "nbformat": 4,
  "nbformat_minor": 0,
  "metadata": {
    "colab": {
      "name": "Assignment #3.ipynb",
      "version": "0.3.2",
      "provenance": [],
      "collapsed_sections": [],
      "include_colab_link": true
    },
    "kernelspec": {
      "name": "python3",
      "display_name": "Python 3"
    }
  },
  "cells": [
    {
      "cell_type": "markdown",
      "metadata": {
        "id": "view-in-github",
        "colab_type": "text"
      },
      "source": [
        "<a href=\"https://colab.research.google.com/github/arbi11/YCBS-272/blob/Assignment-3/Assignment_3.ipynb\" target=\"_parent\"><img src=\"https://colab.research.google.com/assets/colab-badge.svg\" alt=\"Open In Colab\"/></a>"
      ]
    },
    {
      "cell_type": "markdown",
      "metadata": {
        "id": "jWXFGgmY-6oH",
        "colab_type": "text"
      },
      "source": [
        "# Assignment #3\n",
        "[30 points]\n",
        "\n",
        "[Github link](https://github.com/arbi11/YCBS-272/blob/Assignment-3/Assignment_3.ipynb)\n",
        "## TASK 1: Descriptive Statistics\n",
        "This assignment consists of 2 parts\n",
        "\n",
        "* Data Analysis & Model Training [20 points]\n",
        "* Prediction Accuracy [5 points]\n",
        " \n",
        " \n",
        "\n",
        "---\n",
        "\n",
        "\n",
        "For 'Data Analysis & Model Training' the task is to perform explorartory data analysis, identify anomalies or missing values and finally train a model of your choice for prediction.\n",
        " \n",
        " \n",
        "\n",
        "---\n",
        "\n",
        "\n",
        " \n",
        " For the second part in descriptive statistics, you are competing agaist your batchmates in teams. In this case, the team receiving the highest accuracy will be the winner and will score the maximum grade associated in this category. Others will be garded on percentile basis.\n",
        " \n",
        "Rules for submission:\n",
        "* You can submit your entry on mycourses under 'Assignment 3'\n",
        "* You can only make 5 submissions.\n",
        "* Each submission should be accompanied with a screenshot of the accuracy value and the corresponding .ipynb notebook.\n",
        "* At the end of 3 hours, download the .pynb file from colab and submit again on mycourses.\n",
        "* You can also mail me the notebook at arbaaz.khan@mail.mcgill.ca\n",
        "---\n",
        "## TASK 2: Inference Statistics\n",
        "\n",
        "[5 points]\n",
        "\n",
        "You also have a set of questions from Inference statistics which you have to solve as well in a team."
      ]
    },
    {
      "cell_type": "markdown",
      "metadata": {
        "id": "SlVt_LRuEytA",
        "colab_type": "text"
      },
      "source": [
        "## [TASK 1] Desciptive Stat Task"
      ]
    },
    {
      "cell_type": "code",
      "metadata": {
        "id": "0llx95cdFBja",
        "colab_type": "code",
        "colab": {}
      },
      "source": [
        "! git clone https://github.com/arbi11/YCBS-272.git\n",
        "! ls"
      ],
      "execution_count": 0,
      "outputs": []
    },
    {
      "cell_type": "code",
      "metadata": {
        "id": "xbbp48G6FOIK",
        "colab_type": "code",
        "colab": {}
      },
      "source": [
        "! git checkout Assignment-3"
      ],
      "execution_count": 0,
      "outputs": []
    },
    {
      "cell_type": "code",
      "metadata": {
        "id": "gKQsP6yIFI5d",
        "colab_type": "code",
        "colab": {}
      },
      "source": [
        "! ls"
      ],
      "execution_count": 0,
      "outputs": []
    },
    {
      "cell_type": "code",
      "metadata": {
        "id": "AaX1W00vFKTG",
        "colab_type": "code",
        "colab": {}
      },
      "source": [
        "import pandas as pd\n",
        "# Reading the data\n",
        "df = pd.read_csv(\"Assignment_3_classification_task.csv\")"
      ],
      "execution_count": 0,
      "outputs": []
    },
    {
      "cell_type": "markdown",
      "metadata": {
        "id": "Fmw89oL-Ks6r",
        "colab_type": "text"
      },
      "source": [
        "### Perform the TASK 1 as specified above"
      ]
    },
    {
      "cell_type": "code",
      "metadata": {
        "id": "JSK8LWfZKyyq",
        "colab_type": "code",
        "colab": {}
      },
      "source": [
        ""
      ],
      "execution_count": 0,
      "outputs": []
    },
    {
      "cell_type": "code",
      "metadata": {
        "id": "LrJIXm8EKyrb",
        "colab_type": "code",
        "colab": {}
      },
      "source": [
        ""
      ],
      "execution_count": 0,
      "outputs": []
    },
    {
      "cell_type": "code",
      "metadata": {
        "id": "rLLJJQiWKykd",
        "colab_type": "code",
        "colab": {}
      },
      "source": [
        ""
      ],
      "execution_count": 0,
      "outputs": []
    },
    {
      "cell_type": "code",
      "metadata": {
        "id": "wsijQAWnKyc4",
        "colab_type": "code",
        "colab": {}
      },
      "source": [
        ""
      ],
      "execution_count": 0,
      "outputs": []
    },
    {
      "cell_type": "markdown",
      "metadata": {
        "id": "JQj6C41IEzVy",
        "colab_type": "text"
      },
      "source": [
        "## [TASK 2] Inference Stat"
      ]
    },
    {
      "cell_type": "markdown",
      "metadata": {
        "id": "0TEfFPnVE8c5",
        "colab_type": "text"
      },
      "source": [
        "### Confidence intervals case study using NHANES data"
      ]
    },
    {
      "cell_type": "markdown",
      "metadata": {
        "id": "QaxFfiR8HTxJ",
        "colab_type": "text"
      },
      "source": [
        "In this section, we demonstrate the construction of confidence intervals for the proportion of people who smoke. The specific definition of \"smoker\" used here (SMQ020) identifies a person as being a smoker if they self-report as having smoked 100 or more cigarettes in their lifetime. \n",
        "\n",
        "Check this reference for more details: https://wwwn.cdc.gov/nchs/nhanes/search/default.aspx\n"
      ]
    },
    {
      "cell_type": "code",
      "metadata": {
        "id": "IXacEcds-6B0",
        "colab_type": "code",
        "colab": {}
      },
      "source": [
        "da = pd.read_csv(\"nhanes_2015_2016.csv\")"
      ],
      "execution_count": 0,
      "outputs": []
    },
    {
      "cell_type": "markdown",
      "metadata": {
        "id": "kXlUUv-TIK8h",
        "colab_type": "text"
      },
      "source": [
        "First  the numeric codes in the variables of interest are replaced with text labels, and set the rare answers other than \"yes\" and \"no\" to be missing (so they will automatically be omitted from all the analyses below)."
      ]
    },
    {
      "cell_type": "code",
      "metadata": {
        "id": "NMInwEJv93iB",
        "colab_type": "code",
        "colab": {}
      },
      "source": [
        "import numpy as np\n",
        "da[\"SMQ020x\"] = da.SMQ020.replace({1: \"Yes\", 2: \"No\", 7: np.nan, 9: np.nan})  # np.nan represents a missing value\n",
        "da[\"RIAGENDRx\"] = da.RIAGENDR.replace({1: \"Male\", 2: \"Female\"})"
      ],
      "execution_count": 0,
      "outputs": []
    },
    {
      "cell_type": "markdown",
      "metadata": {
        "id": "gjFe80rSI4EI",
        "colab_type": "text"
      },
      "source": [
        "### [1]  You are required to calculate the 95% confidence interval for proportions of smokers separately for females and for males. \n",
        "\n",
        "[2 points]"
      ]
    },
    {
      "cell_type": "code",
      "metadata": {
        "id": "RRU6JaHYMXis",
        "colab_type": "code",
        "colab": {}
      },
      "source": [
        ""
      ],
      "execution_count": 0,
      "outputs": []
    },
    {
      "cell_type": "markdown",
      "metadata": {
        "id": "b9VEHix0JLWg",
        "colab_type": "text"
      },
      "source": [
        "### [2] Confidence intervals comparing two independent proportions of male vs female smokers\n",
        "\n",
        "\n",
        "1.   Define the parameter of interest for the difference between the proprotion of females who smoke and the proportion of males who smoke.\n",
        "2.   Calculate the best estimate\n",
        "\n",
        "1.    Calculate the standard error. \n",
        "\n",
        "2.   Second, construct a 95% confidence interval for the difference in proportions for female and male smokers.\n",
        "\n",
        "[3 points]\n",
        "\n"
      ]
    },
    {
      "cell_type": "code",
      "metadata": {
        "id": "zd7baexrJ-uU",
        "colab_type": "code",
        "colab": {}
      },
      "source": [
        ""
      ],
      "execution_count": 0,
      "outputs": []
    }
  ]
}