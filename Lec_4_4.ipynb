{
  "nbformat": 4,
  "nbformat_minor": 0,
  "metadata": {
    "colab": {
      "name": "Lec 4_4.ipynb",
      "version": "0.3.2",
      "provenance": [],
      "collapsed_sections": [],
      "include_colab_link": true
    },
    "kernelspec": {
      "name": "python3",
      "display_name": "Python 3"
    }
  },
  "cells": [
    {
      "cell_type": "markdown",
      "metadata": {
        "id": "view-in-github",
        "colab_type": "text"
      },
      "source": [
        "<a href=\"https://colab.research.google.com/github/arbi11/YCBS-272/blob/master/Lec_4_4.ipynb\" target=\"_parent\"><img src=\"https://colab.research.google.com/assets/colab-badge.svg\" alt=\"Open In Colab\"/></a>"
      ]
    },
    {
      "cell_type": "markdown",
      "metadata": {
        "id": "5qcYkvoZEFtu",
        "colab_type": "text"
      },
      "source": [
        "# Images & Contours"
      ]
    },
    {
      "cell_type": "code",
      "metadata": {
        "id": "jbgt7KADXMiG",
        "colab_type": "code",
        "colab": {}
      },
      "source": [
        "# Load numpy for math/array operations\n",
        "# and matplotlib for plotting\n",
        "import numpy as np\n",
        "import matplotlib.pyplot as plt"
      ],
      "execution_count": 0,
      "outputs": []
    },
    {
      "cell_type": "code",
      "metadata": {
        "id": "lGazfVNaXfPN",
        "colab_type": "code",
        "colab": {}
      },
      "source": [
        "%matplotlib inline\n",
        "# Set up figure size and DPI for screen demo\n",
        "plt.rcParams['figure.figsize'] = (4,3)\n",
        "plt.rcParams['figure.dpi'] = 150"
      ],
      "execution_count": 0,
      "outputs": []
    },
    {
      "cell_type": "markdown",
      "metadata": {
        "id": "ZeqMXFdkKQt6",
        "colab_type": "text"
      },
      "source": [
        "## 2.3.1 Basic plot\n"
      ]
    },
    {
      "cell_type": "code",
      "metadata": {
        "id": "nhtJzRtmXgz0",
        "colab_type": "code",
        "colab": {}
      },
      "source": [
        "#Generate a smoothed, gaussian random field\n",
        "from scipy.ndimage.filters import gaussian_filter\n",
        "rands2d = gaussian_filter(np.random.normal(size=(512,512)), sigma=10)"
      ],
      "execution_count": 0,
      "outputs": []
    },
    {
      "cell_type": "code",
      "metadata": {
        "id": "nqwsb1N3Xiaj",
        "colab_type": "code",
        "colab": {}
      },
      "source": [
        "#Basic imshow\n",
        "plt.imshow(rands2d)\n",
        "plt.colorbar()"
      ],
      "execution_count": 0,
      "outputs": []
    },
    {
      "cell_type": "markdown",
      "metadata": {
        "id": "v851ml7MXnbc",
        "colab_type": "text"
      },
      "source": [
        "## 2.3.2 left right top bottom [LRBT]"
      ]
    },
    {
      "cell_type": "code",
      "metadata": {
        "id": "j3TOzkVmXj48",
        "colab_type": "code",
        "colab": {}
      },
      "source": [
        "#Extent\n",
        "plt.imshow(rands2d, extent= [-1, 1, -1, 1])"
      ],
      "execution_count": 0,
      "outputs": []
    },
    {
      "cell_type": "markdown",
      "metadata": {
        "id": "APr3UHsMXn8U",
        "colab_type": "text"
      },
      "source": [
        "## 2.3.3 Max min of the colorbar"
      ]
    },
    {
      "cell_type": "code",
      "metadata": {
        "id": "F8Tv0U6gXpsi",
        "colab_type": "code",
        "colab": {}
      },
      "source": [
        "#Min/Max\n",
        "plt.imshow(rands2d, vmax= 0.05, vmin= -0.05)\n",
        "plt.colorbar()"
      ],
      "execution_count": 0,
      "outputs": []
    },
    {
      "cell_type": "markdown",
      "metadata": {
        "id": "YhxxBLdxXqeU",
        "colab_type": "text"
      },
      "source": [
        "## 2.3.4 Can also set the aspect ratio"
      ]
    },
    {
      "cell_type": "code",
      "metadata": {
        "id": "Za3xnmTdXqyF",
        "colab_type": "code",
        "colab": {}
      },
      "source": [
        "#Min/Max\n",
        "plt.imshow(rands2d, aspect= 0.2)"
      ],
      "execution_count": 0,
      "outputs": []
    },
    {
      "cell_type": "code",
      "metadata": {
        "id": "wNdWSC-GYT7m",
        "colab_type": "code",
        "colab": {}
      },
      "source": [
        "#Min/Max\n",
        "plt.imshow(rands2d, aspect= 2)"
      ],
      "execution_count": 0,
      "outputs": []
    },
    {
      "cell_type": "markdown",
      "metadata": {
        "id": "i8YVP6hKXtaU",
        "colab_type": "text"
      },
      "source": [
        "## 2.2.5 Interpolation"
      ]
    },
    {
      "cell_type": "code",
      "metadata": {
        "id": "PPmQ6IVxXs1d",
        "colab_type": "code",
        "colab": {}
      },
      "source": [
        "#Interpolation\n",
        "small = np.arange(0,4,1).reshape(2,2)\n",
        "print(small)\n"
      ],
      "execution_count": 0,
      "outputs": []
    },
    {
      "cell_type": "markdown",
      "metadata": {
        "id": "Ty-R9JrBYolC",
        "colab_type": "text"
      },
      "source": [
        "bilinear, nearest, gaussian"
      ]
    },
    {
      "cell_type": "code",
      "metadata": {
        "id": "KkRoRvrtYiI0",
        "colab_type": "code",
        "colab": {}
      },
      "source": [
        "plt.imshow(small, interpolation= 'gaussian')"
      ],
      "execution_count": 0,
      "outputs": []
    },
    {
      "cell_type": "code",
      "metadata": {
        "id": "644f5tToYxy7",
        "colab_type": "code",
        "colab": {}
      },
      "source": [
        "plt.matshow(small)"
      ],
      "execution_count": 0,
      "outputs": []
    },
    {
      "cell_type": "markdown",
      "metadata": {
        "id": "IgCs6UfsY2L0",
        "colab_type": "text"
      },
      "source": [
        "# 2.3.6 Contours"
      ]
    },
    {
      "cell_type": "markdown",
      "metadata": {
        "id": "JrEfNj1lZBNj",
        "colab_type": "text"
      },
      "source": [
        "Regions of equal values"
      ]
    },
    {
      "cell_type": "code",
      "metadata": {
        "id": "hT8u0PMoYda0",
        "colab_type": "code",
        "colab": {}
      },
      "source": [
        "#Basic contour\n",
        "srands2d = gaussian_filter(rands2d, sigma=100)\n",
        "plt.contour(srands2d)\n",
        "plt.colorbar()"
      ],
      "execution_count": 0,
      "outputs": []
    },
    {
      "cell_type": "code",
      "metadata": {
        "id": "-oZeMCIvY6q8",
        "colab_type": "code",
        "colab": {}
      },
      "source": [
        "#Contour levels\n",
        "plt.contour(rands2d, levels=[0. ,0.03])\n",
        "plt.colorbar()"
      ],
      "execution_count": 0,
      "outputs": []
    },
    {
      "cell_type": "markdown",
      "metadata": {
        "id": "4w9LywrqZX1e",
        "colab_type": "text"
      },
      "source": [
        "Specify the number of contours you want\n",
        "\n",
        "non-keyword argument"
      ]
    },
    {
      "cell_type": "code",
      "metadata": {
        "id": "8Jv2lAdNZLKp",
        "colab_type": "code",
        "colab": {}
      },
      "source": [
        "\n",
        "plt.contour(rands2d, 30)\n",
        "plt.colorbar()"
      ],
      "execution_count": 0,
      "outputs": []
    },
    {
      "cell_type": "code",
      "metadata": {
        "id": "pUGD6iApZdgk",
        "colab_type": "code",
        "colab": {}
      },
      "source": [
        "plt.contour(srands2d, 10, colors=['r', 'b'])\n",
        "plt.colorbar()"
      ],
      "execution_count": 0,
      "outputs": []
    },
    {
      "cell_type": "markdown",
      "metadata": {
        "id": "Lh6K_gBhZt-l",
        "colab_type": "text"
      },
      "source": [
        "Filled contours"
      ]
    },
    {
      "cell_type": "code",
      "metadata": {
        "id": "jkbHidxvZoOE",
        "colab_type": "code",
        "colab": {}
      },
      "source": [
        "plt.contourf(srands2d, 10)\n",
        "plt.colorbar()"
      ],
      "execution_count": 0,
      "outputs": []
    },
    {
      "cell_type": "code",
      "metadata": {
        "id": "Z47ha_VZZyAM",
        "colab_type": "code",
        "colab": {}
      },
      "source": [
        "plt.imshow(srands2d)\n",
        "plt.colorbar()"
      ],
      "execution_count": 0,
      "outputs": []
    },
    {
      "cell_type": "markdown",
      "metadata": {
        "id": "mVKwf24haAzt",
        "colab_type": "text"
      },
      "source": [
        "HAtches"
      ]
    },
    {
      "cell_type": "code",
      "metadata": {
        "id": "auzLTUZKZ4YU",
        "colab_type": "code",
        "colab": {}
      },
      "source": [
        "plt.contourf(srands2d, 2, colors= 'none', hatches= ['x', '/'])"
      ],
      "execution_count": 0,
      "outputs": []
    },
    {
      "cell_type": "code",
      "metadata": {
        "id": "SihCGXtXaLP2",
        "colab_type": "code",
        "colab": {}
      },
      "source": [
        "plt.contour(srands2d, linestyles = [':', '--', '-'])"
      ],
      "execution_count": 0,
      "outputs": []
    },
    {
      "cell_type": "markdown",
      "metadata": {
        "id": "vqgA9sNUaq4n",
        "colab_type": "text"
      },
      "source": [
        "Color label"
      ]
    },
    {
      "cell_type": "code",
      "metadata": {
        "id": "T6hLeySRaeAY",
        "colab_type": "code",
        "colab": {}
      },
      "source": [
        "contours = plt.contour(srands2d, 5)\n",
        "plt.clabel(contours)\n",
        "plt.colorbar()"
      ],
      "execution_count": 0,
      "outputs": []
    },
    {
      "cell_type": "markdown",
      "metadata": {
        "id": "7clmQ0nabGON",
        "colab_type": "text"
      },
      "source": [
        "Combining"
      ]
    },
    {
      "cell_type": "code",
      "metadata": {
        "id": "yBsNuAhha1r2",
        "colab_type": "code",
        "colab": {}
      },
      "source": [
        "plt.contour(srands2d, colors=['k'])\n",
        "plt.imshow(srands2d)"
      ],
      "execution_count": 0,
      "outputs": []
    },
    {
      "cell_type": "code",
      "metadata": {
        "id": "E8JV-Tf-bM_E",
        "colab_type": "code",
        "colab": {}
      },
      "source": [
        "plt.contour(srands2d, levels= [0], colors=['k'])\n",
        "plt.imshow(srands2d)"
      ],
      "execution_count": 0,
      "outputs": []
    },
    {
      "cell_type": "code",
      "metadata": {
        "id": "SFwQtRsibWn1",
        "colab_type": "code",
        "colab": {}
      },
      "source": [
        ""
      ],
      "execution_count": 0,
      "outputs": []
    }
  ]
}