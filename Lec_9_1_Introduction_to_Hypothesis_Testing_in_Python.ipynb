{
  "nbformat": 4,
  "nbformat_minor": 0,
  "metadata": {
    "kernelspec": {
      "display_name": "Python 3",
      "language": "python",
      "name": "python3"
    },
    "language_info": {
      "codemirror_mode": {
        "name": "ipython",
        "version": 3
      },
      "file_extension": ".py",
      "mimetype": "text/x-python",
      "name": "python",
      "nbconvert_exporter": "python",
      "pygments_lexer": "ipython3",
      "version": "3.6.3"
    },
    "colab": {
      "name": "Lec 9_1 Introduction to Hypothesis Testing in Python.ipynb",
      "version": "0.3.2",
      "provenance": [],
      "include_colab_link": true
    }
  },
  "cells": [
    {
      "cell_type": "markdown",
      "metadata": {
        "id": "view-in-github",
        "colab_type": "text"
      },
      "source": [
        "<a href=\"https://colab.research.google.com/github/arbi11/YCBS-272/blob/master/Lec_9_1_Introduction_to_Hypothesis_Testing_in_Python.ipynb\" target=\"_parent\"><img src=\"https://colab.research.google.com/assets/colab-badge.svg\" alt=\"Open In Colab\"/></a>"
      ]
    },
    {
      "cell_type": "markdown",
      "metadata": {
        "id": "U5mA2OIv7wDn",
        "colab_type": "text"
      },
      "source": [
        "# Hypothesis Testing\n",
        "\n",
        "We know that hypothesis testing is a critical tool in determing what the value of a parameter could be.\n",
        "\n",
        "We know that the basis of our testing has two attributes:\n",
        "\n",
        "**Null Hypothesis: $H_0$**\n",
        "\n",
        "**Alternative Hypothesis: $H_a$**\n",
        "\n",
        "The tests we have discussed in lecture are:\n",
        "\n",
        "* One Population Proportion\n",
        "* Difference in Population Proportions\n",
        "* One Population Mean\n",
        "\n",
        "In this notebook, We will see some functions that are extremely useful when calculating a t-statistic and p-value for a hypothesis test.\n",
        "\n",
        "Let's quickly review the following ways to calculate a test statistic for the tests listed above.\n",
        "\n",
        "The equation is:\n",
        "\n",
        "$$\\frac{Best\\ Estimate - Hypothesized\\ Estimate}{Standard\\ Error\\ of\\ Estimate}$$ \n",
        "\n"
      ]
    },
    {
      "cell_type": "code",
      "metadata": {
        "id": "WZgFu4cm7wDq",
        "colab_type": "code",
        "colab": {}
      },
      "source": [
        "import statsmodels.api as sm\n",
        "import numpy as np\n",
        "import pandas as pd"
      ],
      "execution_count": 0,
      "outputs": []
    },
    {
      "cell_type": "code",
      "metadata": {
        "id": "jAk68LyB9Asn",
        "colab_type": "code",
        "colab": {}
      },
      "source": [
        "! git clone https://github.com/arbi11/YCBS-272.git\n",
        "! ls"
      ],
      "execution_count": 0,
      "outputs": []
    },
    {
      "cell_type": "code",
      "metadata": {
        "id": "Ge7sj5RA9TDF",
        "colab_type": "code",
        "colab": {}
      },
      "source": [
        "cd YCBS-272/"
      ],
      "execution_count": 0,
      "outputs": []
    },
    {
      "cell_type": "markdown",
      "metadata": {
        "id": "-jOGHxJ_7wDu",
        "colab_type": "text"
      },
      "source": [
        "### One Population Proportion\n",
        "\n",
        "#### Research Question \n",
        "\n",
        "In previous years 52% of parents believed that electronics and social media was the cause of their teenager’s lack of sleep. Do more parents today believe that their teenager’s lack of sleep is caused due to electronics and social media? \n",
        "\n",
        "**Population**: Parents with a teenager (age 13-18)  \n",
        "**Parameter of Interest**: p  \n",
        "**Null Hypothesis:** p = 0.52  \n",
        "**Alternative Hypthosis:** p > 0.52 (note that this is a one-sided test)\n",
        "\n",
        "1018 Parents\n",
        "\n",
        "56% believe that their teenager’s lack of sleep is caused due to electronics and social media."
      ]
    },
    {
      "cell_type": "code",
      "metadata": {
        "id": "0qruwm0W7wDx",
        "colab_type": "code",
        "colab": {}
      },
      "source": [
        "n = 1018\n",
        "pnull = .52\n",
        "phat = .56\n",
        "sm.stats.proportions_ztest(phat * n, n, pnull, alternative='larger')"
      ],
      "execution_count": 0,
      "outputs": []
    },
    {
      "cell_type": "markdown",
      "metadata": {
        "id": "nrbid30b8MJr",
        "colab_type": "text"
      },
      "source": [
        "## Question\n",
        "Check the same hypothesis if \n",
        "\n",
        "66% believe that their teenager’s lack of sleep is caused due to electronics and social media."
      ]
    },
    {
      "cell_type": "code",
      "metadata": {
        "id": "MQSTEJEN8dLD",
        "colab_type": "code",
        "colab": {}
      },
      "source": [
        ""
      ],
      "execution_count": 0,
      "outputs": []
    },
    {
      "cell_type": "markdown",
      "metadata": {
        "id": "WQN9kCX17wD5",
        "colab_type": "text"
      },
      "source": [
        "### Difference in Population Proportions\n",
        "\n",
        "#### Research Question\n",
        "\n",
        "Is there a significant difference between the population proportions of parents of black children and parents of Hispanic children who report that their child has had some swimming lessons?\n",
        "\n",
        "**Populations**: All parents of black children age 6-18 and all parents of Hispanic children age 6-18  \n",
        "**Parameter of Interest**: p1 - p2, where p1 = black and p2 = hispanic  \n",
        "**Null Hypothesis:** p1 - p2 = 0  \n",
        "**Alternative Hypthosis:** p1 - p2 $\\neq$ = 0 \n",
        "\n",
        "\n",
        "---\n",
        "\n",
        "\n",
        "\n",
        "247 Parents of Black Children\n",
        "\n",
        "36.8% of parents report that their child has had some swimming lessons.\n",
        "\n",
        "\n",
        "\n",
        "---\n",
        "\n",
        "\n",
        "\n",
        "308 Parents of Hispanic Children\n",
        "\n",
        "38.9% of parents report that their child has had some swimming lessons."
      ]
    },
    {
      "cell_type": "code",
      "metadata": {
        "id": "jzhPPNsx7wD8",
        "colab_type": "code",
        "colab": {}
      },
      "source": [
        "n1 = 247\n",
        "p1 = .37\n",
        "\n",
        "n2 = 308\n",
        "p2 = .39\n",
        "\n",
        "population1 = np.random.binomial(1, p1, n1)\n",
        "population2 = np.random.binomial(1, p2, n2)\n",
        "\n",
        "sm.stats.ttest_ind(population1, population2)"
      ],
      "execution_count": 0,
      "outputs": []
    },
    {
      "cell_type": "markdown",
      "metadata": {
        "id": "iUdyrIsK8i62",
        "colab_type": "text"
      },
      "source": [
        "## Question \n",
        "\n",
        "308 Parents of Hispanic Children\n",
        "\n",
        "38.9% of parents report that their child has had some swimming lessons."
      ]
    },
    {
      "cell_type": "markdown",
      "metadata": {
        "id": "KUACLGBL7wED",
        "colab_type": "text"
      },
      "source": [
        "### One Population Mean\n",
        "\n",
        "#### Research Question \n",
        "\n",
        "Is the average cartwheel distance (in inches) for adults \n",
        "more than 80 inches?\n",
        "\n",
        "**Population**: All adults  \n",
        "**Parameter of Interest**: $\\mu$, population mean cartwheel distance.\n",
        "**Null Hypothesis:** $\\mu$ = 80\n",
        "**Alternative Hypthosis:** $\\mu$ > 80\n",
        "\n",
        "25 Adults\n",
        "\n",
        "$\\mu = 82.46$\n",
        "\n",
        "$\\sigma = 15.06$"
      ]
    },
    {
      "cell_type": "code",
      "metadata": {
        "id": "6_WkA2UD7wEF",
        "colab_type": "code",
        "colab": {}
      },
      "source": [
        "df = pd.read_csv(\"Cartwheeldata.csv\")\n",
        "df.head()"
      ],
      "execution_count": 0,
      "outputs": []
    },
    {
      "cell_type": "code",
      "metadata": {
        "id": "e74HKFJ-7wEI",
        "colab_type": "code",
        "colab": {}
      },
      "source": [
        "n = len(df)\n",
        "mean = df[\"CWDistance\"].mean()\n",
        "sd = df[\"CWDistance\"].std()\n",
        "(n, mean, sd)"
      ],
      "execution_count": 0,
      "outputs": []
    },
    {
      "cell_type": "code",
      "metadata": {
        "id": "JnMma8M37wEL",
        "colab_type": "code",
        "colab": {}
      },
      "source": [
        "sm.stats.ztest(df[\"CWDistance\"], value = 80, alternative = \"larger\")"
      ],
      "execution_count": 0,
      "outputs": []
    },
    {
      "cell_type": "markdown",
      "metadata": {
        "id": "aatcYcEd86jA",
        "colab_type": "text"
      },
      "source": [
        "## Question:\n",
        "\n",
        "Check for :\n",
        "\n",
        "25 Adults\n",
        "\n",
        "$\\mu = 82.46$\n",
        "\n",
        "$\\sigma = 25.06$"
      ]
    },
    {
      "cell_type": "code",
      "metadata": {
        "id": "ikLnMZJa86EN",
        "colab_type": "code",
        "colab": {}
      },
      "source": [
        ""
      ],
      "execution_count": 0,
      "outputs": []
    }
  ]
}