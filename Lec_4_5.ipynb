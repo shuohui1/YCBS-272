{
  "nbformat": 4,
  "nbformat_minor": 0,
  "metadata": {
    "kernelspec": {
      "display_name": "Python 2",
      "language": "python",
      "name": "python2"
    },
    "language_info": {
      "codemirror_mode": {
        "name": "ipython",
        "version": 2
      },
      "file_extension": ".py",
      "mimetype": "text/x-python",
      "name": "python",
      "nbconvert_exporter": "python",
      "pygments_lexer": "ipython2",
      "version": "2.7.13"
    },
    "colab": {
      "name": "Lec 4_5.ipynb",
      "version": "0.3.2",
      "provenance": [],
      "include_colab_link": true
    }
  },
  "cells": [
    {
      "cell_type": "markdown",
      "metadata": {
        "id": "view-in-github",
        "colab_type": "text"
      },
      "source": [
        "<a href=\"https://colab.research.google.com/github/arbi11/YCBS-272/blob/master/Lec_4_5.ipynb\" target=\"_parent\"><img src=\"https://colab.research.google.com/assets/colab-badge.svg\" alt=\"Open In Colab\"/></a>"
      ]
    },
    {
      "cell_type": "markdown",
      "metadata": {
        "id": "KWfl5yu13qzc",
        "colab_type": "text"
      },
      "source": [
        "# Seaborn"
      ]
    },
    {
      "cell_type": "code",
      "metadata": {
        "id": "Q9NzPFKc3dO7",
        "colab_type": "code",
        "colab": {}
      },
      "source": [
        "import numpy as np\n",
        "import pandas as pd\n",
        "import matplotlib.pyplot as plt\n",
        "import seaborn as sns"
      ],
      "execution_count": 0,
      "outputs": []
    },
    {
      "cell_type": "code",
      "metadata": {
        "id": "DOGwmD6K3dO-",
        "colab_type": "code",
        "colab": {}
      },
      "source": [
        "\n",
        "%matplotlib inline"
      ],
      "execution_count": 0,
      "outputs": []
    },
    {
      "cell_type": "code",
      "metadata": {
        "id": "BzNe3mpw4FD3",
        "colab_type": "code",
        "colab": {}
      },
      "source": [
        "! git clone https://github.com/arbi11/YCBS-272.git"
      ],
      "execution_count": 0,
      "outputs": []
    },
    {
      "cell_type": "code",
      "metadata": {
        "id": "WsjEOj8Z4JEk",
        "colab_type": "code",
        "colab": {}
      },
      "source": [
        "! ls"
      ],
      "execution_count": 0,
      "outputs": []
    },
    {
      "cell_type": "code",
      "metadata": {
        "id": "ZZcrE_c24zEc",
        "colab_type": "code",
        "colab": {}
      },
      "source": [
        "cd YCBS-272/"
      ],
      "execution_count": 0,
      "outputs": []
    },
    {
      "cell_type": "code",
      "metadata": {
        "id": "O6B2WG5L401E",
        "colab_type": "code",
        "colab": {}
      },
      "source": [
        "! ls"
      ],
      "execution_count": 0,
      "outputs": []
    },
    {
      "cell_type": "code",
      "metadata": {
        "id": "TGXHtcyR3dPB",
        "colab_type": "code",
        "colab": {}
      },
      "source": [
        "data = pd.read_csv('fandango_score_comparison.csv')"
      ],
      "execution_count": 0,
      "outputs": []
    },
    {
      "cell_type": "code",
      "metadata": {
        "id": "zuxH1_Uo3dPD",
        "colab_type": "code",
        "colab": {}
      },
      "source": [
        "data.head()"
      ],
      "execution_count": 0,
      "outputs": []
    },
    {
      "cell_type": "code",
      "metadata": {
        "id": "vCx8Dv0g3dPG",
        "colab_type": "code",
        "colab": {}
      },
      "source": [
        "#Distribution plot\n",
        "sns.distplot(data['RT_norm'])"
      ],
      "execution_count": 0,
      "outputs": []
    },
    {
      "cell_type": "code",
      "metadata": {
        "id": "xpn2Yark5sOG",
        "colab_type": "code",
        "colab": {}
      },
      "source": [
        "#KDE Plot\n",
        "sns.kdeplot(data['RT_norm'])"
      ],
      "execution_count": 0,
      "outputs": []
    },
    {
      "cell_type": "code",
      "metadata": {
        "id": "biGgT9Z73dPI",
        "colab_type": "code",
        "colab": {}
      },
      "source": [
        "#KDE Plot\n",
        "sns.kdeplot(data['RT_norm'], shade=True)"
      ],
      "execution_count": 0,
      "outputs": []
    },
    {
      "cell_type": "code",
      "metadata": {
        "id": "7A_iLd5s6QX0",
        "colab_type": "code",
        "colab": {}
      },
      "source": [
        "plt.scatter(data['RT_norm'], data['RT_user_norm'])"
      ],
      "execution_count": 0,
      "outputs": []
    },
    {
      "cell_type": "code",
      "metadata": {
        "id": "GDGumcqa6szE",
        "colab_type": "code",
        "colab": {}
      },
      "source": [
        "#2D KDE Plot\n",
        "sns.kdeplot(data['RT_norm'], data['RT_user_norm'])"
      ],
      "execution_count": 0,
      "outputs": []
    },
    {
      "cell_type": "code",
      "metadata": {
        "id": "rlhmwk7L3dPL",
        "colab_type": "code",
        "colab": {}
      },
      "source": [
        "#2D KDE Plot\n",
        "sns.kdeplot(data['RT_norm'], data['RT_user_norm'], shade=True)"
      ],
      "execution_count": 0,
      "outputs": []
    },
    {
      "cell_type": "code",
      "metadata": {
        "id": "bKLTXNLx3dPN",
        "colab_type": "code",
        "colab": {}
      },
      "source": [
        "#The Joint plot\n",
        "sns.jointplot(x='RT_norm', y='RT_user_norm', data=data, kind='hex')"
      ],
      "execution_count": 0,
      "outputs": []
    },
    {
      "cell_type": "code",
      "metadata": {
        "id": "D7bi6ydo3dPP",
        "colab_type": "code",
        "colab": {}
      },
      "source": [
        "#Theming Seaborn\n",
        "sns.set_style('ticks')\n",
        "sns.jointplot(x='RT_norm', y='RT_user_norm', data=data, kind='kde', shade=False)"
      ],
      "execution_count": 0,
      "outputs": []
    },
    {
      "cell_type": "code",
      "metadata": {
        "id": "ceG48J_i3dPT",
        "colab_type": "code",
        "colab": {}
      },
      "source": [
        "#Spine Control\n",
        "sns.set_style('whitegrid')\n",
        "sns.jointplot(x='RT_norm', y='RT_user_norm', data=data, kind='kde', shade=False)\n",
        "sns.despine(left=True, bottom=True)"
      ],
      "execution_count": 0,
      "outputs": []
    },
    {
      "cell_type": "code",
      "metadata": {
        "id": "S6gK5dW63dPV",
        "colab_type": "code",
        "colab": {}
      },
      "source": [
        "#Automatic Scaling\n",
        "sns.set_style('whitegrid')\n",
        "sns.set_context('poster')\n",
        "sns.jointplot(x='RT_norm', y='RT_user_norm', data=data, kind='kde', shade=False)"
      ],
      "execution_count": 0,
      "outputs": []
    },
    {
      "cell_type": "code",
      "metadata": {
        "id": "KnGtjdEM3dPY",
        "colab_type": "code",
        "colab": {}
      },
      "source": [
        ""
      ],
      "execution_count": 0,
      "outputs": []
    }
  ]
}