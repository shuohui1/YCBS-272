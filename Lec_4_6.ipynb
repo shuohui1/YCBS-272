{
  "nbformat": 4,
  "nbformat_minor": 0,
  "metadata": {
    "kernelspec": {
      "display_name": "Python 2",
      "language": "python",
      "name": "python2"
    },
    "language_info": {
      "codemirror_mode": {
        "name": "ipython",
        "version": 2
      },
      "file_extension": ".py",
      "mimetype": "text/x-python",
      "name": "python",
      "nbconvert_exporter": "python",
      "pygments_lexer": "ipython2",
      "version": "2.7.13"
    },
    "colab": {
      "name": "Lec 4_6.ipynb",
      "version": "0.3.2",
      "provenance": [],
      "include_colab_link": true
    }
  },
  "cells": [
    {
      "cell_type": "markdown",
      "metadata": {
        "id": "view-in-github",
        "colab_type": "text"
      },
      "source": [
        "<a href=\"https://colab.research.google.com/github/arbi11/YCBS-272/blob/master/Lec_4_6.ipynb\" target=\"_parent\"><img src=\"https://colab.research.google.com/assets/colab-badge.svg\" alt=\"Open In Colab\"/></a>"
      ]
    },
    {
      "cell_type": "markdown",
      "metadata": {
        "id": "VcTP_-Ey84z9",
        "colab_type": "text"
      },
      "source": [
        "# Seaborn Extension"
      ]
    },
    {
      "cell_type": "code",
      "metadata": {
        "id": "qX85lqsL8pet",
        "colab_type": "code",
        "colab": {}
      },
      "source": [
        "import numpy as np\n",
        "import pandas as pd\n",
        "import matplotlib.pyplot as plt\n",
        "import seaborn as sns"
      ],
      "execution_count": 0,
      "outputs": []
    },
    {
      "cell_type": "code",
      "metadata": {
        "id": "doV_Qwko8pex",
        "colab_type": "code",
        "colab": {}
      },
      "source": [
        "%matplotlib inline"
      ],
      "execution_count": 0,
      "outputs": []
    },
    {
      "cell_type": "code",
      "metadata": {
        "id": "gfiAc1W989bk",
        "colab_type": "code",
        "colab": {}
      },
      "source": [
        "! git clone https://github.com/arbi11/YCBS-272.git"
      ],
      "execution_count": 0,
      "outputs": []
    },
    {
      "cell_type": "code",
      "metadata": {
        "id": "p4GaYqLs9A60",
        "colab_type": "code",
        "colab": {}
      },
      "source": [
        "! ls"
      ],
      "execution_count": 0,
      "outputs": []
    },
    {
      "cell_type": "code",
      "metadata": {
        "id": "rLtFyQ4G9CYM",
        "colab_type": "code",
        "colab": {}
      },
      "source": [
        "cd YCBS-272/"
      ],
      "execution_count": 0,
      "outputs": []
    },
    {
      "cell_type": "code",
      "metadata": {
        "id": "GHsIFOOZ9ESb",
        "colab_type": "code",
        "colab": {}
      },
      "source": [
        "! ls"
      ],
      "execution_count": 0,
      "outputs": []
    },
    {
      "cell_type": "code",
      "metadata": {
        "id": "5KFjMNym8pez",
        "colab_type": "code",
        "colab": {}
      },
      "source": [
        "data = pd.read_csv('drinks.csv')\n"
      ],
      "execution_count": 0,
      "outputs": []
    },
    {
      "cell_type": "markdown",
      "metadata": {
        "id": "6pv8n44b9SmM",
        "colab_type": "text"
      },
      "source": [
        "# Q. Describe the data"
      ]
    },
    {
      "cell_type": "code",
      "metadata": {
        "id": "RSHkfvw-9U1r",
        "colab_type": "code",
        "colab": {}
      },
      "source": [
        "data.columns"
      ],
      "execution_count": 0,
      "outputs": []
    },
    {
      "cell_type": "markdown",
      "metadata": {
        "id": "FDGd3KuR9VWL",
        "colab_type": "text"
      },
      "source": [
        "Q. Print the first 5 rows"
      ]
    },
    {
      "cell_type": "code",
      "metadata": {
        "id": "hpjYbSTb9QdU",
        "colab_type": "code",
        "colab": {}
      },
      "source": [
        ""
      ],
      "execution_count": 0,
      "outputs": []
    },
    {
      "cell_type": "markdown",
      "metadata": {
        "id": "1jtsuK7v9ZLm",
        "colab_type": "text"
      },
      "source": [
        "Q. Print last 5 rows"
      ]
    },
    {
      "cell_type": "code",
      "metadata": {
        "id": "v87zOIVE9Pv9",
        "colab_type": "code",
        "colab": {}
      },
      "source": [
        "drinks = data.pivot_table(index=\"country\")"
      ],
      "execution_count": 0,
      "outputs": []
    },
    {
      "cell_type": "code",
      "metadata": {
        "id": "lZwmaERe9y7d",
        "colab_type": "code",
        "colab": {}
      },
      "source": [
        "#Heatmap\n",
        "sns.heatmap(drinks.drop('total_litres_of_pure_alcohol', axis=1).head(10))"
      ],
      "execution_count": 0,
      "outputs": []
    },
    {
      "cell_type": "code",
      "metadata": {
        "id": "gEF2NpV78pe1",
        "colab_type": "code",
        "colab": {}
      },
      "source": [
        "#Heatmap\n",
        "sns.heatmap(drinks.drop('total_litres_of_pure_alcohol', axis=1).head(10), cbar_kws=dict(label='# of drinks'))"
      ],
      "execution_count": 0,
      "outputs": []
    },
    {
      "cell_type": "code",
      "metadata": {
        "id": "j-OoyMzT8pe5",
        "colab_type": "code",
        "colab": {}
      },
      "source": [
        "#Regression plot\n",
        "sns.regplot(x='beer_servings', y='spirit_servings', data=drinks)"
      ],
      "execution_count": 0,
      "outputs": []
    },
    {
      "cell_type": "code",
      "metadata": {
        "id": "jhxF_ogf8pe8",
        "colab_type": "code",
        "colab": {}
      },
      "source": [
        "#Polynomial Regression\n",
        "sns.regplot(x='beer_servings', y='spirit_servings', data=drinks, order=2)"
      ],
      "execution_count": 0,
      "outputs": []
    },
    {
      "cell_type": "code",
      "metadata": {
        "id": "z9wocrh18pe-",
        "colab_type": "code",
        "colab": {}
      },
      "source": [
        "#Lowess (LOcally Weighted linear regrESSion) (requires statsmodels!)\n",
        "sns.regplot(x='beer_servings', y='spirit_servings', data=drinks, lowess=True)"
      ],
      "execution_count": 0,
      "outputs": []
    },
    {
      "cell_type": "code",
      "metadata": {
        "id": "-ZpYpcZk8pfB",
        "colab_type": "code",
        "colab": {}
      },
      "source": [
        "#Robust regression\n",
        "sns.regplot(x='beer_servings', y='spirit_servings', data=drinks, robust=True)\n",
        "sns.regplot(x='beer_servings', y='spirit_servings', data=drinks, scatter=False, robust=False)"
      ],
      "execution_count": 0,
      "outputs": []
    },
    {
      "cell_type": "code",
      "metadata": {
        "id": "0xDapqth8pfD",
        "colab_type": "code",
        "colab": {}
      },
      "source": [
        "#Plot Residuals\n",
        "sns.residplot(x='beer_servings', y='spirit_servings', data=drinks)"
      ],
      "execution_count": 0,
      "outputs": []
    },
    {
      "cell_type": "code",
      "metadata": {
        "id": "_mjiZCcM8pfH",
        "colab_type": "code",
        "colab": {}
      },
      "source": [
        "#Plot Residuals\n",
        "sns.residplot(x='beer_servings', y='spirit_servings', data=drinks)"
      ],
      "execution_count": 0,
      "outputs": []
    },
    {
      "cell_type": "code",
      "metadata": {
        "id": "F5n8u4nsABQT",
        "colab_type": "code",
        "colab": {}
      },
      "source": [
        ""
      ],
      "execution_count": 0,
      "outputs": []
    }
  ]
}