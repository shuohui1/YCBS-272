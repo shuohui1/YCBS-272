{
  "nbformat": 4,
  "nbformat_minor": 0,
  "metadata": {
    "colab": {
      "name": "Lec 4_3.ipynb",
      "version": "0.3.2",
      "provenance": [],
      "collapsed_sections": [],
      "include_colab_link": true
    },
    "kernelspec": {
      "name": "python3",
      "display_name": "Python 3"
    }
  },
  "cells": [
    {
      "cell_type": "markdown",
      "metadata": {
        "id": "view-in-github",
        "colab_type": "text"
      },
      "source": [
        "<a href=\"https://colab.research.google.com/github/arbi11/YCBS-272/blob/master/Lec_4_3.ipynb\" target=\"_parent\"><img src=\"https://colab.research.google.com/assets/colab-badge.svg\" alt=\"Open In Colab\"/></a>"
      ]
    },
    {
      "cell_type": "markdown",
      "metadata": {
        "id": "5Q9W_IP59_vX",
        "colab_type": "text"
      },
      "source": [
        "# 2.2 Bar plots"
      ]
    },
    {
      "cell_type": "code",
      "metadata": {
        "id": "FCyfAK_OHvNQ",
        "colab_type": "code",
        "colab": {}
      },
      "source": [
        "# Load numpy for math/array operations\n",
        "# and matplotlib for plotting\n",
        "import numpy as np\n",
        "import matplotlib.pyplot as plt"
      ],
      "execution_count": 0,
      "outputs": []
    },
    {
      "cell_type": "code",
      "metadata": {
        "id": "okTA6RjjJ9-N",
        "colab_type": "code",
        "colab": {}
      },
      "source": [
        "%matplotlib inline\n",
        "# Set up figure size and DPI\n",
        "plt.rcParams['figure.figsize'] = (4,3)\n",
        "plt.rcParams['figure.dpi'] = 150"
      ],
      "execution_count": 0,
      "outputs": []
    },
    {
      "cell_type": "markdown",
      "metadata": {
        "id": "CF5imCN9KPEU",
        "colab_type": "text"
      },
      "source": [
        "Bar plot doent take the epositional arguments that scatter and line plots do\n",
        "\n",
        "first pass x axis which is usally ordinal value"
      ]
    },
    {
      "cell_type": "code",
      "metadata": {
        "id": "R0OecPehJ_hb",
        "colab_type": "code",
        "colab": {}
      },
      "source": [
        "# basic bar plot\n",
        "nums = np.random.uniform(size=10)\n",
        "plt.bar(np.arange(10), height = nums)"
      ],
      "execution_count": 0,
      "outputs": []
    },
    {
      "cell_type": "markdown",
      "metadata": {
        "id": "_VAR6uX_Kmzk",
        "colab_type": "text"
      },
      "source": [
        "For vertical bar"
      ]
    },
    {
      "cell_type": "code",
      "metadata": {
        "id": "8tkMVijhKhoU",
        "colab_type": "code",
        "colab": {}
      },
      "source": [
        "plt.barh(np.arange(10), width = nums)"
      ],
      "execution_count": 0,
      "outputs": []
    },
    {
      "cell_type": "markdown",
      "metadata": {
        "id": "mzYPhSRIKylU",
        "colab_type": "text"
      },
      "source": [
        "## 2.2.2 color"
      ]
    },
    {
      "cell_type": "code",
      "metadata": {
        "id": "JxRfsjYMKqy8",
        "colab_type": "code",
        "colab": {}
      },
      "source": [
        "plt.bar(np.arange(10), height = nums, color='limegreen')"
      ],
      "execution_count": 0,
      "outputs": []
    },
    {
      "cell_type": "code",
      "metadata": {
        "id": "rSX_gzj5K0yc",
        "colab_type": "code",
        "colab": {}
      },
      "source": [
        "plt.bar(np.arange(10), height = nums, color= 'limegreen', edgecolor= 'maroon')"
      ],
      "execution_count": 0,
      "outputs": []
    },
    {
      "cell_type": "markdown",
      "metadata": {
        "id": "FN-kLJB3LOQt",
        "colab_type": "text"
      },
      "source": [
        "## 2.2.3Centered bars\n",
        "\n",
        "default edge"
      ]
    },
    {
      "cell_type": "code",
      "metadata": {
        "id": "nd0mqQViK_bc",
        "colab_type": "code",
        "colab": {}
      },
      "source": [
        "# bar alignment\n",
        "plt.bar(np.arange(10), nums, align='center')"
      ],
      "execution_count": 0,
      "outputs": []
    },
    {
      "cell_type": "markdown",
      "metadata": {
        "id": "5MXMhQcgLUg0",
        "colab_type": "text"
      },
      "source": [
        "## 2.2.4 Concept of area\n",
        "\n",
        "change the pattern of the area"
      ]
    },
    {
      "cell_type": "code",
      "metadata": {
        "id": "E8AWk94SLHps",
        "colab_type": "code",
        "colab": {}
      },
      "source": [
        "# hatch & fill\n",
        "plt.bar(np.arange(10), nums, hatch= 'x')"
      ],
      "execution_count": 0,
      "outputs": []
    },
    {
      "cell_type": "code",
      "metadata": {
        "id": "CK-2HDpZLbAk",
        "colab_type": "code",
        "colab": {}
      },
      "source": [
        "# hatch & fill\n",
        "plt.bar(np.arange(10), nums, hatch= '-')"
      ],
      "execution_count": 0,
      "outputs": []
    },
    {
      "cell_type": "code",
      "metadata": {
        "id": "v_qi-GbgLioc",
        "colab_type": "code",
        "colab": {}
      },
      "source": [
        "# hatch & fill\n",
        "plt.bar(np.arange(10), nums, hatch= '|')"
      ],
      "execution_count": 0,
      "outputs": []
    },
    {
      "cell_type": "markdown",
      "metadata": {
        "id": "36p3JhemLrzc",
        "colab_type": "text"
      },
      "source": [
        "Useful when u have BW plots"
      ]
    },
    {
      "cell_type": "code",
      "metadata": {
        "id": "120PEUNSLnck",
        "colab_type": "code",
        "colab": {}
      },
      "source": [
        "plt.bar(np.arange(10), nums, hatch= 'x', color= 'none')"
      ],
      "execution_count": 0,
      "outputs": []
    },
    {
      "cell_type": "markdown",
      "metadata": {
        "id": "XK4cb9LnL2ZM",
        "colab_type": "text"
      },
      "source": [
        "## 2.2.5 Bar width"
      ]
    },
    {
      "cell_type": "code",
      "metadata": {
        "id": "GN7D-mEILynE",
        "colab_type": "code",
        "colab": {}
      },
      "source": [
        "# bar width\n",
        "plt.bar(np.arange(10), nums, width=10, edgecolor= 'k')"
      ],
      "execution_count": 0,
      "outputs": []
    },
    {
      "cell_type": "code",
      "metadata": {
        "id": "4SfZZyEhL71M",
        "colab_type": "code",
        "colab": {}
      },
      "source": [
        "# bar width\n",
        "plt.bar(np.arange(10), nums, width=1, edgecolor= 'k')"
      ],
      "execution_count": 0,
      "outputs": []
    },
    {
      "cell_type": "code",
      "metadata": {
        "id": "kYuLuKZoMH_0",
        "colab_type": "code",
        "colab": {}
      },
      "source": [
        "# bottom alignment\n",
        "plt.bar(np.arange(10), nums, bottom= 10)"
      ],
      "execution_count": 0,
      "outputs": []
    },
    {
      "cell_type": "code",
      "metadata": {
        "id": "VMtd2Wr0MT1D",
        "colab_type": "code",
        "colab": {}
      },
      "source": [
        "# bottom alignment\n",
        "plt.bar(np.arange(10), nums, bottom= 0.1*nums)"
      ],
      "execution_count": 0,
      "outputs": []
    },
    {
      "cell_type": "code",
      "metadata": {
        "id": "M2B_prSXMaZc",
        "colab_type": "code",
        "colab": {}
      },
      "source": [
        "# bottom alignment\n",
        "plt.bar(np.arange(10), nums, bottom=nums)"
      ],
      "execution_count": 0,
      "outputs": []
    },
    {
      "cell_type": "markdown",
      "metadata": {
        "id": "H45M2XQ7MkB8",
        "colab_type": "text"
      },
      "source": [
        "# 2.2.6 Histograms\n",
        "\n",
        "Way to generate probability distribution function"
      ]
    },
    {
      "cell_type": "code",
      "metadata": {
        "id": "zUBo8EZ4MdqM",
        "colab_type": "code",
        "colab": {}
      },
      "source": [
        "# basic histogram\n",
        "rands = np.random.normal(size=int(1e6))"
      ],
      "execution_count": 0,
      "outputs": []
    },
    {
      "cell_type": "code",
      "metadata": {
        "id": "OZILfypnMrgc",
        "colab_type": "code",
        "colab": {}
      },
      "source": [
        "plt.hist(rands)"
      ],
      "execution_count": 0,
      "outputs": []
    },
    {
      "cell_type": "code",
      "metadata": {
        "id": "auW7_MTqMwQU",
        "colab_type": "code",
        "colab": {}
      },
      "source": [
        "print(plt.hist(rands))\n",
        "plt.clf()"
      ],
      "execution_count": 0,
      "outputs": []
    },
    {
      "cell_type": "markdown",
      "metadata": {
        "id": "Y3CELfkPM7S0",
        "colab_type": "text"
      },
      "source": [
        "TUPLE\n",
        "\n",
        "1st array :  # elements  in a bin\n",
        "\n",
        "2nd array : bin edges"
      ]
    },
    {
      "cell_type": "code",
      "metadata": {
        "id": "DHiaD0sGM55V",
        "colab_type": "code",
        "colab": {}
      },
      "source": [
        "plt.hist(rands)plt.hist(rands, range=(0, 1));"
      ],
      "execution_count": 0,
      "outputs": []
    },
    {
      "cell_type": "markdown",
      "metadata": {
        "id": "vACycUHDVCyV",
        "colab_type": "text"
      },
      "source": [
        ""
      ]
    },
    {
      "cell_type": "markdown",
      "metadata": {
        "id": "Wqpvsp-GVUBM",
        "colab_type": "text"
      },
      "source": [
        "Manually define the bins"
      ]
    },
    {
      "cell_type": "code",
      "metadata": {
        "id": "wvrLUtiiU79h",
        "colab_type": "code",
        "colab": {}
      },
      "source": [
        "plt.hist(rands, bins= [0, 1, 2])"
      ],
      "execution_count": 0,
      "outputs": []
    },
    {
      "cell_type": "markdown",
      "metadata": {
        "id": "-0eJqqBMValM",
        "colab_type": "text"
      },
      "source": [
        "## 2.2.7 By seetting to auto matplotlib will choose the number of bins"
      ]
    },
    {
      "cell_type": "code",
      "metadata": {
        "id": "5ns-WSKrVSc9",
        "colab_type": "code",
        "colab": {}
      },
      "source": [
        "plt.hist(rands, bins= 'auto')"
      ],
      "execution_count": 0,
      "outputs": []
    },
    {
      "cell_type": "code",
      "metadata": {
        "id": "UZk6bmqJVhz8",
        "colab_type": "code",
        "colab": {}
      },
      "source": [
        "plt.hist(rands, bins= 'auto', histtype= 'stepfilled');"
      ],
      "execution_count": 0,
      "outputs": []
    },
    {
      "cell_type": "markdown",
      "metadata": {
        "id": "8WW8UMgFBNxZ",
        "colab_type": "text"
      },
      "source": [
        "## 2.2.8 Cumulative\n"
      ]
    },
    {
      "cell_type": "code",
      "metadata": {
        "id": "RSAG3znhV1Ye",
        "colab_type": "code",
        "colab": {}
      },
      "source": [
        "plt.hist(rands, bins= 'auto', cumulative=True);"
      ],
      "execution_count": 0,
      "outputs": []
    },
    {
      "cell_type": "code",
      "metadata": {
        "id": "KvdptaI7V8o8",
        "colab_type": "code",
        "colab": {}
      },
      "source": [
        "plt.hist(rands, bins= 'auto', cumulative=-1, normed= True);"
      ],
      "execution_count": 0,
      "outputs": []
    },
    {
      "cell_type": "markdown",
      "metadata": {
        "id": "bNXKYfqwWjX1",
        "colab_type": "text"
      },
      "source": [
        "## 2.2.9 Multiple hist"
      ]
    },
    {
      "cell_type": "code",
      "metadata": {
        "id": "oVcqGgzEWKg8",
        "colab_type": "code",
        "colab": {}
      },
      "source": [
        "plt.hist(rands, bins = 'auto', histtype= 'stepfilled');\n",
        "plt.hist(0.5*rands, bins = 'auto', histtype= 'stepfilled');"
      ],
      "execution_count": 0,
      "outputs": []
    },
    {
      "cell_type": "code",
      "metadata": {
        "id": "FDfKzrABWRmM",
        "colab_type": "code",
        "colab": {}
      },
      "source": [
        "plt.hist((rands, 0.5*rands), bins = 'auto', histtype= 'stepfilled', stacked= True);\n"
      ],
      "execution_count": 0,
      "outputs": []
    },
    {
      "cell_type": "code",
      "metadata": {
        "id": "jL5HEW6XWqgs",
        "colab_type": "code",
        "colab": {}
      },
      "source": [
        ""
      ],
      "execution_count": 0,
      "outputs": []
    }
  ]
}