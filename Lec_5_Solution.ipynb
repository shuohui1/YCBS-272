{
  "nbformat": 4,
  "nbformat_minor": 0,
  "metadata": {
    "kernelspec": {
      "display_name": "Python 3",
      "language": "python",
      "name": "python3"
    },
    "language_info": {
      "codemirror_mode": {
        "name": "ipython",
        "version": 3
      },
      "file_extension": ".py",
      "mimetype": "text/x-python",
      "name": "python",
      "nbconvert_exporter": "python",
      "pygments_lexer": "ipython3",
      "version": "3.6.3"
    },
    "colab": {
      "name": "Lec 5 Solution.ipynb",
      "version": "0.3.2",
      "provenance": [],
      "collapsed_sections": [],
      "include_colab_link": true
    }
  },
  "cells": [
    {
      "cell_type": "markdown",
      "metadata": {
        "id": "view-in-github",
        "colab_type": "text"
      },
      "source": [
        "<a href=\"https://colab.research.google.com/github/arbi11/YCBS-272/blob/master/Lec_5_Solution.ipynb\" target=\"_parent\"><img src=\"https://colab.research.google.com/assets/colab-badge.svg\" alt=\"Open In Colab\"/></a>"
      ]
    },
    {
      "cell_type": "markdown",
      "metadata": {
        "id": "TdmkO8wpmbQl",
        "colab_type": "text"
      },
      "source": [
        "# NHANES case study\n",
        "\n",
        "Here we will demonstrate how to use Python and [Pandas](https://pandas.pydata.org/) to perform some basic analyses the [NHANES](https://www.cdc.gov/nchs/nhanes/index.htm) study to illustrate the techniques."
      ]
    },
    {
      "cell_type": "markdown",
      "metadata": {
        "id": "M6hchWydmbQo",
        "colab_type": "text"
      },
      "source": [
        "The following import statements make the libraries that we will need available.  "
      ]
    },
    {
      "cell_type": "code",
      "metadata": {
        "id": "t4ADoYPKmbQp",
        "colab_type": "code",
        "colab": {}
      },
      "source": [
        "%matplotlib inline\n",
        "import matplotlib.pyplot as plt\n",
        "import seaborn as sns\n",
        "import pandas as pd\n",
        "import numpy as np"
      ],
      "execution_count": 0,
      "outputs": []
    },
    {
      "cell_type": "markdown",
      "metadata": {
        "id": "lo5XVzcrmbQr",
        "colab_type": "text"
      },
      "source": [
        "Next we will load the NHANES data from a file."
      ]
    },
    {
      "cell_type": "code",
      "metadata": {
        "id": "y8O7vr4dE-Bk",
        "colab_type": "code",
        "outputId": "2431d0ac-cfa8-4da1-e18f-4b769a60414d",
        "colab": {
          "base_uri": "https://localhost:8080/",
          "height": 119
        }
      },
      "source": [
        "! git clone https://github.com/arbi11/YCBS-272.git"
      ],
      "execution_count": 0,
      "outputs": [
        {
          "output_type": "stream",
          "text": [
            "Cloning into 'YCBS-272'...\n",
            "remote: Enumerating objects: 90, done.\u001b[K\n",
            "remote: Counting objects: 100% (90/90), done.\u001b[K\n",
            "remote: Compressing objects: 100% (89/89), done.\u001b[K\n",
            "remote: Total 90 (delta 41), reused 0 (delta 0), pack-reused 0\u001b[K\n",
            "Unpacking objects: 100% (90/90), done.\n"
          ],
          "name": "stdout"
        }
      ]
    },
    {
      "cell_type": "code",
      "metadata": {
        "id": "xlMNGOjBFKmI",
        "colab_type": "code",
        "outputId": "c092b679-69ea-4012-8542-c7a334b54bb6",
        "colab": {
          "base_uri": "https://localhost:8080/",
          "height": 34
        }
      },
      "source": [
        "! ls"
      ],
      "execution_count": 0,
      "outputs": [
        {
          "output_type": "stream",
          "text": [
            "sample_data  YCBS-272\n"
          ],
          "name": "stdout"
        }
      ]
    },
    {
      "cell_type": "code",
      "metadata": {
        "id": "NoYg0_GaFNnt",
        "colab_type": "code",
        "outputId": "37c8fbb7-132c-4038-ecd7-1627262d1584",
        "colab": {
          "base_uri": "https://localhost:8080/",
          "height": 34
        }
      },
      "source": [
        "cd YCBS-272/"
      ],
      "execution_count": 0,
      "outputs": [
        {
          "output_type": "stream",
          "text": [
            "/content/YCBS-272\n"
          ],
          "name": "stdout"
        }
      ]
    },
    {
      "cell_type": "code",
      "metadata": {
        "id": "hiDIuy3IFPrK",
        "colab_type": "code",
        "outputId": "c5fe1ff2-0402-461c-eeb6-fb7a10600332",
        "colab": {
          "base_uri": "https://localhost:8080/",
          "height": 204
        }
      },
      "source": [
        "! ls"
      ],
      "execution_count": 0,
      "outputs": [
        {
          "output_type": "stream",
          "text": [
            "Advertising.csv\t\t       Lec_4_5.ipynb\n",
            "Auto.csv\t\t       Lec_4_6.ipynb\n",
            "drinks.csv\t\t       Lec_5_Lesson.ipynb\n",
            "fandango_score_comparison.csv  Lec_6_decision_trees.ipynb\n",
            "indian_liver_patient.csv       nhanes_2015_2016.csv\n",
            "Lec_2.ipynb\t\t       Quiz_2.ipynb\n",
            "Lec_2_solution.ipynb\t       README.md\n",
            "Lec_4_1.ipynb\t\t       spamdata.csv\n",
            "Lec_4_2.ipynb\t\t       Tree_Exercise.ipynb\n",
            "Lec_4_3.ipynb\t\t       YCBS_272_Assignment_1.ipynb\n",
            "Lec_4_4.ipynb\t\t       YCBS_272_Assignment_2.ipynb\n"
          ],
          "name": "stdout"
        }
      ]
    },
    {
      "cell_type": "markdown",
      "metadata": {
        "id": "_beN157XGXLc",
        "colab_type": "text"
      },
      "source": [
        "## 1.1 Load Dataset"
      ]
    },
    {
      "cell_type": "code",
      "metadata": {
        "id": "lgm-vYfMmbQs",
        "colab_type": "code",
        "colab": {}
      },
      "source": [
        "# Read the data -- into a pandas dataframe \n",
        "df = pd.read_csv(\"nhanes_2015_2016.csv\")"
      ],
      "execution_count": 0,
      "outputs": []
    },
    {
      "cell_type": "code",
      "metadata": {
        "id": "k77o6RMXDUVU",
        "colab_type": "code",
        "outputId": "deee0c60-1d05-460f-bda4-86fa3391e5e5",
        "colab": {
          "base_uri": "https://localhost:8080/",
          "height": 317
        }
      },
      "source": [
        "df.describe()"
      ],
      "execution_count": 0,
      "outputs": [
        {
          "output_type": "execute_result",
          "data": {
            "text/html": [
              "<div>\n",
              "<style scoped>\n",
              "    .dataframe tbody tr th:only-of-type {\n",
              "        vertical-align: middle;\n",
              "    }\n",
              "\n",
              "    .dataframe tbody tr th {\n",
              "        vertical-align: top;\n",
              "    }\n",
              "\n",
              "    .dataframe thead th {\n",
              "        text-align: right;\n",
              "    }\n",
              "</style>\n",
              "<table border=\"1\" class=\"dataframe\">\n",
              "  <thead>\n",
              "    <tr style=\"text-align: right;\">\n",
              "      <th></th>\n",
              "      <th>SEQN</th>\n",
              "      <th>ALQ101</th>\n",
              "      <th>ALQ110</th>\n",
              "      <th>ALQ130</th>\n",
              "      <th>SMQ020</th>\n",
              "      <th>RIAGENDR</th>\n",
              "      <th>RIDAGEYR</th>\n",
              "      <th>RIDRETH1</th>\n",
              "      <th>DMDCITZN</th>\n",
              "      <th>DMDEDUC2</th>\n",
              "      <th>DMDMARTL</th>\n",
              "      <th>DMDHHSIZ</th>\n",
              "      <th>WTINT2YR</th>\n",
              "      <th>SDMVPSU</th>\n",
              "      <th>SDMVSTRA</th>\n",
              "      <th>INDFMPIR</th>\n",
              "      <th>BPXSY1</th>\n",
              "      <th>BPXDI1</th>\n",
              "      <th>BPXSY2</th>\n",
              "      <th>BPXDI2</th>\n",
              "      <th>BMXWT</th>\n",
              "      <th>BMXHT</th>\n",
              "      <th>BMXBMI</th>\n",
              "      <th>BMXLEG</th>\n",
              "      <th>BMXARML</th>\n",
              "      <th>BMXARMC</th>\n",
              "      <th>BMXWAIST</th>\n",
              "      <th>HIQ210</th>\n",
              "    </tr>\n",
              "  </thead>\n",
              "  <tbody>\n",
              "    <tr>\n",
              "      <th>count</th>\n",
              "      <td>5735.000000</td>\n",
              "      <td>5208.000000</td>\n",
              "      <td>1731.000000</td>\n",
              "      <td>3379.000000</td>\n",
              "      <td>5735.000000</td>\n",
              "      <td>5735.000000</td>\n",
              "      <td>5735.000000</td>\n",
              "      <td>5735.000000</td>\n",
              "      <td>5734.000000</td>\n",
              "      <td>5474.000000</td>\n",
              "      <td>5474.000000</td>\n",
              "      <td>5735.000000</td>\n",
              "      <td>5735.000000</td>\n",
              "      <td>5735.000000</td>\n",
              "      <td>5735.000000</td>\n",
              "      <td>5134.000000</td>\n",
              "      <td>5401.000000</td>\n",
              "      <td>5401.000000</td>\n",
              "      <td>5535.000000</td>\n",
              "      <td>5535.000000</td>\n",
              "      <td>5666.000000</td>\n",
              "      <td>5673.000000</td>\n",
              "      <td>5662.000000</td>\n",
              "      <td>5345.000000</td>\n",
              "      <td>5427.000000</td>\n",
              "      <td>5427.000000</td>\n",
              "      <td>5368.000000</td>\n",
              "      <td>4732.000000</td>\n",
              "    </tr>\n",
              "    <tr>\n",
              "      <th>mean</th>\n",
              "      <td>88678.583435</td>\n",
              "      <td>1.336406</td>\n",
              "      <td>1.587522</td>\n",
              "      <td>3.911512</td>\n",
              "      <td>1.607149</td>\n",
              "      <td>1.518919</td>\n",
              "      <td>48.052310</td>\n",
              "      <td>3.042371</td>\n",
              "      <td>1.185385</td>\n",
              "      <td>3.441725</td>\n",
              "      <td>2.628608</td>\n",
              "      <td>3.323801</td>\n",
              "      <td>40312.412352</td>\n",
              "      <td>1.487881</td>\n",
              "      <td>126.236617</td>\n",
              "      <td>2.403204</td>\n",
              "      <td>125.084614</td>\n",
              "      <td>69.516386</td>\n",
              "      <td>124.783017</td>\n",
              "      <td>69.346703</td>\n",
              "      <td>81.342676</td>\n",
              "      <td>166.142834</td>\n",
              "      <td>29.382197</td>\n",
              "      <td>38.576782</td>\n",
              "      <td>37.146987</td>\n",
              "      <td>33.112235</td>\n",
              "      <td>99.567213</td>\n",
              "      <td>1.915469</td>\n",
              "    </tr>\n",
              "    <tr>\n",
              "      <th>std</th>\n",
              "      <td>2882.139237</td>\n",
              "      <td>0.505514</td>\n",
              "      <td>0.623940</td>\n",
              "      <td>34.341839</td>\n",
              "      <td>0.571975</td>\n",
              "      <td>0.499686</td>\n",
              "      <td>18.431011</td>\n",
              "      <td>1.296793</td>\n",
              "      <td>0.491678</td>\n",
              "      <td>1.309700</td>\n",
              "      <td>2.366786</td>\n",
              "      <td>1.724670</td>\n",
              "      <td>38768.921774</td>\n",
              "      <td>0.499897</td>\n",
              "      <td>4.244406</td>\n",
              "      <td>1.601995</td>\n",
              "      <td>18.480873</td>\n",
              "      <td>12.881575</td>\n",
              "      <td>18.527012</td>\n",
              "      <td>13.022829</td>\n",
              "      <td>21.764409</td>\n",
              "      <td>10.079264</td>\n",
              "      <td>7.095921</td>\n",
              "      <td>3.873018</td>\n",
              "      <td>2.800784</td>\n",
              "      <td>5.268027</td>\n",
              "      <td>16.844109</td>\n",
              "      <td>0.414845</td>\n",
              "    </tr>\n",
              "    <tr>\n",
              "      <th>min</th>\n",
              "      <td>83732.000000</td>\n",
              "      <td>1.000000</td>\n",
              "      <td>1.000000</td>\n",
              "      <td>1.000000</td>\n",
              "      <td>1.000000</td>\n",
              "      <td>1.000000</td>\n",
              "      <td>18.000000</td>\n",
              "      <td>1.000000</td>\n",
              "      <td>1.000000</td>\n",
              "      <td>1.000000</td>\n",
              "      <td>1.000000</td>\n",
              "      <td>1.000000</td>\n",
              "      <td>5330.960000</td>\n",
              "      <td>1.000000</td>\n",
              "      <td>119.000000</td>\n",
              "      <td>0.000000</td>\n",
              "      <td>82.000000</td>\n",
              "      <td>0.000000</td>\n",
              "      <td>84.000000</td>\n",
              "      <td>0.000000</td>\n",
              "      <td>32.400000</td>\n",
              "      <td>129.700000</td>\n",
              "      <td>14.500000</td>\n",
              "      <td>26.000000</td>\n",
              "      <td>28.200000</td>\n",
              "      <td>17.100000</td>\n",
              "      <td>58.700000</td>\n",
              "      <td>1.000000</td>\n",
              "    </tr>\n",
              "    <tr>\n",
              "      <th>25%</th>\n",
              "      <td>86164.000000</td>\n",
              "      <td>1.000000</td>\n",
              "      <td>1.000000</td>\n",
              "      <td>1.000000</td>\n",
              "      <td>1.000000</td>\n",
              "      <td>1.000000</td>\n",
              "      <td>32.000000</td>\n",
              "      <td>2.000000</td>\n",
              "      <td>1.000000</td>\n",
              "      <td>3.000000</td>\n",
              "      <td>1.000000</td>\n",
              "      <td>2.000000</td>\n",
              "      <td>17164.085000</td>\n",
              "      <td>1.000000</td>\n",
              "      <td>123.000000</td>\n",
              "      <td>1.060000</td>\n",
              "      <td>112.000000</td>\n",
              "      <td>62.000000</td>\n",
              "      <td>112.000000</td>\n",
              "      <td>62.000000</td>\n",
              "      <td>65.900000</td>\n",
              "      <td>158.700000</td>\n",
              "      <td>24.300000</td>\n",
              "      <td>36.000000</td>\n",
              "      <td>35.200000</td>\n",
              "      <td>29.500000</td>\n",
              "      <td>87.600000</td>\n",
              "      <td>2.000000</td>\n",
              "    </tr>\n",
              "    <tr>\n",
              "      <th>50%</th>\n",
              "      <td>88668.000000</td>\n",
              "      <td>1.000000</td>\n",
              "      <td>2.000000</td>\n",
              "      <td>2.000000</td>\n",
              "      <td>2.000000</td>\n",
              "      <td>2.000000</td>\n",
              "      <td>48.000000</td>\n",
              "      <td>3.000000</td>\n",
              "      <td>1.000000</td>\n",
              "      <td>4.000000</td>\n",
              "      <td>1.000000</td>\n",
              "      <td>3.000000</td>\n",
              "      <td>24654.860000</td>\n",
              "      <td>1.000000</td>\n",
              "      <td>126.000000</td>\n",
              "      <td>1.980000</td>\n",
              "      <td>122.000000</td>\n",
              "      <td>70.000000</td>\n",
              "      <td>122.000000</td>\n",
              "      <td>70.000000</td>\n",
              "      <td>78.200000</td>\n",
              "      <td>166.000000</td>\n",
              "      <td>28.300000</td>\n",
              "      <td>38.600000</td>\n",
              "      <td>37.100000</td>\n",
              "      <td>32.700000</td>\n",
              "      <td>98.300000</td>\n",
              "      <td>2.000000</td>\n",
              "    </tr>\n",
              "    <tr>\n",
              "      <th>75%</th>\n",
              "      <td>91178.500000</td>\n",
              "      <td>2.000000</td>\n",
              "      <td>2.000000</td>\n",
              "      <td>3.000000</td>\n",
              "      <td>2.000000</td>\n",
              "      <td>2.000000</td>\n",
              "      <td>63.000000</td>\n",
              "      <td>4.000000</td>\n",
              "      <td>1.000000</td>\n",
              "      <td>4.750000</td>\n",
              "      <td>5.000000</td>\n",
              "      <td>5.000000</td>\n",
              "      <td>42862.305000</td>\n",
              "      <td>2.000000</td>\n",
              "      <td>130.000000</td>\n",
              "      <td>3.740000</td>\n",
              "      <td>134.000000</td>\n",
              "      <td>78.000000</td>\n",
              "      <td>134.000000</td>\n",
              "      <td>78.000000</td>\n",
              "      <td>92.700000</td>\n",
              "      <td>173.500000</td>\n",
              "      <td>33.000000</td>\n",
              "      <td>41.200000</td>\n",
              "      <td>39.000000</td>\n",
              "      <td>36.200000</td>\n",
              "      <td>109.300000</td>\n",
              "      <td>2.000000</td>\n",
              "    </tr>\n",
              "    <tr>\n",
              "      <th>max</th>\n",
              "      <td>93702.000000</td>\n",
              "      <td>9.000000</td>\n",
              "      <td>9.000000</td>\n",
              "      <td>999.000000</td>\n",
              "      <td>9.000000</td>\n",
              "      <td>2.000000</td>\n",
              "      <td>80.000000</td>\n",
              "      <td>5.000000</td>\n",
              "      <td>9.000000</td>\n",
              "      <td>9.000000</td>\n",
              "      <td>77.000000</td>\n",
              "      <td>7.000000</td>\n",
              "      <td>233755.840000</td>\n",
              "      <td>2.000000</td>\n",
              "      <td>133.000000</td>\n",
              "      <td>5.000000</td>\n",
              "      <td>236.000000</td>\n",
              "      <td>120.000000</td>\n",
              "      <td>238.000000</td>\n",
              "      <td>144.000000</td>\n",
              "      <td>198.900000</td>\n",
              "      <td>202.700000</td>\n",
              "      <td>67.300000</td>\n",
              "      <td>51.500000</td>\n",
              "      <td>47.400000</td>\n",
              "      <td>58.400000</td>\n",
              "      <td>171.600000</td>\n",
              "      <td>9.000000</td>\n",
              "    </tr>\n",
              "  </tbody>\n",
              "</table>\n",
              "</div>"
            ],
            "text/plain": [
              "               SEQN       ALQ101  ...     BMXWAIST       HIQ210\n",
              "count   5735.000000  5208.000000  ...  5368.000000  4732.000000\n",
              "mean   88678.583435     1.336406  ...    99.567213     1.915469\n",
              "std     2882.139237     0.505514  ...    16.844109     0.414845\n",
              "min    83732.000000     1.000000  ...    58.700000     1.000000\n",
              "25%    86164.000000     1.000000  ...    87.600000     2.000000\n",
              "50%    88668.000000     1.000000  ...    98.300000     2.000000\n",
              "75%    91178.500000     2.000000  ...   109.300000     2.000000\n",
              "max    93702.000000     9.000000  ...   171.600000     9.000000\n",
              "\n",
              "[8 rows x 28 columns]"
            ]
          },
          "metadata": {
            "tags": []
          },
          "execution_count": 8
        }
      ]
    },
    {
      "cell_type": "code",
      "metadata": {
        "id": "XDuyvnSayqZw",
        "colab_type": "code",
        "outputId": "31f495a4-64b2-4780-8e8d-857aa6e3f33c",
        "colab": {
          "base_uri": "https://localhost:8080/",
          "height": 119
        }
      },
      "source": [
        "df.columns"
      ],
      "execution_count": 0,
      "outputs": [
        {
          "output_type": "execute_result",
          "data": {
            "text/plain": [
              "Index(['SEQN', 'ALQ101', 'ALQ110', 'ALQ130', 'SMQ020', 'RIAGENDR', 'RIDAGEYR',\n",
              "       'RIDRETH1', 'DMDCITZN', 'DMDEDUC2', 'DMDMARTL', 'DMDHHSIZ', 'WTINT2YR',\n",
              "       'SDMVPSU', 'SDMVSTRA', 'INDFMPIR', 'BPXSY1', 'BPXDI1', 'BPXSY2',\n",
              "       'BPXDI2', 'BMXWT', 'BMXHT', 'BMXBMI', 'BMXLEG', 'BMXARML', 'BMXARMC',\n",
              "       'BMXWAIST', 'HIQ210'],\n",
              "      dtype='object')"
            ]
          },
          "metadata": {
            "tags": []
          },
          "execution_count": 9
        }
      ]
    },
    {
      "cell_type": "code",
      "metadata": {
        "id": "1t27U-_fys_3",
        "colab_type": "code",
        "outputId": "cb189144-2a22-480c-f8d7-433140a9b4f4",
        "colab": {
          "base_uri": "https://localhost:8080/",
          "height": 510
        }
      },
      "source": [
        "df.dtypes\n"
      ],
      "execution_count": 0,
      "outputs": [
        {
          "output_type": "execute_result",
          "data": {
            "text/plain": [
              "SEQN          int64\n",
              "ALQ101      float64\n",
              "ALQ110      float64\n",
              "ALQ130      float64\n",
              "SMQ020        int64\n",
              "RIAGENDR      int64\n",
              "RIDAGEYR      int64\n",
              "RIDRETH1      int64\n",
              "DMDCITZN    float64\n",
              "DMDEDUC2    float64\n",
              "DMDMARTL    float64\n",
              "DMDHHSIZ      int64\n",
              "WTINT2YR    float64\n",
              "SDMVPSU       int64\n",
              "SDMVSTRA      int64\n",
              "INDFMPIR    float64\n",
              "BPXSY1      float64\n",
              "BPXDI1      float64\n",
              "BPXSY2      float64\n",
              "BPXDI2      float64\n",
              "BMXWT       float64\n",
              "BMXHT       float64\n",
              "BMXBMI      float64\n",
              "BMXLEG      float64\n",
              "BMXARML     float64\n",
              "BMXARMC     float64\n",
              "BMXWAIST    float64\n",
              "HIQ210      float64\n",
              "dtype: object"
            ]
          },
          "metadata": {
            "tags": []
          },
          "execution_count": 10
        }
      ]
    },
    {
      "cell_type": "markdown",
      "metadata": {
        "id": "hfM4SoakI_1X",
        "colab_type": "text"
      },
      "source": [
        "Can you find what is BMXWT"
      ]
    },
    {
      "cell_type": "markdown",
      "metadata": {
        "id": "Uapv8xN5mbQu",
        "colab_type": "text"
      },
      "source": [
        "## 1.1 Frequency tables\n",
        "\n",
        "The [value_counts](https://pandas.pydata.org/pandas-docs/stable/generated/pandas.Series.value_counts.html) method can be used to determine the number of times that each distinct value of a variable occurs in a data set.  \n",
        "\n",
        "In statistical terms, this is the \"frequency distribution\" of the variable.  \n",
        "\n",
        "Below we show the frequency distribution of the [DMDEDUC2](https://wwwn.cdc.gov/Nchs/Nhanes/2015-2016/DEMO_I.htm#DMDEDUC2) variable, which is a variable that reflects a person's level of educational attainment.  \n",
        "\n",
        "The `value_counts` method produces a table with two columns.  The first column contains all distinct observed values for the variable.  The second column contains the number of times each of these values occurs.  \n",
        "\n",
        "This table shows, for example, that 1621 people in the data file have DMDEDUC=4, which indicates that the person has completed some college, but has not graduated with a four-year degree."
      ]
    },
    {
      "cell_type": "code",
      "metadata": {
        "id": "UklK708umbQv",
        "colab_type": "code",
        "outputId": "b66b5185-fa2a-416f-9b37-17eaf2edd048",
        "colab": {
          "base_uri": "https://localhost:8080/",
          "height": 136
        }
      },
      "source": [
        "df.DMDEDUC2.value_counts()"
      ],
      "execution_count": 0,
      "outputs": [
        {
          "output_type": "execute_result",
          "data": {
            "text/plain": [
              "4.0    1621\n",
              "5.0    1366\n",
              "3.0    1186\n",
              "1.0     655\n",
              "2.0     643\n",
              "9.0       3\n",
              "Name: DMDEDUC2, dtype: int64"
            ]
          },
          "metadata": {
            "tags": []
          },
          "execution_count": 11
        }
      ]
    },
    {
      "cell_type": "markdown",
      "metadata": {
        "id": "OP0EII2DmbQy",
        "colab_type": "text"
      },
      "source": [
        "## 1.2 Missing values\n",
        "\n",
        "Note that the `value_counts` method excludes missing values.  We confirm this below by adding up the number of observations with a DMDEDUC2 value equal to 1, 2, 3, 4, 5, or 9 (there are 5474 such rows), and comparing this to the total number of rows in the data set, which is 5735. \n",
        "\n",
        "This tells us that there are 5735 - 5474 = 261 missing values for this variable (other variables may have different numbers of missing values)."
      ]
    },
    {
      "cell_type": "code",
      "metadata": {
        "id": "kWjVhsr1mbQy",
        "colab_type": "code",
        "outputId": "c281b8c3-c46e-4721-fc6e-b16a7142c80f",
        "colab": {
          "base_uri": "https://localhost:8080/",
          "height": 68
        }
      },
      "source": [
        "print(df.DMDEDUC2.value_counts().sum())\n",
        "print(1621 + 1366 + 1186 + 655 + 643 + 3) # Manually sum the frequencies\n",
        "print(df.shape)"
      ],
      "execution_count": 0,
      "outputs": [
        {
          "output_type": "stream",
          "text": [
            "5474\n",
            "5474\n",
            "(5735, 28)\n"
          ],
          "name": "stdout"
        }
      ]
    },
    {
      "cell_type": "markdown",
      "metadata": {
        "id": "XXo-WCTWmbQ1",
        "colab_type": "text"
      },
      "source": [
        "Another way to obtain this result is to locate all the null (missing) values in the data set using the [isnull](https://pandas.pydata.org/pandas-docs/stable/generated/pandas.isnull.html) Pandas function, and count the number of such locations."
      ]
    },
    {
      "cell_type": "code",
      "metadata": {
        "id": "r1ua1q4GmbQ1",
        "colab_type": "code",
        "outputId": "c44a1a7a-10db-4a05-e35d-2c2bc53a2801",
        "colab": {
          "base_uri": "https://localhost:8080/",
          "height": 34
        }
      },
      "source": [
        "pd.isnull(df.DMDEDUC2).sum()"
      ],
      "execution_count": 0,
      "outputs": [
        {
          "output_type": "execute_result",
          "data": {
            "text/plain": [
              "261"
            ]
          },
          "metadata": {
            "tags": []
          },
          "execution_count": 13
        }
      ]
    },
    {
      "cell_type": "markdown",
      "metadata": {
        "id": "VeQPBnzJmbQ4",
        "colab_type": "text"
      },
      "source": [
        "## 1.3 Re-labeling\n",
        "In some cases it is useful to [replace](https://pandas.pydata.org/pandas-docs/stable/generated/pandas.Series.replace.html) integer codes with a text label that reflects the code's meaning.  Below we create a new variable called 'DMDEDUC2x' that is recoded with text labels, then we generate its frequency distribution."
      ]
    },
    {
      "cell_type": "code",
      "metadata": {
        "id": "n74DFas0mbQ4",
        "colab_type": "code",
        "outputId": "f0e1c677-ef7f-497d-a04d-7b385cce149a",
        "colab": {
          "base_uri": "https://localhost:8080/",
          "height": 136
        }
      },
      "source": [
        "df[\"DMDEDUC2x\"] = df.DMDEDUC2.replace({1: \"<9\", 2: \"9-11\", 3: \"HS/GED\", 4: \"Some college/AA\", 5: \"College\", \n",
        "                                       7: \"Refused\", 9: \"Don't know\"})\n",
        "df.DMDEDUC2x.value_counts()"
      ],
      "execution_count": 0,
      "outputs": [
        {
          "output_type": "execute_result",
          "data": {
            "text/plain": [
              "Some college/AA    1621\n",
              "College            1366\n",
              "HS/GED             1186\n",
              "<9                  655\n",
              "9-11                643\n",
              "Don't know            3\n",
              "Name: DMDEDUC2x, dtype: int64"
            ]
          },
          "metadata": {
            "tags": []
          },
          "execution_count": 14
        }
      ]
    },
    {
      "cell_type": "markdown",
      "metadata": {
        "id": "OUJrPtEtmbQ7",
        "colab_type": "text"
      },
      "source": [
        "We will also want to have a relabeled version of the gender variable, so we will construct that now as well.  We will follow a convention here of appending an 'x' to the end of a categorical variable's name when it has been recoded from numeric to string (text) values."
      ]
    },
    {
      "cell_type": "code",
      "metadata": {
        "id": "aKOs4EJKmbQ7",
        "colab_type": "code",
        "colab": {}
      },
      "source": [
        "df[\"RIAGENDRx\"] = df.RIAGENDR.replace({1: \"Male\", 2: \"Female\"})"
      ],
      "execution_count": 0,
      "outputs": []
    },
    {
      "cell_type": "markdown",
      "metadata": {
        "id": "ue2cdLW5mbQ9",
        "colab_type": "text"
      },
      "source": [
        "For many purposes it is more relevant to consider the proportion of the sample with each of the possible category values, rather than the number of people in each category.  We can do this as follows:"
      ]
    },
    {
      "cell_type": "code",
      "metadata": {
        "id": "AukcxhmDmbQ-",
        "colab_type": "code",
        "outputId": "b2cbcf12-519e-4a80-c9f8-75b5f93d2215",
        "colab": {
          "base_uri": "https://localhost:8080/",
          "height": 136
        }
      },
      "source": [
        "x = df.DMDEDUC2x.value_counts()  # x is just a name to hold this value temporarily\n",
        "x / x.sum()"
      ],
      "execution_count": 0,
      "outputs": [
        {
          "output_type": "execute_result",
          "data": {
            "text/plain": [
              "Some college/AA    0.296127\n",
              "College            0.249543\n",
              "HS/GED             0.216661\n",
              "<9                 0.119657\n",
              "9-11               0.117464\n",
              "Don't know         0.000548\n",
              "Name: DMDEDUC2x, dtype: float64"
            ]
          },
          "metadata": {
            "tags": []
          },
          "execution_count": 16
        }
      ]
    },
    {
      "cell_type": "markdown",
      "metadata": {
        "id": "3y5NKsVxmbRA",
        "colab_type": "text"
      },
      "source": [
        "## 1.4 Creating a category\n",
        "\n",
        "In some cases we will want to treat the missing response category as another category of observed response, rather than ignoring it when creating summaries.  Below we create a new category called \"Missing\", and assign all missing values to it usig [fillna](https://pandas.pydata.org/pandas-docs/stable/missing_data.html#filling-missing-values-fillna).  Then we recalculate the frequency distribution.  We see that 4.6% of the responses are missing."
      ]
    },
    {
      "cell_type": "code",
      "metadata": {
        "id": "Ry6bqWRPmbRA",
        "colab_type": "code",
        "outputId": "f195c9c2-70ca-47dd-88e7-b873403a221a",
        "colab": {
          "base_uri": "https://localhost:8080/",
          "height": 153
        }
      },
      "source": [
        "df[\"DMDEDUC2x\"] = df.DMDEDUC2x.fillna(\"Missing\")\n",
        "x = df.DMDEDUC2x.value_counts()\n",
        "x / x.sum()"
      ],
      "execution_count": 0,
      "outputs": [
        {
          "output_type": "execute_result",
          "data": {
            "text/plain": [
              "Some college/AA    0.282650\n",
              "College            0.238187\n",
              "HS/GED             0.206800\n",
              "<9                 0.114211\n",
              "9-11               0.112119\n",
              "Missing            0.045510\n",
              "Don't know         0.000523\n",
              "Name: DMDEDUC2x, dtype: float64"
            ]
          },
          "metadata": {
            "tags": []
          },
          "execution_count": 17
        }
      ]
    },
    {
      "cell_type": "markdown",
      "metadata": {
        "id": "zMW3VQ4pmbRD",
        "colab_type": "text"
      },
      "source": [
        "## 1.5 Numerical summaries\n",
        "\n",
        "A quick way to get a set of numerical summaries for a quantitative variable is with the [describe](https://pandas.pydata.org/pandas-docs/stable/basics.html#summarizing-data-describe) data frame method.  \n",
        "\n",
        "Below we demonstrate how to do this using the body weight variable ([BMXWT](https://wwwn.cdc.gov/Nchs/Nhanes/2015-2016/BMX_I.htm#BMXWT)).  \n",
        "\n",
        "As with many surveys, some data values are missing, so we explicitly drop the missing cases using the [dropna](https://pandas.pydata.org/pandas-docs/stable/missing_data.html#dropping-axis-labels-with-missing-data-dropna) method before generating the summaries."
      ]
    },
    {
      "cell_type": "code",
      "metadata": {
        "id": "uInPn2YfmbRD",
        "colab_type": "code",
        "outputId": "573ec393-707a-4f2d-e1c8-dab3b71a262d",
        "colab": {
          "base_uri": "https://localhost:8080/",
          "height": 170
        }
      },
      "source": [
        "df.BMXWT.dropna().describe()"
      ],
      "execution_count": 0,
      "outputs": [
        {
          "output_type": "execute_result",
          "data": {
            "text/plain": [
              "count    5666.000000\n",
              "mean       81.342676\n",
              "std        21.764409\n",
              "min        32.400000\n",
              "25%        65.900000\n",
              "50%        78.200000\n",
              "75%        92.700000\n",
              "max       198.900000\n",
              "Name: BMXWT, dtype: float64"
            ]
          },
          "metadata": {
            "tags": []
          },
          "execution_count": 18
        }
      ]
    },
    {
      "cell_type": "markdown",
      "metadata": {
        "id": "2UTESRp6mbRF",
        "colab_type": "text"
      },
      "source": [
        "It's also possible to calculate individual summary statistics from one column of a data set.  This can be done using Pandas methods, or with numpy functions:"
      ]
    },
    {
      "cell_type": "code",
      "metadata": {
        "id": "X7V1Yzz-mbRG",
        "colab_type": "code",
        "outputId": "b739b95d-4b8b-4408-f840-9d074dc8f704",
        "colab": {
          "base_uri": "https://localhost:8080/",
          "height": 119
        }
      },
      "source": [
        "x = df.BMXWT.dropna()  # Extract all non-missing values of BMXWT into a variable called 'x'\n",
        "print(x.mean()) # Pandas method\n",
        "print(np.mean(x)) # Numpy function\n",
        "\n",
        "print(x.median())\n",
        "print(np.percentile(x, 50))  # 50th percentile, same as the median\n",
        "print(np.percentile(x, 75))  # 75th percentile\n",
        "print(x.quantile(0.75)) # Pandas method for quantiles, equivalent to 75th percentile"
      ],
      "execution_count": 0,
      "outputs": [
        {
          "output_type": "stream",
          "text": [
            "81.34267560889509\n",
            "81.34267560889509\n",
            "78.2\n",
            "78.2\n",
            "92.7\n",
            "92.7\n"
          ],
          "name": "stdout"
        }
      ]
    },
    {
      "cell_type": "markdown",
      "metadata": {
        "id": "pRKwk9_pmbRJ",
        "colab_type": "text"
      },
      "source": [
        "### 1.5.1\n",
        "Next we look at frequencies for a systolic blood pressure measurement ([BPXSY1](https://wwwn.cdc.gov/Nchs/Nhanes/2015-2016/BPX_I.htm#BPXSY1)).  \n",
        "\n",
        "\"BPX\" here is the NHANES prefix for blood pressure measurements, \"SY\" stands for \"systolic\" blood pressure (blood pressure at the peak of a heartbeat cycle), and \"1\" indicates that this is the first of three systolic blood presure measurements taken on a subject.\n",
        "\n",
        "A person is generally considered to have **pre-hypertension** when their systolic blood pressure is between 120 and 139, or their diastolic blood pressure is between 80 and 89. \n",
        "\n",
        "Considering only the systolic condition, we can calculate the proprotion of the NHANES sample who would be considered to have pre-hypertension. "
      ]
    },
    {
      "cell_type": "code",
      "metadata": {
        "id": "dyT_lPHRmbRJ",
        "colab_type": "code",
        "outputId": "37d4245d-d7cc-4c29-92fc-b4c4f6cf5ce1",
        "colab": {
          "base_uri": "https://localhost:8080/",
          "height": 34
        }
      },
      "source": [
        "np.mean((df.BPXSY1 >= 120) & (df.BPXSY2 <= 139))  # \"&\" means \"and\""
      ],
      "execution_count": 0,
      "outputs": [
        {
          "output_type": "execute_result",
          "data": {
            "text/plain": [
              "0.3741935483870968"
            ]
          },
          "metadata": {
            "tags": []
          },
          "execution_count": 20
        }
      ]
    },
    {
      "cell_type": "markdown",
      "metadata": {
        "id": "n9OqcIsUmbRL",
        "colab_type": "text"
      },
      "source": [
        "Next we calculate the propotion of NHANES subjects who are pre-hypertensive based on diastolic blood pressure."
      ]
    },
    {
      "cell_type": "code",
      "metadata": {
        "id": "P2oEQQEOmbRM",
        "colab_type": "code",
        "outputId": "36be0edb-926b-438d-b77e-0bfdf5f92822",
        "colab": {
          "base_uri": "https://localhost:8080/",
          "height": 34
        }
      },
      "source": [
        "np.mean((df.BPXDI1 >= 80) & (df.BPXDI2 <= 89))"
      ],
      "execution_count": 0,
      "outputs": [
        {
          "output_type": "execute_result",
          "data": {
            "text/plain": [
              "0.14803836094158676"
            ]
          },
          "metadata": {
            "tags": []
          },
          "execution_count": 21
        }
      ]
    },
    {
      "cell_type": "markdown",
      "metadata": {
        "id": "jtcgI5SombRO",
        "colab_type": "text"
      },
      "source": [
        "Finally we calculate the proportion of NHANES subjects who are pre-hypertensive based on either systolic or diastolic blood pressure.  Since some people are pre-hypertensive under both criteria, the proportion below is less than the sum of the two proportions calculated above.\n",
        "\n",
        "Since the combined systolic and diastolic condition for pre-hypertension is somewhat complex, below we construct temporary variables 'a' and 'b' that hold the systolic and diastolic pre-hypertensive status separately, then combine them with a \"logical or\" to obtain the final status for each subject."
      ]
    },
    {
      "cell_type": "code",
      "metadata": {
        "id": "_VKkwNEPmbRO",
        "colab_type": "code",
        "outputId": "ab203b5a-5fbb-4cb9-b0b9-2fcbd82d6366",
        "colab": {
          "base_uri": "https://localhost:8080/",
          "height": 34
        }
      },
      "source": [
        "a = (df.BPXSY1 >= 120) & (df.BPXSY2 <= 139)\n",
        "b = (df.BPXDI1 >= 80) & (df.BPXDI2 <= 89)\n",
        "print(np.mean(a | b))  # \"|\" means \"or\""
      ],
      "execution_count": 0,
      "outputs": [
        {
          "output_type": "stream",
          "text": [
            "0.43975588491717527\n"
          ],
          "name": "stdout"
        }
      ]
    },
    {
      "cell_type": "markdown",
      "metadata": {
        "id": "ZSz_h_RTmbRQ",
        "colab_type": "text"
      },
      "source": [
        "Blood pressure measurements are affected by a phenomenon called \"white coat anxiety\", in which a subject's bood pressure may be slightly elevated if they are nervous when interacting with health care providers.  Typically this effect subsides if the blood pressure is measured several times in sequence.  In NHANES, both systolic and diastolic blood pressure are meausred three times for each subject (e.g. [BPXSY2](https://wwwn.cdc.gov/Nchs/Nhanes/2015-2016/BPX_I.htm#BPXSY2) is the second measurement of systolic blood pressure).  We can calculate the extent to which white coat anxiety is present in the NHANES data by looking a the mean difference between the first two systolic or diastolic blood pressure measurements."
      ]
    },
    {
      "cell_type": "code",
      "metadata": {
        "id": "KhEL_G9VmbRR",
        "colab_type": "code",
        "outputId": "c567ad38-ffe0-45b3-d547-403e06b34d64",
        "colab": {
          "base_uri": "https://localhost:8080/",
          "height": 51
        }
      },
      "source": [
        "print(np.mean(df.BPXSY1 - df.BPXSY2))\n",
        "print(np.mean(df.BPXDI1 - df.BPXDI2))"
      ],
      "execution_count": 0,
      "outputs": [
        {
          "output_type": "stream",
          "text": [
            "0.6749860309182343\n",
            "0.3490407897187558\n"
          ],
          "name": "stdout"
        }
      ]
    },
    {
      "cell_type": "markdown",
      "metadata": {
        "id": "iYwQJ33nmbRV",
        "colab_type": "text"
      },
      "source": [
        "## 1.6 Graphical summaries\n",
        "\n",
        "Quantitative variables can be effectively summarized graphically.  Below we see the distribution of body weight (in Kg), shown as a histogram. "
      ]
    },
    {
      "cell_type": "code",
      "metadata": {
        "id": "HzYQbHjimbRW",
        "colab_type": "code",
        "outputId": "48505e02-a63d-49db-f791-55f46f15bb73",
        "colab": {
          "base_uri": "https://localhost:8080/",
          "height": 300
        }
      },
      "source": [
        "sns.distplot(df.BMXWT.dropna())"
      ],
      "execution_count": 0,
      "outputs": [
        {
          "output_type": "execute_result",
          "data": {
            "text/plain": [
              "<matplotlib.axes._subplots.AxesSubplot at 0x7f455b300cf8>"
            ]
          },
          "metadata": {
            "tags": []
          },
          "execution_count": 25
        },
        {
          "output_type": "display_data",
          "data": {
            "image/png": "[encoded data removed]",
            "text/plain": [
              "<Figure size 432x288 with 1 Axes>"
            ]
          },
          "metadata": {
            "tags": []
          }
        }
      ]
    },
    {
      "cell_type": "markdown",
      "metadata": {
        "id": "bzEBFEG1mbRe",
        "colab_type": "text"
      },
      "source": [
        "Next we look at the histogram of systolic blood pressure measurements.  You can see that there is a tendency for the measurements to be rounded to the nearest 5 or 10 units."
      ]
    },
    {
      "cell_type": "code",
      "metadata": {
        "id": "hVOhK_PnmbRf",
        "colab_type": "code",
        "outputId": "dbd18f35-32d7-4e50-f2ca-1a2cef2f831c",
        "colab": {
          "base_uri": "https://localhost:8080/",
          "height": 300
        }
      },
      "source": [
        "sns.distplot(df.BPXSY1.dropna())"
      ],
      "execution_count": 0,
      "outputs": [
        {
          "output_type": "execute_result",
          "data": {
            "text/plain": [
              "<matplotlib.axes._subplots.AxesSubplot at 0x7f455b506cf8>"
            ]
          },
          "metadata": {
            "tags": []
          },
          "execution_count": 27
        },
        {
          "output_type": "display_data",
          "data": {
            "image/png": "[encoded data removed]",
            "text/plain": [
              "<Figure size 432x288 with 1 Axes>"
            ]
          },
          "metadata": {
            "tags": []
          }
        }
      ]
    },
    {
      "cell_type": "markdown",
      "metadata": {
        "id": "udi1I7YzmbRh",
        "colab_type": "text"
      },
      "source": [
        "To compare several distributions, we can use side-by-side boxplots.  Below we compare the distributions of the first and second systolic blood pressure measurements (BPXSY1, BPXSY2), and the first and second diastolic blood pressure measurements ([BPXDI1](https://wwwn.cdc.gov/Nchs/Nhanes/2015-2016/BPX_I.htm#BPXDI1), BPXDI2). As expected, diastolic measurements are substantially lower than systolic measurements.  Above we saw that the second blood pressure reading on a subject tended on average to be slightly lower than the first measurement.  This difference was less than 1 mm/Hg, so is not visible in the \"marginal\" distributions shown below."
      ]
    },
    {
      "cell_type": "code",
      "metadata": {
        "id": "TSu3ddXnmbRi",
        "colab_type": "code",
        "outputId": "13aea496-7f3a-4b4d-fd3e-f93d9ccbafed",
        "colab": {
          "base_uri": "https://localhost:8080/",
          "height": 269
        }
      },
      "source": [
        "bp = sns.boxplot(df.loc[:, [\"BPXSY1\", \"BPXSY2\", \"BPXDI1\", \"BPXDI2\"]])\n",
        "_ = bp.set_ylabel(\"Blood pressure in mm/Hg\")"
      ],
      "execution_count": 0,
      "outputs": [
        {
          "output_type": "display_data",
          "data": {
            "image/png": "[encoded data removed]",
            "text/plain": [
              "<Figure size 432x288 with 1 Axes>"
            ]
          },
          "metadata": {
            "tags": []
          }
        }
      ]
    },
    {
      "cell_type": "markdown",
      "metadata": {
        "id": "Mys03PMKmbRk",
        "colab_type": "text"
      },
      "source": [
        "## 1.7 Stratification\n",
        "\n",
        "One of the most effective ways to get more information out of a dataset is to divide it into smaller, more uniform subsets, and analyze each of these \"strata\" on its own.  We can then formally or informally compare the findings in the different strata.  When working with human subjects, it is very common to stratify on demographic factors such as age, sex, and race.\n",
        "\n",
        "To illustrate this technique, consider blood pressure, which is a value that tends to increase with age.  To see this trend in the NHANES data, we can [partition](https://pandas.pydata.org/pandas-docs/stable/generated/pandas.cut.html) the data into age strata, and construct side-by-side boxplots of the systolic blood pressure (SBP) distribution within each stratum.  Since age is a quantitative variable, we need to create a series of \"bins\" of similar SBP values in order to stratify the data.  Each box in the figure below is a summary of univariate data within a specific population stratum (here defined by age)."
      ]
    },
    {
      "cell_type": "code",
      "metadata": {
        "id": "sxXKHjgCmbRl",
        "colab_type": "code",
        "outputId": "b0e96021-6588-411c-e32c-c941d1c00f67",
        "colab": {
          "base_uri": "https://localhost:8080/",
          "height": 354
        }
      },
      "source": [
        "df[\"agegrp\"] = pd.cut(df.RIDAGEYR, [18, 30, 40, 50, 60, 70, 80]) # Create age strata based on these cut points\n",
        "plt.figure(figsize=(12, 5))  # Make the figure wider than default (12cm wide by 5cm tall)\n",
        "sns.boxplot(x=\"agegrp\", y=\"BPXSY1\", data=df)  # Make boxplot of BPXSY1 stratified by age group"
      ],
      "execution_count": 0,
      "outputs": [
        {
          "output_type": "execute_result",
          "data": {
            "text/plain": [
              "<matplotlib.axes._subplots.AxesSubplot at 0x7f4558865438>"
            ]
          },
          "metadata": {
            "tags": []
          },
          "execution_count": 29
        },
        {
          "output_type": "display_data",
          "data": {
            "image/png": "[encoded data removed]",
            "text/plain": [
              "<Figure size 864x360 with 1 Axes>"
            ]
          },
          "metadata": {
            "tags": []
          }
        }
      ]
    },
    {
      "cell_type": "markdown",
      "metadata": {
        "id": "JwkvEExImbRo",
        "colab_type": "text"
      },
      "source": [
        "Taking this a step further, it is also the case that blood pressure tends to differ between women and men.  While we could simply make two side-by-side boxplots to illustrate this contrast, it would be a bit odd to ignore age after already having established that it is strongly associated with blood pressure.  Therefore, we will doubly stratify the data by gender and age.\n",
        "\n",
        "We see from the figure below that within each gender, older people tend to have higher blood pressure than younger people.  However within an age band, the relationship between gender and systolic blood pressure is somewhat complex -- in younger people, men have substantially higher blood pressures than women of the same age.  However for people older than 50, this relationship becomes much weaker, and among people older than 70 it appears to reverse. It is also notable that the variation of these distributions, reflected in the height of each box in the boxplot, increases with age."
      ]
    },
    {
      "cell_type": "code",
      "metadata": {
        "id": "WMM4opNEmbRo",
        "colab_type": "code",
        "outputId": "b2a9dcc2-50f4-4327-f01a-9c37ddfbcc2e",
        "colab": {
          "base_uri": "https://localhost:8080/",
          "height": 354
        }
      },
      "source": [
        "df[\"agegrp\"] = pd.cut(df.RIDAGEYR, [18, 30, 40, 50, 60, 70, 80])\n",
        "plt.figure(figsize=(12, 5))\n",
        "sns.boxplot(x=\"agegrp\", y=\"BPXSY1\", hue=\"RIAGENDRx\", data=df)"
      ],
      "execution_count": 0,
      "outputs": [
        {
          "output_type": "execute_result",
          "data": {
            "text/plain": [
              "<matplotlib.axes._subplots.AxesSubplot at 0x7f45587acef0>"
            ]
          },
          "metadata": {
            "tags": []
          },
          "execution_count": 30
        },
        {
          "output_type": "display_data",
          "data": {
            "image/png": "[encoded data removed]",
            "text/plain": [
              "<Figure size 864x360 with 1 Axes>"
            ]
          },
          "metadata": {
            "tags": []
          }
        }
      ]
    },
    {
      "cell_type": "markdown",
      "metadata": {
        "id": "GIej4r-5mbRr",
        "colab_type": "text"
      },
      "source": [
        "When stratifying on two factors (here age and gender), we can group the boxes first by age, and within age bands by gender, as above, or we can do the opposite -- group first by gender, and then within gender group by age bands.  Each approach highlights a different aspect of the data."
      ]
    },
    {
      "cell_type": "code",
      "metadata": {
        "id": "p9E5f8udmbRr",
        "colab_type": "code",
        "outputId": "1615c369-1efe-4dce-9aa8-6aa83927ccc8",
        "colab": {
          "base_uri": "https://localhost:8080/",
          "height": 354
        }
      },
      "source": [
        "df[\"agegrp\"] = pd.cut(df.RIDAGEYR, [18, 30, 40, 50, 60, 70, 80])\n",
        "plt.figure(figsize=(12, 5))\n",
        "sns.boxplot(x=\"RIAGENDRx\", y=\"BPXSY1\", hue=\"agegrp\", data=df)"
      ],
      "execution_count": 0,
      "outputs": [
        {
          "output_type": "execute_result",
          "data": {
            "text/plain": [
              "<matplotlib.axes._subplots.AxesSubplot at 0x7f45587ac588>"
            ]
          },
          "metadata": {
            "tags": []
          },
          "execution_count": 32
        },
        {
          "output_type": "display_data",
          "data": {
            "image/png": "[encoded data removed]",
            "text/plain": [
              "<Figure size 864x360 with 1 Axes>"
            ]
          },
          "metadata": {
            "tags": []
          }
        }
      ]
    },
    {
      "cell_type": "code",
      "metadata": {
        "id": "yhI-MXQ2ZrSp",
        "colab_type": "code",
        "colab": {}
      },
      "source": [
        ""
      ],
      "execution_count": 0,
      "outputs": []
    }
  ]
}