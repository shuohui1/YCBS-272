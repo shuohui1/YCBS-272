{
  "nbformat": 4,
  "nbformat_minor": 0,
  "metadata": {
    "colab": {
      "name": "Quiz #2.ipynb",
      "version": "0.3.2",
      "provenance": [],
      "collapsed_sections": [],
      "include_colab_link": true
    },
    "kernelspec": {
      "name": "python3",
      "display_name": "Python 3"
    }
  },
  "cells": [
    {
      "cell_type": "markdown",
      "metadata": {
        "id": "view-in-github",
        "colab_type": "text"
      },
      "source": [
        "<a href=\"https://colab.research.google.com/github/arbi11/YCBS-272/blob/master/Quiz_2.ipynb\" target=\"_parent\"><img src=\"https://colab.research.google.com/assets/colab-badge.svg\" alt=\"Open In Colab\"/></a>"
      ]
    },
    {
      "cell_type": "markdown",
      "metadata": {
        "id": "P_OG1WD5yxks",
        "colab_type": "text"
      },
      "source": [
        "# Quiz #2\n",
        "\n",
        "\n",
        "1.   All questions contain equal marks [1 point].\n",
        "2.   Import libraries as per your need.\n",
        "\n",
        "1.   You are not allowed to google any queries during the duration of the quiz.\n",
        "2.   However, you are free to use the inbuilt help/ function descriptor of colab [using TAB key]\n",
        "\n",
        "\n",
        "\n",
        "\n",
        "Save the file as 'XXXXXXXX.ipynb'. Replace X with your McGill Id.\n",
        "\n",
        "Go to [File] -> [print] OR [File] -> [Download .ipynb]\n",
        "  \n",
        " and mail it to arbaaz.khan@mail.mcgill.ca"
      ]
    },
    {
      "cell_type": "markdown",
      "metadata": {
        "id": "oGaR1Hi25qjk",
        "colab_type": "text"
      },
      "source": [
        "**Name:**\n",
        "\n",
        "**McGill Id:**\n",
        "\n"
      ]
    },
    {
      "cell_type": "markdown",
      "metadata": {
        "id": "2wnrT5f8zXMc",
        "colab_type": "text"
      },
      "source": [
        "## Loading data"
      ]
    },
    {
      "cell_type": "code",
      "metadata": {
        "id": "myxzsjkDyupc",
        "colab_type": "code",
        "colab": {}
      },
      "source": [
        "import numpy as np\n",
        "\n",
        "n = 200\n",
        "\n",
        "# linespace produces equi-distant x values for, is useful for plotting curves\n",
        "x = np.linspace(0.0, 2.0, n)\n",
        "\n",
        "# initiate parameters as a habit\n",
        "mu, sigma = 0, 50\n",
        "\n",
        "#set seeed to regenerate the same random numbers, \n",
        "#useful for reproducible results.\n",
        "np.random.seed(1)\n",
        "\n",
        "\n",
        "e = np.random.normal(loc=mu, scale= sigma, size=len(x))\n",
        "\n",
        "y = np.exp(3*x)+e"
      ],
      "execution_count": 0,
      "outputs": []
    },
    {
      "cell_type": "markdown",
      "metadata": {
        "id": "XwW7KN7oztHe",
        "colab_type": "text"
      },
      "source": [
        "## 1. Generate the scatter plot between 'x' & 'y'. Superimpose the plot with a line plot, such that you get the following figure.\n",
        "\n",
        "Hint 1: Generate the line plot by removing 'e' component from 'y'\n",
        "\n",
        "The color and line style can vary.!\n",
        "\n",
        "[Hint 2](https://drive.google.com/open?id=1J2ipfAlbPykNFrqiroAX3lz_JRybTbqv)"
      ]
    },
    {
      "cell_type": "code",
      "metadata": {
        "id": "buCHQLuNzk3g",
        "colab_type": "code",
        "outputId": "036f87b0-2a05-45c2-fcd2-369f2ae66090",
        "colab": {
          "base_uri": "https://localhost:8080/",
          "height": 134
        }
      },
      "source": [
        "! git clone https://github.com/arbi11/YCBS-272.git\n",
        "! ls"
      ],
      "execution_count": 0,
      "outputs": [
        {
          "output_type": "stream",
          "text": [
            "Cloning into 'YCBS-272'...\n",
            "remote: Enumerating objects: 69, done.\u001b[K\n",
            "remote: Counting objects: 100% (69/69), done.\u001b[K\n",
            "remote: Compressing objects: 100% (68/68), done.\u001b[K\n",
            "remote: Total 69 (delta 30), reused 0 (delta 0), pack-reused 0\u001b[K\n",
            "Unpacking objects: 100% (69/69), done.\n",
            "sample_data  YCBS-272\n"
          ],
          "name": "stdout"
        }
      ]
    },
    {
      "cell_type": "code",
      "metadata": {
        "id": "W0xQsPQX10k9",
        "colab_type": "code",
        "outputId": "8d384bdf-92c0-423e-b61d-cdfcb72cfb1f",
        "colab": {
          "base_uri": "https://localhost:8080/",
          "height": 34
        }
      },
      "source": [
        "cd YCBS-272/"
      ],
      "execution_count": 0,
      "outputs": [
        {
          "output_type": "stream",
          "text": [
            "/content/YCBS-272\n"
          ],
          "name": "stdout"
        }
      ]
    },
    {
      "cell_type": "code",
      "metadata": {
        "id": "6-4tWjkh1578",
        "colab_type": "code",
        "outputId": "e8fff490-987a-42f5-db26-ea81de8f28ba",
        "colab": {
          "base_uri": "https://localhost:8080/",
          "height": 118
        }
      },
      "source": [
        "! ls"
      ],
      "execution_count": 0,
      "outputs": [
        {
          "output_type": "stream",
          "text": [
            "Advertising.csv\t\t       Lec_4_2.ipynb\t   nhanes_2015_2016.csv\n",
            "drinks.csv\t\t       Lec_4_3.ipynb\t   README.md\n",
            "fandango_score_comparison.csv  Lec_4_4.ipynb\t   spamdata.csv\n",
            "Lec_2.ipynb\t\t       Lec_4_5.ipynb\t   YCBS_272_Assignment_1.ipynb\n",
            "Lec_2_solution.ipynb\t       Lec_4_6.ipynb\n",
            "Lec_4_1.ipynb\t\t       Lec_5_Lesson.ipynb\n"
          ],
          "name": "stdout"
        }
      ]
    },
    {
      "cell_type": "markdown",
      "metadata": {
        "id": "jci2wBDM2b-O",
        "colab_type": "text"
      },
      "source": [
        "# Importing Data"
      ]
    },
    {
      "cell_type": "code",
      "metadata": {
        "id": "vFEKt4QP1xpX",
        "colab_type": "code",
        "outputId": "ede200dd-905d-4aea-977e-2a3b1f83e9e7",
        "colab": {
          "base_uri": "https://localhost:8080/",
          "height": 151
        }
      },
      "source": [
        "import pandas as pd\n",
        "advertising = pd.read_csv('Advertising.csv', usecols=[2,3,4])\n",
        "advertising.info()\n"
      ],
      "execution_count": 0,
      "outputs": [
        {
          "output_type": "stream",
          "text": [
            "<class 'pandas.core.frame.DataFrame'>\n",
            "RangeIndex: 200 entries, 0 to 199\n",
            "Data columns (total 3 columns):\n",
            "radio        200 non-null float64\n",
            "newspaper    200 non-null float64\n",
            "sales        200 non-null float64\n",
            "dtypes: float64(3)\n",
            "memory usage: 4.8 KB\n"
          ],
          "name": "stdout"
        }
      ]
    },
    {
      "cell_type": "markdown",
      "metadata": {
        "id": "GSTmyQ_t2ZJG",
        "colab_type": "text"
      },
      "source": [
        "# 2. Extract just the values of the dataframe\n",
        "\n",
        "Hint: you will get back a numpy array"
      ]
    },
    {
      "cell_type": "code",
      "metadata": {
        "id": "mzRdFslo2rs-",
        "colab_type": "code",
        "colab": {}
      },
      "source": [
        ""
      ],
      "execution_count": 0,
      "outputs": []
    },
    {
      "cell_type": "markdown",
      "metadata": {
        "id": "lAl92NvC2vPw",
        "colab_type": "text"
      },
      "source": [
        "# 3. Call the column 'radio' from the dataset\n",
        "\n",
        "There are two ways of doing this. Give the code for both\n"
      ]
    },
    {
      "cell_type": "code",
      "metadata": {
        "id": "_NGq-1Gr2-fO",
        "colab_type": "code",
        "colab": {}
      },
      "source": [
        ""
      ],
      "execution_count": 0,
      "outputs": []
    },
    {
      "cell_type": "code",
      "metadata": {
        "id": "Gqrnq7Vx2_LT",
        "colab_type": "code",
        "colab": {}
      },
      "source": [
        ""
      ],
      "execution_count": 0,
      "outputs": []
    },
    {
      "cell_type": "markdown",
      "metadata": {
        "id": "1Ki5joEA2_hY",
        "colab_type": "text"
      },
      "source": [
        "# 4. See head and tails of the dataframe\n",
        "\n"
      ]
    },
    {
      "cell_type": "code",
      "metadata": {
        "id": "61R-WnCV3GOd",
        "colab_type": "code",
        "colab": {}
      },
      "source": [
        ""
      ],
      "execution_count": 0,
      "outputs": []
    },
    {
      "cell_type": "code",
      "metadata": {
        "id": "mDVp24M-3G3h",
        "colab_type": "code",
        "colab": {}
      },
      "source": [
        ""
      ],
      "execution_count": 0,
      "outputs": []
    },
    {
      "cell_type": "markdown",
      "metadata": {
        "id": "235-xtYb3IU6",
        "colab_type": "text"
      },
      "source": [
        "# 5. Transpose your data\n",
        "\n"
      ]
    },
    {
      "cell_type": "code",
      "metadata": {
        "id": "jzLcK7RI3K7d",
        "colab_type": "code",
        "colab": {}
      },
      "source": [
        ""
      ],
      "execution_count": 0,
      "outputs": []
    },
    {
      "cell_type": "markdown",
      "metadata": {
        "id": "DN8CTGvB3MIY",
        "colab_type": "text"
      },
      "source": [
        "# 6. Difference between .iloc & .loc\n",
        "\n",
        "Explain the difference in 1 point or 1 line and write a code to show the working for both\n",
        "[1 point]"
      ]
    },
    {
      "cell_type": "markdown",
      "metadata": {
        "id": "YADxItIF3Wxd",
        "colab_type": "text"
      },
      "source": [
        ""
      ]
    },
    {
      "cell_type": "code",
      "metadata": {
        "id": "UMiaexH53USI",
        "colab_type": "code",
        "colab": {}
      },
      "source": [
        ""
      ],
      "execution_count": 0,
      "outputs": []
    },
    {
      "cell_type": "markdown",
      "metadata": {
        "id": "O6LoHz653jYx",
        "colab_type": "text"
      },
      "source": [
        "# 7. Draw the histogram of all the columns"
      ]
    },
    {
      "cell_type": "code",
      "metadata": {
        "id": "Ne7aWQFd37Re",
        "colab_type": "code",
        "colab": {}
      },
      "source": [
        ""
      ],
      "execution_count": 0,
      "outputs": []
    },
    {
      "cell_type": "markdown",
      "metadata": {
        "id": "XD0pHyKZ375L",
        "colab_type": "text"
      },
      "source": [
        "# 8. Draw a box plot of any/all columns"
      ]
    },
    {
      "cell_type": "code",
      "metadata": {
        "id": "zGRdf56j4C5G",
        "colab_type": "code",
        "colab": {}
      },
      "source": [
        ""
      ],
      "execution_count": 0,
      "outputs": []
    },
    {
      "cell_type": "markdown",
      "metadata": {
        "id": "ADViGGCy4HU3",
        "colab_type": "text"
      },
      "source": [
        "# 9. Draw a vertical histogram/boxplot"
      ]
    },
    {
      "cell_type": "code",
      "metadata": {
        "id": "Vbcv2NHh4L6u",
        "colab_type": "code",
        "colab": {}
      },
      "source": [
        ""
      ],
      "execution_count": 0,
      "outputs": []
    },
    {
      "cell_type": "markdown",
      "metadata": {
        "id": "wb5jra6j4Nud",
        "colab_type": "text"
      },
      "source": [
        "# 10. Draw a scatter plot between the columns 'radio' & 'sales'"
      ]
    },
    {
      "cell_type": "code",
      "metadata": {
        "id": "HzC41G0E4Vt-",
        "colab_type": "code",
        "colab": {}
      },
      "source": [
        ""
      ],
      "execution_count": 0,
      "outputs": []
    },
    {
      "cell_type": "markdown",
      "metadata": {
        "id": "gl-MaBoB4XiQ",
        "colab_type": "text"
      },
      "source": [
        "# 11. Plot the graph with all the scatter plots between all the possible combinations of variable"
      ]
    },
    {
      "cell_type": "code",
      "metadata": {
        "id": "FxVzlvQo4rqO",
        "colab_type": "code",
        "colab": {}
      },
      "source": [
        ""
      ],
      "execution_count": 0,
      "outputs": []
    },
    {
      "cell_type": "markdown",
      "metadata": {
        "id": "vxWpkftg4sQb",
        "colab_type": "text"
      },
      "source": [
        "# 12. Get the correlation values of all the columns"
      ]
    },
    {
      "cell_type": "code",
      "metadata": {
        "id": "gqJLeIE44wgG",
        "colab_type": "code",
        "colab": {}
      },
      "source": [
        ""
      ],
      "execution_count": 0,
      "outputs": []
    },
    {
      "cell_type": "markdown",
      "metadata": {
        "id": "xZbkypF04yh_",
        "colab_type": "text"
      },
      "source": [
        "# 13. Get a kdeplot from seaborn of any 1 of the column"
      ]
    },
    {
      "cell_type": "code",
      "metadata": {
        "id": "-TmxqD9M44kW",
        "colab_type": "code",
        "colab": {}
      },
      "source": [
        ""
      ],
      "execution_count": 0,
      "outputs": []
    },
    {
      "cell_type": "markdown",
      "metadata": {
        "id": "mjXT8yvg50LD",
        "colab_type": "text"
      },
      "source": [
        "# 14. Generate Stacked histograms plot:\n",
        "\n",
        "\n",
        "\n",
        "[Hint](https://drive.google.com/open?id=17YDjxGuA31fik_WVmr4fzbpMfcOEGYNy)"
      ]
    },
    {
      "cell_type": "code",
      "metadata": {
        "id": "2jLXMrla59Wl",
        "colab_type": "code",
        "colab": {}
      },
      "source": [
        ""
      ],
      "execution_count": 0,
      "outputs": []
    },
    {
      "cell_type": "markdown",
      "metadata": {
        "id": "MVwVdgCa6QmY",
        "colab_type": "text"
      },
      "source": [
        "# 15. Generate a 'joint plot' from seaborn between any two variable"
      ]
    },
    {
      "cell_type": "code",
      "metadata": {
        "id": "KVCRmvHd591H",
        "colab_type": "code",
        "colab": {}
      },
      "source": [
        ""
      ],
      "execution_count": 0,
      "outputs": []
    }
  ]
}