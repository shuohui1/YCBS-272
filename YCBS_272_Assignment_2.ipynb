{
  "nbformat": 4,
  "nbformat_minor": 0,
  "metadata": {
    "colab": {
      "name": "YCBS_272_Assignment_2.ipynb",
      "version": "0.3.2",
      "provenance": [],
      "collapsed_sections": [],
      "include_colab_link": true
    },
    "kernelspec": {
      "name": "python3",
      "display_name": "Python 3"
    }
  },
  "cells": [
    {
      "cell_type": "markdown",
      "metadata": {
        "id": "view-in-github",
        "colab_type": "text"
      },
      "source": [
        "<a href=\"https://colab.research.google.com/github/arbi11/YCBS-272/blob/master/YCBS_272_Assignment_2.ipynb\" target=\"_parent\"><img src=\"https://colab.research.google.com/assets/colab-badge.svg\" alt=\"Open In Colab\"/></a>"
      ]
    },
    {
      "cell_type": "markdown",
      "metadata": {
        "id": "47U3_faiYgaR",
        "colab_type": "text"
      },
      "source": [
        "#Instructions for Assignment 2\n",
        "\n",
        "\n",
        "1.   All the submissions should be attempted individually.\n",
        "2.   Please submit the assignment either on mycources or mail directly to arbaaz.khan@mail.mcgill.ca\n",
        "\n",
        "1.   You have the option of either submitted the python notebook (.ipynb) or in .pdf format\n",
        "2.   Maximum points associated with this assignment = 15.\n",
        "\n",
        "\n",
        "\n",
        "\n",
        "\n",
        "\n"
      ]
    },
    {
      "cell_type": "markdown",
      "metadata": {
        "id": "AVYFXPgpUQbp",
        "colab_type": "text"
      },
      "source": [
        "# Loading the necessary data"
      ]
    },
    {
      "cell_type": "code",
      "metadata": {
        "id": "TJBvHpojUORr",
        "colab_type": "code",
        "outputId": "6bcb747f-ddec-42e6-f167-244875523e03",
        "colab": {
          "base_uri": "https://localhost:8080/",
          "height": 34
        }
      },
      "source": [
        "! git clone https://github.com/arbi11/YCBS-272.git"
      ],
      "execution_count": 1,
      "outputs": [
        {
          "output_type": "stream",
          "text": [
            "fatal: destination path 'YCBS-272' already exists and is not an empty directory.\n"
          ],
          "name": "stdout"
        }
      ]
    },
    {
      "cell_type": "code",
      "metadata": {
        "id": "tFdZBA_GUVMR",
        "colab_type": "code",
        "outputId": "c5d37f0a-0f8a-4468-8c8e-c4d371345f18",
        "colab": {
          "base_uri": "https://localhost:8080/",
          "height": 34
        }
      },
      "source": [
        "! ls"
      ],
      "execution_count": 2,
      "outputs": [
        {
          "output_type": "stream",
          "text": [
            "sample_data  YCBS-272\n"
          ],
          "name": "stdout"
        }
      ]
    },
    {
      "cell_type": "code",
      "metadata": {
        "id": "_CzgTXLHUkqy",
        "colab_type": "code",
        "outputId": "c55cae18-6a29-4e8e-8f03-7faa257b79e8",
        "colab": {
          "base_uri": "https://localhost:8080/",
          "height": 34
        }
      },
      "source": [
        "cd YCBS-272/"
      ],
      "execution_count": 3,
      "outputs": [
        {
          "output_type": "stream",
          "text": [
            "/content/YCBS-272\n"
          ],
          "name": "stdout"
        }
      ]
    },
    {
      "cell_type": "code",
      "metadata": {
        "id": "oWKQJgjMUneR",
        "colab_type": "code",
        "outputId": "6a7a9349-cca1-4e19-d158-78a4e7f855b4",
        "colab": {
          "base_uri": "https://localhost:8080/",
          "height": 204
        }
      },
      "source": [
        "! ls"
      ],
      "execution_count": 4,
      "outputs": [
        {
          "output_type": "stream",
          "text": [
            "Advertising.csv\t\t       Lec_4_5.ipynb\n",
            "Auto.csv\t\t       Lec_4_6.ipynb\n",
            "drinks.csv\t\t       Lec_5_Lesson.ipynb\n",
            "fandango_score_comparison.csv  Lec_6_decision_trees.ipynb\n",
            "indian_liver_patient.csv       nhanes_2015_2016.csv\n",
            "Lec_2.ipynb\t\t       Quiz_2.ipynb\n",
            "Lec_2_solution.ipynb\t       README.md\n",
            "Lec_4_1.ipynb\t\t       spamdata.csv\n",
            "Lec_4_2.ipynb\t\t       Tree_Exercise.ipynb\n",
            "Lec_4_3.ipynb\t\t       YCBS_272_Assignment_1.ipynb\n",
            "Lec_4_4.ipynb\t\t       YCBS_272_Assignment_2.ipynb\n"
          ],
          "name": "stdout"
        }
      ]
    },
    {
      "cell_type": "markdown",
      "metadata": {
        "id": "tSTAXmkDWVfy",
        "colab_type": "text"
      },
      "source": [
        "# Loading the data.\n",
        "\n",
        "The column **'Dataset'** is the target column.\n"
      ]
    },
    {
      "cell_type": "code",
      "metadata": {
        "id": "wCt_dC6DUqa6",
        "colab_type": "code",
        "colab": {}
      },
      "source": [
        "import pandas as pd\n",
        "data_frame = pd.read_csv('indian_liver_patient.csv')"
      ],
      "execution_count": 0,
      "outputs": []
    },
    {
      "cell_type": "code",
      "metadata": {
        "id": "rsN25e3xaLIb",
        "colab_type": "code",
        "colab": {
          "base_uri": "https://localhost:8080/",
          "height": 297
        },
        "outputId": "06f8994f-7e11-4d22-8e03-b47339866bf2"
      },
      "source": [
        "data_frame.describe()"
      ],
      "execution_count": 6,
      "outputs": [
        {
          "output_type": "execute_result",
          "data": {
            "text/html": [
              "<div>\n",
              "<style scoped>\n",
              "    .dataframe tbody tr th:only-of-type {\n",
              "        vertical-align: middle;\n",
              "    }\n",
              "\n",
              "    .dataframe tbody tr th {\n",
              "        vertical-align: top;\n",
              "    }\n",
              "\n",
              "    .dataframe thead th {\n",
              "        text-align: right;\n",
              "    }\n",
              "</style>\n",
              "<table border=\"1\" class=\"dataframe\">\n",
              "  <thead>\n",
              "    <tr style=\"text-align: right;\">\n",
              "      <th></th>\n",
              "      <th>Age</th>\n",
              "      <th>Total_Bilirubin</th>\n",
              "      <th>Direct_Bilirubin</th>\n",
              "      <th>Alkaline_Phosphotase</th>\n",
              "      <th>Alamine_Aminotransferase</th>\n",
              "      <th>Aspartate_Aminotransferase</th>\n",
              "      <th>Total_Protiens</th>\n",
              "      <th>Albumin</th>\n",
              "      <th>Albumin_and_Globulin_Ratio</th>\n",
              "      <th>Dataset</th>\n",
              "    </tr>\n",
              "  </thead>\n",
              "  <tbody>\n",
              "    <tr>\n",
              "      <th>count</th>\n",
              "      <td>583.000000</td>\n",
              "      <td>583.000000</td>\n",
              "      <td>583.000000</td>\n",
              "      <td>583.000000</td>\n",
              "      <td>583.000000</td>\n",
              "      <td>583.000000</td>\n",
              "      <td>583.000000</td>\n",
              "      <td>583.000000</td>\n",
              "      <td>579.000000</td>\n",
              "      <td>583.000000</td>\n",
              "    </tr>\n",
              "    <tr>\n",
              "      <th>mean</th>\n",
              "      <td>44.746141</td>\n",
              "      <td>3.298799</td>\n",
              "      <td>1.486106</td>\n",
              "      <td>290.576329</td>\n",
              "      <td>80.713551</td>\n",
              "      <td>109.910806</td>\n",
              "      <td>6.483190</td>\n",
              "      <td>3.141852</td>\n",
              "      <td>0.947064</td>\n",
              "      <td>1.286449</td>\n",
              "    </tr>\n",
              "    <tr>\n",
              "      <th>std</th>\n",
              "      <td>16.189833</td>\n",
              "      <td>6.209522</td>\n",
              "      <td>2.808498</td>\n",
              "      <td>242.937989</td>\n",
              "      <td>182.620356</td>\n",
              "      <td>288.918529</td>\n",
              "      <td>1.085451</td>\n",
              "      <td>0.795519</td>\n",
              "      <td>0.319592</td>\n",
              "      <td>0.452490</td>\n",
              "    </tr>\n",
              "    <tr>\n",
              "      <th>min</th>\n",
              "      <td>4.000000</td>\n",
              "      <td>0.400000</td>\n",
              "      <td>0.100000</td>\n",
              "      <td>63.000000</td>\n",
              "      <td>10.000000</td>\n",
              "      <td>10.000000</td>\n",
              "      <td>2.700000</td>\n",
              "      <td>0.900000</td>\n",
              "      <td>0.300000</td>\n",
              "      <td>1.000000</td>\n",
              "    </tr>\n",
              "    <tr>\n",
              "      <th>25%</th>\n",
              "      <td>33.000000</td>\n",
              "      <td>0.800000</td>\n",
              "      <td>0.200000</td>\n",
              "      <td>175.500000</td>\n",
              "      <td>23.000000</td>\n",
              "      <td>25.000000</td>\n",
              "      <td>5.800000</td>\n",
              "      <td>2.600000</td>\n",
              "      <td>0.700000</td>\n",
              "      <td>1.000000</td>\n",
              "    </tr>\n",
              "    <tr>\n",
              "      <th>50%</th>\n",
              "      <td>45.000000</td>\n",
              "      <td>1.000000</td>\n",
              "      <td>0.300000</td>\n",
              "      <td>208.000000</td>\n",
              "      <td>35.000000</td>\n",
              "      <td>42.000000</td>\n",
              "      <td>6.600000</td>\n",
              "      <td>3.100000</td>\n",
              "      <td>0.930000</td>\n",
              "      <td>1.000000</td>\n",
              "    </tr>\n",
              "    <tr>\n",
              "      <th>75%</th>\n",
              "      <td>58.000000</td>\n",
              "      <td>2.600000</td>\n",
              "      <td>1.300000</td>\n",
              "      <td>298.000000</td>\n",
              "      <td>60.500000</td>\n",
              "      <td>87.000000</td>\n",
              "      <td>7.200000</td>\n",
              "      <td>3.800000</td>\n",
              "      <td>1.100000</td>\n",
              "      <td>2.000000</td>\n",
              "    </tr>\n",
              "    <tr>\n",
              "      <th>max</th>\n",
              "      <td>90.000000</td>\n",
              "      <td>75.000000</td>\n",
              "      <td>19.700000</td>\n",
              "      <td>2110.000000</td>\n",
              "      <td>2000.000000</td>\n",
              "      <td>4929.000000</td>\n",
              "      <td>9.600000</td>\n",
              "      <td>5.500000</td>\n",
              "      <td>2.800000</td>\n",
              "      <td>2.000000</td>\n",
              "    </tr>\n",
              "  </tbody>\n",
              "</table>\n",
              "</div>"
            ],
            "text/plain": [
              "              Age  Total_Bilirubin  ...  Albumin_and_Globulin_Ratio     Dataset\n",
              "count  583.000000       583.000000  ...                  579.000000  583.000000\n",
              "mean    44.746141         3.298799  ...                    0.947064    1.286449\n",
              "std     16.189833         6.209522  ...                    0.319592    0.452490\n",
              "min      4.000000         0.400000  ...                    0.300000    1.000000\n",
              "25%     33.000000         0.800000  ...                    0.700000    1.000000\n",
              "50%     45.000000         1.000000  ...                    0.930000    1.000000\n",
              "75%     58.000000         2.600000  ...                    1.100000    2.000000\n",
              "max     90.000000        75.000000  ...                    2.800000    2.000000\n",
              "\n",
              "[8 rows x 10 columns]"
            ]
          },
          "metadata": {
            "tags": []
          },
          "execution_count": 6
        }
      ]
    },
    {
      "cell_type": "markdown",
      "metadata": {
        "id": "JxKUmtD4VSG_",
        "colab_type": "text"
      },
      "source": [
        "# 1. Explain what is happening the next line of code\n",
        "[1 point]"
      ]
    },
    {
      "cell_type": "code",
      "metadata": {
        "id": "uR3QIU42VHEC",
        "colab_type": "code",
        "colab": {}
      },
      "source": [
        "data_frame = pd.get_dummies(data_frame, prefix=['Gender'])"
      ],
      "execution_count": 0,
      "outputs": []
    },
    {
      "cell_type": "markdown",
      "metadata": {
        "id": "qY5cc2QyaU86",
        "colab_type": "text"
      },
      "source": [
        ""
      ]
    },
    {
      "cell_type": "markdown",
      "metadata": {
        "id": "DTiqtnEUVlQS",
        "colab_type": "text"
      },
      "source": [
        "# 2. Perform basic statistics for the dataset and explain what useful information you extacted from them\n",
        "\n",
        "Execute and write about atleast 2 different pandas function.\n",
        "\n",
        "[2 points]"
      ]
    },
    {
      "cell_type": "markdown",
      "metadata": {
        "id": "yZrnxcsYWQj6",
        "colab_type": "text"
      },
      "source": [
        "# 3.1 Generate a box plot showing the effect of 'Age' on 'Total_Protiens' column\n",
        "[1 point]"
      ]
    },
    {
      "cell_type": "code",
      "metadata": {
        "id": "GQFQgHCwV_Tx",
        "colab_type": "code",
        "colab": {}
      },
      "source": [
        ""
      ],
      "execution_count": 0,
      "outputs": []
    },
    {
      "cell_type": "markdown",
      "metadata": {
        "id": "ibsx9QtNWq7y",
        "colab_type": "text"
      },
      "source": [
        "# 3.2 Extend the above box plot to show the effect of 'Gender' too along with 'Age' on 'Total_Protiens' column\n",
        "\n",
        "Hint: You might want to check what we did in Lesson 5.\n",
        "\n",
        "[Lesson 5 Solution](https://github.com/arbi11/YCBS-272/blob/master/Lec_5_Solution.ipynb)\n",
        "\n",
        "[2 point]"
      ]
    },
    {
      "cell_type": "code",
      "metadata": {
        "id": "O_KrIPGJWPDp",
        "colab_type": "code",
        "colab": {}
      },
      "source": [
        ""
      ],
      "execution_count": 0,
      "outputs": []
    },
    {
      "cell_type": "markdown",
      "metadata": {
        "id": "-oG2Y7hsXAdi",
        "colab_type": "text"
      },
      "source": [
        "# 4. Partition the data into 'Train' and 'Test' set\n",
        "\n",
        "Ratio: 90:10\n",
        "\n",
        "[1 point]"
      ]
    },
    {
      "cell_type": "markdown",
      "metadata": {
        "id": "jHGC6KhbXQeS",
        "colab_type": "text"
      },
      "source": [
        "# 5.1 Train a model (Decision Tree) on the 'Train' dataset\n",
        "\n",
        "The column 'Dataset' is the Target.\n",
        "\n",
        "The labels are divided into two classes: \n",
        "\n",
        "Class '1': Patient has **NO** disease,\n",
        "\n",
        "Class '2': Patient has Liver disease\n",
        "\n",
        "[2 points]"
      ]
    },
    {
      "cell_type": "code",
      "metadata": {
        "id": "1P4ta0AgXGRW",
        "colab_type": "code",
        "colab": {
          "base_uri": "https://localhost:8080/",
          "height": 68
        },
        "outputId": "50cad00f-1d85-4951-ae42-3a63b39cf86c"
      },
      "source": [
        "data_frame['Dataset'].value_counts()"
      ],
      "execution_count": 12,
      "outputs": [
        {
          "output_type": "execute_result",
          "data": {
            "text/plain": [
              "1    416\n",
              "2    167\n",
              "Name: Dataset, dtype: int64"
            ]
          },
          "metadata": {
            "tags": []
          },
          "execution_count": 12
        }
      ]
    },
    {
      "cell_type": "code",
      "metadata": {
        "id": "rFhxUTb7XMxi",
        "colab_type": "code",
        "colab": {}
      },
      "source": [
        ""
      ],
      "execution_count": 0,
      "outputs": []
    },
    {
      "cell_type": "markdown",
      "metadata": {
        "id": "pUPiZEIXXacK",
        "colab_type": "text"
      },
      "source": [
        "# 5.2 Predict the outcome for the data in 'Test' set\n",
        "\n",
        "[1 point]"
      ]
    },
    {
      "cell_type": "code",
      "metadata": {
        "id": "JNdVj3lIXjnS",
        "colab_type": "code",
        "colab": {}
      },
      "source": [
        ""
      ],
      "execution_count": 0,
      "outputs": []
    },
    {
      "cell_type": "markdown",
      "metadata": {
        "id": "mUCjLyeLXmWx",
        "colab_type": "text"
      },
      "source": [
        "# 5.3 Compute the accuracy over both the 'Train' & 'Test' set\n",
        "\n",
        "[1 point]"
      ]
    },
    {
      "cell_type": "code",
      "metadata": {
        "id": "TexlTStsXwbi",
        "colab_type": "code",
        "colab": {}
      },
      "source": [
        ""
      ],
      "execution_count": 0,
      "outputs": []
    },
    {
      "cell_type": "markdown",
      "metadata": {
        "id": "iO_xq2N9XxWK",
        "colab_type": "text"
      },
      "source": [
        "# 5.4 Generate the confusion matrix.\n",
        "\n",
        "Explain each element in the confusion matrix.\n",
        "\n",
        "How will you calculate **Precision** and **Recall**? Explain their significance.\n",
        "\n",
        "[2 points]"
      ]
    },
    {
      "cell_type": "code",
      "metadata": {
        "id": "4GHpbcTMYBpR",
        "colab_type": "code",
        "colab": {}
      },
      "source": [
        ""
      ],
      "execution_count": 0,
      "outputs": []
    },
    {
      "cell_type": "markdown",
      "metadata": {
        "id": "1PrbicO7YF2a",
        "colab_type": "text"
      },
      "source": [
        "# 5.5 Plot your decision tree\n",
        "\n",
        "[1 point]"
      ]
    },
    {
      "cell_type": "code",
      "metadata": {
        "id": "v2iKxH5nYJAa",
        "colab_type": "code",
        "colab": {}
      },
      "source": [
        ""
      ],
      "execution_count": 0,
      "outputs": []
    },
    {
      "cell_type": "markdown",
      "metadata": {
        "id": "YBYf8nnlYMeS",
        "colab_type": "text"
      },
      "source": [
        "# 5.6 Can you identify the most important feature in your train dataset\n",
        "\n",
        "[1 point]"
      ]
    },
    {
      "cell_type": "code",
      "metadata": {
        "id": "gzHRi1GKYUVy",
        "colab_type": "code",
        "colab": {}
      },
      "source": [
        ""
      ],
      "execution_count": 0,
      "outputs": []
    },
    {
      "cell_type": "markdown",
      "metadata": {
        "id": "DIu_LOOKY4zq",
        "colab_type": "text"
      },
      "source": [
        "# Bonus: How can you improve the efficiency of your prediction\n",
        "\n",
        "Hint: Bagging Classifier\n",
        "\n",
        "If you have lot of free time:\n",
        "\n",
        "*! pip install xgboost*\n",
        "\n",
        "*import xgboost as xgb*\n",
        "\n",
        "[XGBoost](https://xgboost.readthedocs.io/en/latest/)\n",
        "\n",
        "XGBoost is a gradienbt based Boosting Tree Classifier. \n",
        "\n",
        "\n",
        "Bonus marks for achieving accuracy over 0.74"
      ]
    },
    {
      "cell_type": "code",
      "metadata": {
        "id": "etXnohH5ZIei",
        "colab_type": "code",
        "colab": {}
      },
      "source": [
        ""
      ],
      "execution_count": 0,
      "outputs": []
    }
  ]
}