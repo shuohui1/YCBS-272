{
  "nbformat": 4,
  "nbformat_minor": 0,
  "metadata": {
    "colab": {
      "name": "YCBS_272_Assignment_2.ipynb",
      "version": "0.3.2",
      "provenance": [],
      "collapsed_sections": [],
      "include_colab_link": true
    },
    "kernelspec": {
      "name": "python3",
      "display_name": "Python 3"
    }
  },
  "cells": [
    {
      "cell_type": "markdown",
      "metadata": {
        "id": "view-in-github",
        "colab_type": "text"
      },
      "source": [
        "<a href=\"https://colab.research.google.com/github/arbi11/YCBS-272/blob/master/YCBS_272_Assignment_2.ipynb\" target=\"_parent\"><img src=\"https://colab.research.google.com/assets/colab-badge.svg\" alt=\"Open In Colab\"/></a>"
      ]
    },
    {
      "cell_type": "markdown",
      "metadata": {
        "id": "47U3_faiYgaR",
        "colab_type": "text"
      },
      "source": [
        "#Instructions for Assignment 2\n",
        "\n",
        "\n",
        "1.   All the submissions should be attempted individually.\n",
        "2.   Please submit the assignment either on mycources or mail directly to arbaaz.khan@mail.mcgill.ca\n",
        "\n",
        "1.   You have the option of either submitted the python notebook (.ipynb) or in .pdf format\n",
        "2.   Maximum points associated with this assignment = 15.\n",
        "\n",
        "\n",
        "\n",
        "\n",
        "\n",
        "\n"
      ]
    },
    {
      "cell_type": "markdown",
      "metadata": {
        "id": "AVYFXPgpUQbp",
        "colab_type": "text"
      },
      "source": [
        "# Loading the necessary data"
      ]
    },
    {
      "cell_type": "code",
      "metadata": {
        "id": "TJBvHpojUORr",
        "colab_type": "code",
        "outputId": "c7e0f998-7b60-4be1-8d36-05f6bdda8900",
        "colab": {
          "base_uri": "https://localhost:8080/",
          "height": 119
        }
      },
      "source": [
        "! git clone https://github.com/arbi11/YCBS-272.git"
      ],
      "execution_count": 0,
      "outputs": [
        {
          "output_type": "stream",
          "text": [
            "Cloning into 'YCBS-272'...\n",
            "remote: Enumerating objects: 84, done.\u001b[K\n",
            "remote: Counting objects: 100% (84/84), done.\u001b[K\n",
            "remote: Compressing objects: 100% (83/83), done.\u001b[K\n",
            "remote: Total 84 (delta 37), reused 0 (delta 0), pack-reused 0\u001b[K\n",
            "Unpacking objects: 100% (84/84), done.\n"
          ],
          "name": "stdout"
        }
      ]
    },
    {
      "cell_type": "code",
      "metadata": {
        "id": "tFdZBA_GUVMR",
        "colab_type": "code",
        "outputId": "24cbe1eb-411a-48b1-e92b-dda1618b8609",
        "colab": {
          "base_uri": "https://localhost:8080/",
          "height": 34
        }
      },
      "source": [
        "! ls"
      ],
      "execution_count": 0,
      "outputs": [
        {
          "output_type": "stream",
          "text": [
            "sample_data  YCBS-272\n"
          ],
          "name": "stdout"
        }
      ]
    },
    {
      "cell_type": "code",
      "metadata": {
        "id": "_CzgTXLHUkqy",
        "colab_type": "code",
        "outputId": "eb3abd69-4c72-4525-e6f0-34db92d9643f",
        "colab": {
          "base_uri": "https://localhost:8080/",
          "height": 34
        }
      },
      "source": [
        "cd YCBS-272/"
      ],
      "execution_count": 0,
      "outputs": [
        {
          "output_type": "stream",
          "text": [
            "/content/YCBS-272\n"
          ],
          "name": "stdout"
        }
      ]
    },
    {
      "cell_type": "code",
      "metadata": {
        "id": "oWKQJgjMUneR",
        "colab_type": "code",
        "outputId": "b71c00a9-892a-4084-9e4d-478f7fd31904",
        "colab": {
          "base_uri": "https://localhost:8080/",
          "height": 136
        }
      },
      "source": [
        "! ls"
      ],
      "execution_count": 0,
      "outputs": [
        {
          "output_type": "stream",
          "text": [
            "Advertising.csv\t\t       Lec_4_1.ipynb\t   Lec_6_decision_trees.ipynb\n",
            "Auto.csv\t\t       Lec_4_2.ipynb\t   nhanes_2015_2016.csv\n",
            "drinks.csv\t\t       Lec_4_3.ipynb\t   Quiz_2.ipynb\n",
            "fandango_score_comparison.csv  Lec_4_4.ipynb\t   README.md\n",
            "indian_liver_patient.csv       Lec_4_5.ipynb\t   spamdata.csv\n",
            "Lec_2.ipynb\t\t       Lec_4_6.ipynb\t   Tree_Exercise.ipynb\n",
            "Lec_2_solution.ipynb\t       Lec_5_Lesson.ipynb  YCBS_272_Assignment_1.ipynb\n"
          ],
          "name": "stdout"
        }
      ]
    },
    {
      "cell_type": "markdown",
      "metadata": {
        "id": "tSTAXmkDWVfy",
        "colab_type": "text"
      },
      "source": [
        "# Loading the data.\n",
        "\n",
        "The column **'Dataset'** is the target column.\n"
      ]
    },
    {
      "cell_type": "code",
      "metadata": {
        "id": "wCt_dC6DUqa6",
        "colab_type": "code",
        "colab": {}
      },
      "source": [
        "import pandas as pd\n",
        "data_frame = pd.read_csv('indian_liver_patient.csv')"
      ],
      "execution_count": 0,
      "outputs": []
    },
    {
      "cell_type": "markdown",
      "metadata": {
        "id": "JxKUmtD4VSG_",
        "colab_type": "text"
      },
      "source": [
        "# 1. Explain what is happening the next line of code\n",
        "[1 point]"
      ]
    },
    {
      "cell_type": "code",
      "metadata": {
        "id": "uR3QIU42VHEC",
        "colab_type": "code",
        "colab": {}
      },
      "source": [
        "data_frame = pd.get_dummies(data_frame, prefix=['Gender'])"
      ],
      "execution_count": 0,
      "outputs": []
    },
    {
      "cell_type": "markdown",
      "metadata": {
        "id": "DTiqtnEUVlQS",
        "colab_type": "text"
      },
      "source": [
        "# 2. Perform basic statistics for the dataset and explain what useful information you extacted from them\n",
        "\n",
        "Execute and write about atleast 2 different pandas function.\n",
        "\n",
        "[2 points]"
      ]
    },
    {
      "cell_type": "markdown",
      "metadata": {
        "id": "yZrnxcsYWQj6",
        "colab_type": "text"
      },
      "source": [
        "# 3.1 Generate a box plot showing the effect of age on 'Total_Protiens' column\n",
        "[1 point]"
      ]
    },
    {
      "cell_type": "code",
      "metadata": {
        "id": "GQFQgHCwV_Tx",
        "colab_type": "code",
        "colab": {}
      },
      "source": [
        ""
      ],
      "execution_count": 0,
      "outputs": []
    },
    {
      "cell_type": "markdown",
      "metadata": {
        "id": "ibsx9QtNWq7y",
        "colab_type": "text"
      },
      "source": [
        "# 3.2 Extend the above box plot to show the effect of gender too along with age on 'Total_Protiens' column\n",
        "\n",
        "[2 point]"
      ]
    },
    {
      "cell_type": "code",
      "metadata": {
        "id": "O_KrIPGJWPDp",
        "colab_type": "code",
        "colab": {}
      },
      "source": [
        ""
      ],
      "execution_count": 0,
      "outputs": []
    },
    {
      "cell_type": "markdown",
      "metadata": {
        "id": "-oG2Y7hsXAdi",
        "colab_type": "text"
      },
      "source": [
        "# 4. Partition the data into 'Train' and 'Test' set\n",
        "\n",
        "Ratio: 90:10\n",
        "\n",
        "[1 point]"
      ]
    },
    {
      "cell_type": "markdown",
      "metadata": {
        "id": "jHGC6KhbXQeS",
        "colab_type": "text"
      },
      "source": [
        "# 5.1 Train a model (Decision Tree) on the 'Train' dataset\n",
        "\n",
        "[2 points]"
      ]
    },
    {
      "cell_type": "code",
      "metadata": {
        "id": "rFhxUTb7XMxi",
        "colab_type": "code",
        "colab": {}
      },
      "source": [
        ""
      ],
      "execution_count": 0,
      "outputs": []
    },
    {
      "cell_type": "markdown",
      "metadata": {
        "id": "pUPiZEIXXacK",
        "colab_type": "text"
      },
      "source": [
        "# 5.2 Predict the outcome for the data in 'Test' set\n",
        "\n",
        "[1 point]"
      ]
    },
    {
      "cell_type": "code",
      "metadata": {
        "id": "JNdVj3lIXjnS",
        "colab_type": "code",
        "colab": {}
      },
      "source": [
        ""
      ],
      "execution_count": 0,
      "outputs": []
    },
    {
      "cell_type": "markdown",
      "metadata": {
        "id": "mUCjLyeLXmWx",
        "colab_type": "text"
      },
      "source": [
        "# 5.3 Compute the accuracy over both the 'Train' & 'Test' set\n",
        "\n",
        "[1 point]"
      ]
    },
    {
      "cell_type": "code",
      "metadata": {
        "id": "TexlTStsXwbi",
        "colab_type": "code",
        "colab": {}
      },
      "source": [
        ""
      ],
      "execution_count": 0,
      "outputs": []
    },
    {
      "cell_type": "markdown",
      "metadata": {
        "id": "iO_xq2N9XxWK",
        "colab_type": "text"
      },
      "source": [
        "# 5.4 Generate the confusion matrix.\n",
        "\n",
        "Explain each element in the confusion matrix.\n",
        "\n",
        "How will you calculate **Precision** and **Recall**? Explain their significance.\n",
        "\n",
        "[2 points]"
      ]
    },
    {
      "cell_type": "code",
      "metadata": {
        "id": "4GHpbcTMYBpR",
        "colab_type": "code",
        "colab": {}
      },
      "source": [
        ""
      ],
      "execution_count": 0,
      "outputs": []
    },
    {
      "cell_type": "markdown",
      "metadata": {
        "id": "1PrbicO7YF2a",
        "colab_type": "text"
      },
      "source": [
        "# 5.5 Plot your decision tree\n",
        "\n",
        "[1 point]"
      ]
    },
    {
      "cell_type": "code",
      "metadata": {
        "id": "v2iKxH5nYJAa",
        "colab_type": "code",
        "colab": {}
      },
      "source": [
        ""
      ],
      "execution_count": 0,
      "outputs": []
    },
    {
      "cell_type": "markdown",
      "metadata": {
        "id": "YBYf8nnlYMeS",
        "colab_type": "text"
      },
      "source": [
        "# 5.6 Can you identify the most important feature in your train dataset\n",
        "\n",
        "[1 point]"
      ]
    },
    {
      "cell_type": "code",
      "metadata": {
        "id": "gzHRi1GKYUVy",
        "colab_type": "code",
        "colab": {}
      },
      "source": [
        ""
      ],
      "execution_count": 0,
      "outputs": []
    },
    {
      "cell_type": "markdown",
      "metadata": {
        "id": "DIu_LOOKY4zq",
        "colab_type": "text"
      },
      "source": [
        "# Bonus: How can you improve the efficiency of your prediction\n",
        "\n",
        "Hint: Bagging Classifier\n",
        "\n",
        "If you have lot of free time:\n",
        "\n",
        "*! pip install xgboost*\n",
        "\n",
        "*import xgboost as xgb*\n",
        "\n",
        "[XGBoost](https://xgboost.readthedocs.io/en/latest/)\n",
        "\n",
        "XGBoost is a gradienbt based Boosting Tree Classifier. \n",
        "\n",
        "\n",
        "Bonus marks for achieving accuracy over 0.74"
      ]
    },
    {
      "cell_type": "code",
      "metadata": {
        "id": "etXnohH5ZIei",
        "colab_type": "code",
        "colab": {}
      },
      "source": [
        ""
      ],
      "execution_count": 0,
      "outputs": []
    }
  ]
}