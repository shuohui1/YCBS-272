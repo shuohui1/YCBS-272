{
  "nbformat": 4,
  "nbformat_minor": 0,
  "metadata": {
    "colab": {
      "name": "Lec 4_2.ipynb",
      "version": "0.3.2",
      "provenance": [],
      "collapsed_sections": [],
      "include_colab_link": true
    },
    "kernelspec": {
      "name": "python3",
      "display_name": "Python 3"
    }
  },
  "cells": [
    {
      "cell_type": "markdown",
      "metadata": {
        "id": "view-in-github",
        "colab_type": "text"
      },
      "source": [
        "<a href=\"https://colab.research.google.com/github/arbi11/YCBS-272/blob/master/Lec_4_2.ipynb\" target=\"_parent\"><img src=\"https://colab.research.google.com/assets/colab-badge.svg\" alt=\"Open In Colab\"/></a>"
      ]
    },
    {
      "cell_type": "markdown",
      "metadata": {
        "id": "tDi5SnH9AhVl",
        "colab_type": "text"
      },
      "source": [
        "# 2.0 Plotting Functions\n",
        "Start with the sine curve from last time"
      ]
    },
    {
      "cell_type": "code",
      "metadata": {
        "id": "BnK4evo9_rbt",
        "colab_type": "code",
        "colab": {}
      },
      "source": [
        "# Load numpy for math/array operations\n",
        "# and matplotlib for plotting\n",
        "import numpy as np\n",
        "import matplotlib.pyplot as plt"
      ],
      "execution_count": 0,
      "outputs": []
    },
    {
      "cell_type": "code",
      "metadata": {
        "id": "bmev3NG_AnYU",
        "colab_type": "code",
        "colab": {}
      },
      "source": [
        "%matplotlib inline\n",
        "# Set up figure size and DPI\n",
        "plt.rcParams['figure.figsize'] = (4,3)\n",
        "plt.rcParams['figure.dpi'] = 150"
      ],
      "execution_count": 0,
      "outputs": []
    },
    {
      "cell_type": "markdown",
      "metadata": {
        "id": "3guFetG-AwjL",
        "colab_type": "text"
      },
      "source": [
        " generating 100 data points between 0 & 10"
      ]
    },
    {
      "cell_type": "code",
      "metadata": {
        "id": "c5UzCmQUAox7",
        "colab_type": "code",
        "colab": {}
      },
      "source": [
        "# Basic line plot\n",
        "xvals = np.arange(0,10,0.1)\n",
        "plt.plot(xvals, np.sin(xvals))\n",
        "plt.xlabel(r'$x$')\n",
        "plt.ylabel(r'$\\sin(x)$')"
      ],
      "execution_count": 0,
      "outputs": []
    },
    {
      "cell_type": "markdown",
      "metadata": {
        "id": "OakUVGrNA4Z8",
        "colab_type": "text"
      },
      "source": [
        "## 2.1.1 Change the style of the line by the keywords \n",
        "\n",
        "we saw last time & the shorthand which serves as the 3rd non-keyword arg"
      ]
    },
    {
      "cell_type": "code",
      "metadata": {
        "id": "qJKiAufQAtgz",
        "colab_type": "code",
        "colab": {}
      },
      "source": [
        "#different line styles \n",
        "idx = 0\n",
        "for marker in ('-', '--', ':', '-.'):\n",
        "    plt.plot(xvals, np.sin(xvals)+idx, ''.join(('k',marker)))\n",
        "    idx += 1"
      ],
      "execution_count": 0,
      "outputs": []
    },
    {
      "cell_type": "markdown",
      "metadata": {
        "id": "Qnub1fFCBIjU",
        "colab_type": "text"
      },
      "source": [
        "## 2.1.2 Also plot with markers"
      ]
    },
    {
      "cell_type": "code",
      "metadata": {
        "id": "c1gnVwyoBGJc",
        "colab_type": "code",
        "colab": {}
      },
      "source": [
        "#Markers\n",
        "plt.plot(xvals, np.sin(xvals), 'k.')\n",
        "plt.xlabel(r'$x$')\n",
        "plt.ylabel(r'$\\sin(x)$')"
      ],
      "execution_count": 0,
      "outputs": []
    },
    {
      "cell_type": "markdown",
      "metadata": {
        "id": "BIZdAihO15ub",
        "colab_type": "text"
      },
      "source": [
        "## Q2.1.2 Change the color of the marker"
      ]
    },
    {
      "cell_type": "markdown",
      "metadata": {
        "id": "bTdXu5vlBSUU",
        "colab_type": "text"
      },
      "source": [
        "Both markers and dot\n",
        "\n",
        "period and hyphen"
      ]
    },
    {
      "cell_type": "code",
      "metadata": {
        "id": "-txbxrtgBcps",
        "colab_type": "code",
        "colab": {}
      },
      "source": [
        "#Markers\n",
        "plt.plot(xvals, np.sin(xvals), 'k.--')\n",
        "plt.xlabel(r'$x$')\n",
        "plt.ylabel(r'$\\sin(x)$')"
      ],
      "execution_count": 0,
      "outputs": []
    },
    {
      "cell_type": "markdown",
      "metadata": {
        "id": "9P6g5-VNBl7s",
        "colab_type": "text"
      },
      "source": [
        "markers hidden"
      ]
    },
    {
      "cell_type": "code",
      "metadata": {
        "id": "GpUVnNjXBMvz",
        "colab_type": "code",
        "colab": {}
      },
      "source": [
        "#Marker frequency (markevery)\n",
        "xvals2 = np.arange(0,10,0.01)\n",
        "plt.plot(xvals2, np.sin(xvals2), 'k.')\n",
        "plt.xlabel(r'$x$')\n",
        "plt.ylabel(r'$\\sin(x)$')"
      ],
      "execution_count": 0,
      "outputs": []
    },
    {
      "cell_type": "markdown",
      "metadata": {
        "id": "oEn3r8KpBy_s",
        "colab_type": "text"
      },
      "source": [
        "Mark every 10th data point"
      ]
    },
    {
      "cell_type": "code",
      "metadata": {
        "id": "ZfkMnEWvBrC0",
        "colab_type": "code",
        "colab": {}
      },
      "source": [
        "#Marker frequency (markevery = 10)\n",
        "xvals2 = np.arange(0,10,0.01)\n",
        "plt.plot(xvals2, np.sin(xvals2), 'k.', markevery=10)\n",
        "plt.xlabel(r'$x$')\n",
        "plt.ylabel(r'$\\sin(x)$')"
      ],
      "execution_count": 0,
      "outputs": []
    },
    {
      "cell_type": "markdown",
      "metadata": {
        "id": "-swUPP17B2gl",
        "colab_type": "text"
      },
      "source": [
        "Markers can be customiuzed too"
      ]
    },
    {
      "cell_type": "code",
      "metadata": {
        "id": "yrvHV2aeBWBk",
        "colab_type": "code",
        "colab": {}
      },
      "source": [
        "#Marker frequency (markevery = 10)\n",
        "xvals2 = np.arange(0,10,0.01)\n",
        "plt.plot(xvals2, np.sin(xvals2), 'r.', markevery=10)\n",
        "plt.xlabel(r'$x$')\n",
        "plt.ylabel(r'$\\sin(x)$')"
      ],
      "execution_count": 0,
      "outputs": []
    },
    {
      "cell_type": "markdown",
      "metadata": {
        "id": "j6jiPFhz2PMS",
        "colab_type": "text"
      },
      "source": [
        "## 2.1.3 Marker frequency"
      ]
    },
    {
      "cell_type": "code",
      "metadata": {
        "id": "6Gyarg_OB7v4",
        "colab_type": "code",
        "colab": {}
      },
      "source": [
        "#Marker frequency (markevery = 10)\n",
        "xvals2 = np.arange(0,10,0.01)\n",
        "plt.plot(xvals2, np.sin(xvals2), 'k.', markevery=10)\n",
        "plt.xlabel(r'$x$')\n",
        "plt.ylabel(r'$\\sin(x)$')"
      ],
      "execution_count": 0,
      "outputs": []
    },
    {
      "cell_type": "code",
      "metadata": {
        "id": "9xlxDuskCBkU",
        "colab_type": "code",
        "colab": {}
      },
      "source": [
        "#Marker frequency (markevery = 10)\n",
        "xvals2 = np.arange(0,10,0.01)\n",
        "plt.plot(xvals2, np.sin(xvals2), 'k.', markevery=10, ms= 1)\n",
        "plt.xlabel(r'$x$')\n",
        "plt.ylabel(r'$\\sin(x)$')"
      ],
      "execution_count": 0,
      "outputs": []
    },
    {
      "cell_type": "markdown",
      "metadata": {
        "id": "k1FqQ3SFCITc",
        "colab_type": "text"
      },
      "source": [
        "## 2.1.4 Wide variety of markets"
      ]
    },
    {
      "cell_type": "code",
      "metadata": {
        "id": "m4ogOEboCFrU",
        "colab_type": "code",
        "colab": {}
      },
      "source": [
        "#different markers\n",
        "idx = 0\n",
        "for marker in ('.', ',', 'o', 'v', '^', '>', '<', '1', '2', '3', '4', 's', 'p', \n",
        "               '*', 'h', 'H', '+', 'x', 'D', 'd', '|', '_'):\n",
        "    plt.plot(idx, 0, ''.join(('r',marker)))\n",
        "    idx += 1\n",
        "plt.xlim(-0.5,idx+0.5)"
      ],
      "execution_count": 0,
      "outputs": []
    },
    {
      "cell_type": "markdown",
      "metadata": {
        "id": "x4HcPW_DCZ00",
        "colab_type": "text"
      },
      "source": [
        "Please do not use all of them in a single plot"
      ]
    },
    {
      "cell_type": "markdown",
      "metadata": {
        "id": "mVnDXKBzCjYM",
        "colab_type": "text"
      },
      "source": [
        "Custom markers using latex literal text"
      ]
    },
    {
      "cell_type": "code",
      "metadata": {
        "id": "6HVn14dpCOgL",
        "colab_type": "code",
        "colab": {}
      },
      "source": [
        "#Latex marker\n",
        "plt.plot(xvals, np.sin(xvals), color='k', linestyle='none', marker= r'$\\mu$', markevery=2)\n",
        "plt.xlabel(r'$x$')\n",
        "plt.ylabel(r'$\\sin(x)$')"
      ],
      "execution_count": 0,
      "outputs": []
    },
    {
      "cell_type": "code",
      "metadata": {
        "id": "93yJHAgvC3oL",
        "colab_type": "code",
        "colab": {}
      },
      "source": [
        "#Latex marker\n",
        "plt.plot(xvals, np.sin(xvals), color='k', linestyle='none', marker= r'$Arbi$', markevery=2, ms= 15)\n",
        "plt.xlabel(r'$x$')\n",
        "plt.ylabel(r'$\\sin(x)$')"
      ],
      "execution_count": 0,
      "outputs": []
    },
    {
      "cell_type": "markdown",
      "metadata": {
        "id": "9N-TleuREPW0",
        "colab_type": "text"
      },
      "source": [
        "## 2.1.5 Also change the line width"
      ]
    },
    {
      "cell_type": "code",
      "metadata": {
        "id": "_Dy1G0rUDRhM",
        "colab_type": "code",
        "colab": {}
      },
      "source": [
        "#line width\n",
        "plt.plot(xvals, np.sin(xvals), linewidth=10)\n",
        "plt.xlabel(r'$x$')\n",
        "plt.ylabel(r'$\\sin(x)$')"
      ],
      "execution_count": 0,
      "outputs": []
    },
    {
      "cell_type": "markdown",
      "metadata": {
        "id": "QIFq5c4eEm9t",
        "colab_type": "text"
      },
      "source": [
        "## 2.1.6 Order of printing\n",
        "\n",
        "the higher the z value the closer it is to u"
      ]
    },
    {
      "cell_type": "code",
      "metadata": {
        "id": "GR_b5f4zETh0",
        "colab_type": "code",
        "colab": {}
      },
      "source": [
        "#zorder\n",
        "plt.plot(xvals, np.sin(xvals), lw=8, zorder=10)\n",
        "plt.plot(xvals+1, np.sin(xvals), lw=8, zorder=1)\n",
        "\n",
        "plt.xlabel(r'$x$')\n",
        "plt.ylabel(r'$\\sin(x)$')"
      ],
      "execution_count": 0,
      "outputs": []
    },
    {
      "cell_type": "markdown",
      "metadata": {
        "id": "2e7vJyOwE8p9",
        "colab_type": "text"
      },
      "source": [
        "alpha = 0 (opaque), 1 (transparent)"
      ]
    },
    {
      "cell_type": "code",
      "metadata": {
        "id": "pKzgayW6Efh8",
        "colab_type": "code",
        "colab": {}
      },
      "source": [
        "#transparency\n",
        "plt.plot(xvals, np.sin(xvals), lw= 10, alpha=0.5)\n",
        "plt.plot(xvals+1, np.sin(xvals), lw=8, zorder=1, color = 'red')\n",
        "\n",
        "plt.xlabel(r'$x$')\n",
        "plt.ylabel(r'$\\sin(x)$')"
      ],
      "execution_count": 0,
      "outputs": []
    },
    {
      "cell_type": "markdown",
      "metadata": {
        "id": "Nlfa-CWwFPr0",
        "colab_type": "text"
      },
      "source": [
        "## 2.1.7 Matplotlib order of printing "
      ]
    },
    {
      "cell_type": "code",
      "metadata": {
        "id": "f1RnksNNE4v0",
        "colab_type": "code",
        "colab": {}
      },
      "source": [
        "#array order matters!\n",
        "shuffled_xvals = np.random.permutation(xvals)\n",
        "plt.plot(shuffled_xvals, np.sin(shuffled_xvals), 'k.-.')\n",
        "plt.xlabel(r'$x$')\n",
        "plt.ylabel(r'$\\sin(x)$')"
      ],
      "execution_count": 0,
      "outputs": []
    },
    {
      "cell_type": "markdown",
      "metadata": {
        "id": "1XbJYJwLFdgt",
        "colab_type": "text"
      },
      "source": [
        "Just markers"
      ]
    },
    {
      "cell_type": "code",
      "metadata": {
        "id": "VqB6TFdVFUvU",
        "colab_type": "code",
        "colab": {}
      },
      "source": [
        "#array order matters!\n",
        "shuffled_xvals = np.random.permutation(xvals)\n",
        "plt.plot(shuffled_xvals, np.sin(shuffled_xvals), 'k.')\n",
        "plt.xlabel(r'$x$')\n",
        "plt.ylabel(r'$\\sin(x)$')"
      ],
      "execution_count": 0,
      "outputs": []
    },
    {
      "cell_type": "markdown",
      "metadata": {
        "id": "oFjMAiH4FvH0",
        "colab_type": "text"
      },
      "source": [
        "So if u have jumbled jata just plot the markers"
      ]
    },
    {
      "cell_type": "code",
      "metadata": {
        "id": "_uskZZvzFe2t",
        "colab_type": "code",
        "colab": {}
      },
      "source": [
        ""
      ],
      "execution_count": 0,
      "outputs": []
    },
    {
      "cell_type": "markdown",
      "metadata": {
        "id": "TSjHqKWFFzaM",
        "colab_type": "text"
      },
      "source": [
        "# 2.1.8 Scatter Plots"
      ]
    },
    {
      "cell_type": "code",
      "metadata": {
        "id": "0ykqd4v3F0Zs",
        "colab_type": "code",
        "colab": {}
      },
      "source": [
        "#basic scatter plot\n",
        "xvals = np.arange(0,10,0.1)\n",
        "plt.scatter(xvals, np.sin(xvals))\n",
        "plt.xlabel(r'$x$')\n",
        "plt.ylabel(r'$\\sin(x)$')"
      ],
      "execution_count": 0,
      "outputs": []
    },
    {
      "cell_type": "code",
      "metadata": {
        "id": "YL513X6qF22E",
        "colab_type": "code",
        "colab": {}
      },
      "source": [
        "#colours\n",
        "plt.scatter(xvals, np.sin(xvals), c= 'r')\n",
        "plt.xlabel(r'$x$')\n",
        "plt.ylabel(r'$\\sin(x)$')"
      ],
      "execution_count": 0,
      "outputs": []
    },
    {
      "cell_type": "markdown",
      "metadata": {
        "id": "e1nHupRKGBFM",
        "colab_type": "text"
      },
      "source": [
        "# 2.1.9 Colors\n",
        "\n",
        "Till now nothing new"
      ]
    },
    {
      "cell_type": "code",
      "metadata": {
        "id": "4zIJEB-LF_B8",
        "colab_type": "code",
        "colab": {}
      },
      "source": [
        "#colours\n",
        "plt.scatter(xvals, np.sin(xvals), c= np.cos(xvals))\n",
        "plt.colorbar()\n",
        "plt.xlabel(r'$x$')\n",
        "plt.ylabel(r'$\\sin(x)$')"
      ],
      "execution_count": 0,
      "outputs": []
    },
    {
      "cell_type": "markdown",
      "metadata": {
        "id": "bAJXKqiSGOHk",
        "colab_type": "text"
      },
      "source": [
        "To represent the 3rd dimension"
      ]
    },
    {
      "cell_type": "code",
      "metadata": {
        "id": "XuhEgN4UGH08",
        "colab_type": "code",
        "colab": {}
      },
      "source": [
        "#colours\n",
        "plt.scatter(xvals, np.sin(xvals), c= 'r', edgecolors='k')\n",
        "plt.xlabel(r'$x$')\n",
        "plt.ylabel(r'$\\sin(x)$')"
      ],
      "execution_count": 0,
      "outputs": []
    },
    {
      "cell_type": "markdown",
      "metadata": {
        "id": "o9PvcoXO8sUi",
        "colab_type": "text"
      },
      "source": [
        "## 2.1.10 Size of markers"
      ]
    },
    {
      "cell_type": "code",
      "metadata": {
        "id": "Y-tXY-FGGd80",
        "colab_type": "code",
        "colab": {}
      },
      "source": [
        "#sizes\n",
        "plt.scatter(xvals, np.sin(xvals), c=np.cos(xvals), s= 1)\n",
        "plt.xlabel(r'$x$')\n",
        "plt.ylabel(r'$\\sin(x)$')"
      ],
      "execution_count": 0,
      "outputs": []
    },
    {
      "cell_type": "markdown",
      "metadata": {
        "id": "szJMuoaOG7y8",
        "colab_type": "text"
      },
      "source": [
        "even an array can be passed as the size of the data point"
      ]
    },
    {
      "cell_type": "code",
      "metadata": {
        "id": "UjN0ZVgWGzxc",
        "colab_type": "code",
        "colab": {}
      },
      "source": [
        "#sizes\n",
        "plt.scatter(xvals, np.sin(xvals), c=np.cos(xvals), s= np.power(xvals, 3))\n",
        "plt.xlabel(r'$x$')\n",
        "plt.ylabel(r'$\\sin(x)$')"
      ],
      "execution_count": 0,
      "outputs": []
    },
    {
      "cell_type": "markdown",
      "metadata": {
        "id": "8lXf4f_iHFAM",
        "colab_type": "text"
      },
      "source": [
        "Is this 4d plot"
      ]
    },
    {
      "cell_type": "markdown",
      "metadata": {
        "id": "E-LPeQZQ9dEV",
        "colab_type": "text"
      },
      "source": [
        "## Q 2.1.10 Plot with descending order of marker size"
      ]
    },
    {
      "cell_type": "code",
      "metadata": {
        "id": "lwpH9iVS9iDG",
        "colab_type": "code",
        "colab": {}
      },
      "source": [
        ""
      ],
      "execution_count": 0,
      "outputs": []
    },
    {
      "cell_type": "markdown",
      "metadata": {
        "id": "Q1cFQqGDHLOd",
        "colab_type": "text"
      },
      "source": [
        "## 2.1.11 Why not use scatter all the time?"
      ]
    },
    {
      "cell_type": "code",
      "metadata": {
        "id": "FXXWB3LCG6-E",
        "colab_type": "code",
        "colab": {}
      },
      "source": [
        "%%timeit -n3 -r3 plt.plot(np.random.uniform(size=int(1e6)), np.random.uniform(size=int(1e6)), 'k,')\n",
        "plt.clf()"
      ],
      "execution_count": 0,
      "outputs": []
    },
    {
      "cell_type": "code",
      "metadata": {
        "id": "9hRnCd1OHQsk",
        "colab_type": "code",
        "colab": {}
      },
      "source": [
        "%%timeit -n3 -r3 plt.scatter(np.random.uniform(size=int(1e6)), np.random.uniform(size=int(1e6)), c='k', marker=',')\n",
        "plt.clf()"
      ],
      "execution_count": 0,
      "outputs": []
    },
    {
      "cell_type": "markdown",
      "metadata": {
        "id": "8FLn9eOrHa2s",
        "colab_type": "text"
      },
      "source": [
        "Plot faster\n",
        "\n",
        "Unless you need the ability to change the color or marker sizes at each data point"
      ]
    },
    {
      "cell_type": "code",
      "metadata": {
        "id": "pcP1v-iuHSy0",
        "colab_type": "code",
        "colab": {}
      },
      "source": [
        ""
      ],
      "execution_count": 0,
      "outputs": []
    }
  ]
}