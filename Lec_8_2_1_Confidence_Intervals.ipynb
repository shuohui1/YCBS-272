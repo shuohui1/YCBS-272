{
  "nbformat": 4,
  "nbformat_minor": 0,
  "metadata": {
    "kernelspec": {
      "display_name": "Python 3",
      "language": "python",
      "name": "python3"
    },
    "language_info": {
      "codemirror_mode": {
        "name": "ipython",
        "version": 3
      },
      "file_extension": ".py",
      "mimetype": "text/x-python",
      "name": "python",
      "nbconvert_exporter": "python",
      "pygments_lexer": "ipython3",
      "version": "3.6.3"
    },
    "colab": {
      "name": "Lec 8_2_1 Confidence Intervals.ipynb",
      "version": "0.3.2",
      "provenance": [],
      "collapsed_sections": [],
      "include_colab_link": true
    }
  },
  "cells": [
    {
      "cell_type": "markdown",
      "metadata": {
        "id": "view-in-github",
        "colab_type": "text"
      },
      "source": [
        "<a href=\"https://colab.research.google.com/github/arbi11/YCBS-272/blob/master/Lec_8_2_1_Confidence_Intervals.ipynb\" target=\"_parent\"><img src=\"https://colab.research.google.com/assets/colab-badge.svg\" alt=\"Open In Colab\"/></a>"
      ]
    },
    {
      "cell_type": "markdown",
      "metadata": {
        "id": "8nHLbNOcSBHA",
        "colab_type": "text"
      },
      "source": [
        "## Statistical Inference with Confidence Intervals\n",
        "\n",
        "In this notebook we will explore the concept of confidence intervals, how to calculate them, interpret them, and what confidence really means.  \n",
        "\n",
        "More specifically, we're going to review how to calculate confidence intervals of population proportions and means.\n",
        "\n",
        "### Why Confidence Intervals?\n",
        "\n",
        "Confidence intervals are a calculated range or boundary around a parameter or a statistic that is supported mathematically with a certain level of confidence.  For example,  we saw an example where we estimated, with 95% confidence, that the population proportion of parents with a toddler that use a car seat for all travel with their toddler was somewhere between 82.2% and 87.7%.\n",
        "\n",
        "This is *__different__* than having a 95% probability that the true population proportion is within our confidence interval.\n",
        "\n",
        "Essentially, if we were to repeat this process, 95% of our calculated confidence intervals would contain the true proportion.\n",
        "\n",
        "### How are Confidence Intervals Calculated?\n",
        "\n",
        "Our equation for calculating confidence intervals is as follows:\n",
        "\n",
        "$$Best\\ Estimate \\pm Margin\\ of\\ Error$$\n",
        "\n",
        "Where the *Best Estimate* is the **observed population proportion or mean** and the *Margin of Error* is the **t-multiplier**.\n",
        "\n",
        "The t-multiplier is calculated based on the degrees of freedom and desired confidence level.  For samples with more than 30 observations and a confidence level of 95%, the t-multiplier is 1.96\n",
        "\n",
        "The equation to create a 95% confidence interval can also be shown as:\n",
        "\n",
        "$$Population\\ Proportion\\ or\\ Mean\\ \\pm (t-multiplier *\\ Standard\\ Error)$$\n",
        "\n",
        "Lastly, the Standard Error is calculated differenly for population proportion and mean:\n",
        "\n",
        "$$Standard\\ Error \\ for\\ Population\\ Proportion = \\sqrt{\\frac{Population\\ Proportion * (1 - Population\\ Proportion)}{Number\\ Of\\ Observations}}$$\n",
        "\n",
        "$$Standard\\ Error \\ for\\ Mean = \\frac{Standard\\ Deviation}{\\sqrt{Number\\ Of\\ Observations}}$$\n"
      ]
    },
    {
      "cell_type": "code",
      "metadata": {
        "id": "si06dSB7SBHE",
        "colab_type": "code",
        "colab": {}
      },
      "source": [
        "import numpy as np"
      ],
      "execution_count": 0,
      "outputs": []
    },
    {
      "cell_type": "code",
      "metadata": {
        "id": "yzj_dazPSBHI",
        "colab_type": "code",
        "colab": {}
      },
      "source": [
        "tstar = 1.96\n",
        "p = .85\n",
        "n = 659\n",
        "\n",
        "se = np.sqrt((p * (1 - p))/n)\n",
        "se"
      ],
      "execution_count": 0,
      "outputs": []
    },
    {
      "cell_type": "code",
      "metadata": {
        "id": "AF2q_rpWSBHL",
        "colab_type": "code",
        "colab": {}
      },
      "source": [
        "lcb = p - tstar * se\n",
        "ucb = p + tstar * se\n",
        "(lcb, ucb)"
      ],
      "execution_count": 0,
      "outputs": []
    },
    {
      "cell_type": "code",
      "metadata": {
        "id": "lY7jPk7hSBHN",
        "colab_type": "code",
        "colab": {}
      },
      "source": [
        "import statsmodels.api as sm"
      ],
      "execution_count": 0,
      "outputs": []
    },
    {
      "cell_type": "code",
      "metadata": {
        "id": "06h7GewpSBHQ",
        "colab_type": "code",
        "colab": {}
      },
      "source": [
        "sm.stats.proportion_confint(n * p, n)"
      ],
      "execution_count": 0,
      "outputs": []
    },
    {
      "cell_type": "markdown",
      "metadata": {
        "id": "X_bYXJnoSBHW",
        "colab_type": "text"
      },
      "source": [
        "Now, lets load Cartwheel dataset and calculate a confidence interval for our mean cartwheel distance:"
      ]
    },
    {
      "cell_type": "code",
      "metadata": {
        "id": "OOQKRqgsSC97",
        "colab_type": "code",
        "colab": {}
      },
      "source": [
        "! git clone https://github.com/arbi11/YCBS-272.git"
      ],
      "execution_count": 0,
      "outputs": []
    },
    {
      "cell_type": "code",
      "metadata": {
        "id": "VVDOlmxfSF5T",
        "colab_type": "code",
        "colab": {}
      },
      "source": [
        "! ls"
      ],
      "execution_count": 0,
      "outputs": []
    },
    {
      "cell_type": "code",
      "metadata": {
        "id": "xF3fcV_zSHYW",
        "colab_type": "code",
        "colab": {}
      },
      "source": [
        "cd YCBS-272/"
      ],
      "execution_count": 0,
      "outputs": []
    },
    {
      "cell_type": "code",
      "metadata": {
        "id": "OjOLaEQISJA9",
        "colab_type": "code",
        "colab": {}
      },
      "source": [
        "! ls"
      ],
      "execution_count": 0,
      "outputs": []
    },
    {
      "cell_type": "code",
      "metadata": {
        "id": "E2nOnZMZSBHX",
        "colab_type": "code",
        "colab": {}
      },
      "source": [
        "import pandas as pd\n",
        "\n",
        "df = pd.read_csv(\"Cartwheeldata.csv\")"
      ],
      "execution_count": 0,
      "outputs": []
    },
    {
      "cell_type": "code",
      "metadata": {
        "id": "70k9jCRhSBHa",
        "colab_type": "code",
        "colab": {}
      },
      "source": [
        "df.head()"
      ],
      "execution_count": 0,
      "outputs": []
    },
    {
      "cell_type": "code",
      "metadata": {
        "id": "8A_SjS7kSBHd",
        "colab_type": "code",
        "colab": {}
      },
      "source": [
        "mean = df[\"CWDistance\"].mean()\n",
        "sd = df[\"CWDistance\"].std()\n",
        "n = len(df)\n",
        "\n",
        "n"
      ],
      "execution_count": 0,
      "outputs": []
    },
    {
      "cell_type": "code",
      "metadata": {
        "id": "9AM1WaFoSBHg",
        "colab_type": "code",
        "colab": {}
      },
      "source": [
        "tstar = 2.064\n",
        "\n",
        "se = sd/np.sqrt(n)\n",
        "\n",
        "se"
      ],
      "execution_count": 0,
      "outputs": []
    },
    {
      "cell_type": "code",
      "metadata": {
        "id": "fzHumMpOSBHp",
        "colab_type": "code",
        "colab": {}
      },
      "source": [
        "lcb = mean - tstar * se\n",
        "ucb = mean + tstar * se\n",
        "(lcb, ucb)"
      ],
      "execution_count": 0,
      "outputs": []
    },
    {
      "cell_type": "code",
      "metadata": {
        "id": "z9GOFI7kSBHr",
        "colab_type": "code",
        "colab": {}
      },
      "source": [
        "sm.stats.DescrStatsW(df[\"CWDistance\"]).zconfint_mean()"
      ],
      "execution_count": 0,
      "outputs": []
    },
    {
      "cell_type": "code",
      "metadata": {
        "id": "L0zBoAoATnzj",
        "colab_type": "code",
        "colab": {}
      },
      "source": [
        ""
      ],
      "execution_count": 0,
      "outputs": []
    },
    {
      "cell_type": "markdown",
      "metadata": {
        "id": "C8hkCCGTToJL",
        "colab_type": "text"
      },
      "source": [
        "# Confidence Intervals\n",
        "\n",
        "\n",
        "This tutorial is going to demonstrate how to load data, clean/manipulate a dataset, and construct a confidence interval for the difference between two population proportions and means.\n",
        "\n",
        "We will use the 2015-2016 wave of the NHANES data for our analysis.\n",
        "\n",
        "*Note: We have provided a notebook that includes more analysis, with examples of confidence intervals for one population proportions and means, in addition to the analysis I will show you in this tutorial.  I highly recommend checking it out!\n",
        "\n",
        "For our population proportions, we will analyze the difference of proportion between female and male smokers.  The column that specifies smoker and non-smoker is \"SMQ020\" in our dataset.\n",
        "\n",
        "For our population means, we will analyze the difference of mean of body mass index within our female and male populations.  The column that includes the body mass index value is \"BMXBMI\".\n",
        "\n",
        "Additionally, the gender is specified in the column \"RIAGENDR\"."
      ]
    },
    {
      "cell_type": "code",
      "metadata": {
        "id": "YyZ1HwmhTqkd",
        "colab_type": "code",
        "colab": {}
      },
      "source": [
        "import pandas as pd\n",
        "import numpy as np\n",
        "import matplotlib\n",
        "matplotlib.use('Agg')\n",
        "import seaborn as sns\n",
        "%matplotlib inline\n",
        "import matplotlib.pyplot as plt\n",
        "import statsmodels.api as sm"
      ],
      "execution_count": 0,
      "outputs": []
    },
    {
      "cell_type": "code",
      "metadata": {
        "id": "qmnG7E1wTrFF",
        "colab_type": "code",
        "colab": {}
      },
      "source": [
        "url = \"nhanes_2015_2016.csv\"\n",
        "da = pd.read_csv(url)"
      ],
      "execution_count": 0,
      "outputs": []
    },
    {
      "cell_type": "markdown",
      "metadata": {
        "id": "o5ZN_ujdTv42",
        "colab_type": "text"
      },
      "source": [
        "### Investigating and Cleaning Data"
      ]
    },
    {
      "cell_type": "code",
      "metadata": {
        "id": "7jEbUs7XTvnq",
        "colab_type": "code",
        "colab": {}
      },
      "source": [
        "da[\"SMQ020x\"] = da.SMQ020.replace({1: \"Yes\", 2: \"No\", 7: np.nan, 9: np.nan})\n",
        "da[\"SMQ020x\"]"
      ],
      "execution_count": 0,
      "outputs": []
    },
    {
      "cell_type": "code",
      "metadata": {
        "id": "tyhzs2ohTtAU",
        "colab_type": "code",
        "colab": {}
      },
      "source": [
        "da[\"RIAGENDRx\"] = da.RIAGENDR.replace({1: \"Male\", 2: \"Female\"})\n",
        "da[\"RIAGENDRx\"]"
      ],
      "execution_count": 0,
      "outputs": []
    },
    {
      "cell_type": "code",
      "metadata": {
        "id": "OU4KLEnIT1hB",
        "colab_type": "code",
        "colab": {}
      },
      "source": [
        "dx = da[[\"SMQ020x\", \"RIAGENDRx\"]].dropna()\n",
        "pd.crosstab(dx.SMQ020x, dx.RIAGENDRx)"
      ],
      "execution_count": 0,
      "outputs": []
    },
    {
      "cell_type": "code",
      "metadata": {
        "id": "Zu8B-u52T3Yy",
        "colab_type": "code",
        "colab": {}
      },
      "source": [
        "dz = dx.groupby(\"RIAGENDRx\").agg({\"SMQ020x\": [np.mean, np.size]})\n",
        "dz.column = [\"Proportion\", \"Total n\"]\n",
        "dz"
      ],
      "execution_count": 0,
      "outputs": []
    },
    {
      "cell_type": "markdown",
      "metadata": {
        "id": "2zRYHwAxT7PC",
        "colab_type": "text"
      },
      "source": [
        "### Constructing Confidence Intervals\n",
        "\n",
        "Now that we have the population proportions of male and female smokers, we can begin to calculate confidence intervals. We know that the equation is as follows:\n",
        "\n",
        "$$Best\\ Estimate \\pm Margin\\ of\\ Error$$\n",
        "\n",
        "Where the *Best Estimate* is the **observed population proportion or mean** from the sample and the *Margin of Error* is the **t-multiplier**.\n",
        "\n",
        "The equation to create a 95% confidence interval can also be shown as:\n",
        "\n",
        "$$Population\\ Proportion\\ or\\ Mean\\ \\pm (t-multiplier *\\ Standard\\ Error)$$\n",
        "\n",
        "The Standard Error is calculated differenly for population proportion and mean:\n",
        "\n",
        "$$Standard\\ Error \\ for\\ Population\\ Proportion = \\sqrt{\\frac{Population\\ Proportion * (1 - Population\\ Proportion)}{Number\\ Of\\ Observations}}$$\n",
        "\n",
        "$$Standard\\ Error \\ for\\ Mean = \\frac{Standard\\ Deviation}{\\sqrt{Number\\ Of\\ Observations}}$$\n",
        "\n",
        "Lastly, the standard error for difference of population proportions and means is:\n",
        "\n",
        "$$Standard\\ Error\\ for\\ Difference\\ of\\ Two\\ Population\\ Proportions\\ Or\\ Means = \\sqrt{SE_{Proportion\\ 1}^2 + SE_{Proportion\\ 2} ^2}$$\n",
        "\n",
        "#### Difference of Two Population Proportions"
      ]
    },
    {
      "cell_type": "code",
      "metadata": {
        "id": "vqa5pvPYT90X",
        "colab_type": "code",
        "colab": {}
      },
      "source": [
        "p = .304845\n",
        "n = 2972\n",
        "se_female = np.sqrt(p * (1 - p)/n)\n",
        "se_female"
      ],
      "execution_count": 0,
      "outputs": []
    },
    {
      "cell_type": "code",
      "metadata": {
        "id": "EP4GVbcaT-ZG",
        "colab_type": "code",
        "colab": {}
      },
      "source": [
        "p = .513258\n",
        "n = 2753\n",
        "se_male = np.sqrt(p * (1 - p)/ n)\n",
        "se_male"
      ],
      "execution_count": 0,
      "outputs": []
    },
    {
      "cell_type": "code",
      "metadata": {
        "id": "YsW-d4nJUCTw",
        "colab_type": "code",
        "colab": {}
      },
      "source": [
        "se_diff = np.sqrt(se_female**2 + se_male**2)\n",
        "se_diff"
      ],
      "execution_count": 0,
      "outputs": []
    },
    {
      "cell_type": "code",
      "metadata": {
        "id": "ncUnPeaAUEaU",
        "colab_type": "code",
        "colab": {}
      },
      "source": [
        "d = .304845 - .513258\n",
        "lcb = d - 1.96 * se_diff\n",
        "ucb = d + 1.96 * se_diff\n",
        "(lcb, ucb)"
      ],
      "execution_count": 0,
      "outputs": []
    },
    {
      "cell_type": "markdown",
      "metadata": {
        "id": "SQI0-RTTUGgr",
        "colab_type": "text"
      },
      "source": [
        "#### Difference of Two Population Means"
      ]
    },
    {
      "cell_type": "code",
      "metadata": {
        "id": "13o3tlJeUI47",
        "colab_type": "code",
        "colab": {}
      },
      "source": [
        "da[\"BMXBMI\"].head()"
      ],
      "execution_count": 0,
      "outputs": []
    },
    {
      "cell_type": "code",
      "metadata": {
        "id": "XwMJlg-jUKeY",
        "colab_type": "code",
        "colab": {}
      },
      "source": [
        "da.groupby(\"RIAGENDRx\").agg({\"BMXBMI\": [np.mean, np.std, np.size]})"
      ],
      "execution_count": 0,
      "outputs": []
    },
    {
      "cell_type": "code",
      "metadata": {
        "id": "EYTa1-RGUL6W",
        "colab_type": "code",
        "colab": {}
      },
      "source": [
        "sem_female = 7.753319 / np.sqrt(2976)\n",
        "sem_male = 6.252568 / np.sqrt(2759)\n",
        "(sem_female, sem_male)"
      ],
      "execution_count": 0,
      "outputs": []
    },
    {
      "cell_type": "code",
      "metadata": {
        "id": "u7n2O-oNUNZJ",
        "colab_type": "code",
        "colab": {}
      },
      "source": [
        "sem_diff = np.sqrt(sem_female**2 + sem_male**2)\n",
        "sem_diff"
      ],
      "execution_count": 0,
      "outputs": []
    },
    {
      "cell_type": "code",
      "metadata": {
        "id": "wyNACYjJUO7v",
        "colab_type": "code",
        "colab": {}
      },
      "source": [
        "d = 29.939946 - 28.778072"
      ],
      "execution_count": 0,
      "outputs": []
    },
    {
      "cell_type": "code",
      "metadata": {
        "id": "0Rh1Kl19UQiM",
        "colab_type": "code",
        "colab": {}
      },
      "source": [
        "lcb = d - 1.96 * sem_diff\n",
        "ucb = d + 1.96 * sem_diff\n",
        "(lcb, ucb)"
      ],
      "execution_count": 0,
      "outputs": []
    }
  ]
}